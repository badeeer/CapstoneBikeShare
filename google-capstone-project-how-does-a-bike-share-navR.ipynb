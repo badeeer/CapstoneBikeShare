{
 "cells": [
  {
   "cell_type": "markdown",
   "metadata": {},
   "source": [
    "Case Study: How Does a Bike-Share Navigate Speedy Success?\n",
    "============================================================\n",
    "\n",
    "## Introduction \n",
    "This is a case study about the **Cyclistic bike-share analysis**, in this case, I will be analyzed by following the steps of **the data analysis process: ask, prepare, process, analyze, share, and act**.\n",
    "\n",
    "### About the Company\n",
    "In 2016, **Cyclistic** launched a successful bike-share offering. Since then, the program has grown to a fleet of 5,824 bicycles that are geotracked and locked into a network of 692 stations across Chicago. The bikes can be unlocked from one station and returned to any other station in the system at any time.\n",
    "\n",
    "### Business task:\n",
    "Analyze the Cyclistic data set for one year to understand how annual members and casual riders use Cyclistic bikes differently.\n",
    "\n",
    "### Stakeholders:\n",
    "\n",
    "**Lily Moreno**: The director of marketing. Moreno is responsible for the development of campaigns and initiatives to promote the bike-share program.\n",
    "**Cyclistic marketing analytics team: ** A team of data analysts who are responsible for collecting, analyzing, and reporting data that helps guide Cyclistic marketing strategy.\n",
    "**Cyclistic executive team**: The executive team will decide whether to approve the recommended marketing program.\n",
    "\n",
    "### Deliverables:\n",
    "\n",
    "> - A description of all data sources used\n",
    "> - Documentation of any cleaning or manipulation of data\n",
    "> - A summary of the analysis\n",
    "> - Supporting visualizations and key findings\n",
    "> - Top three to four recommendations based on the analysis\n",
    "\n",
    "## STEP ONE: **ASK**\n",
    "**Lily Moreno**(The director of marketing and my manager) has set a clear goal: Design marketing strategies aimed at converting casual riders into annual members. To do that, however, the marketing analyst team needs to better understand how annual members and casual riders differ, why casual riders would buy a membership, and how digital media could affect their marketing tactics. Moreno and her team are interested in analyzing the Cyclistic historical bike trip data to identify trends by asking three questions that will guide the future marketing program:\n",
    "\n",
    "**1.** How do annual members and casual riders use Cyclistic bikes differently?\n",
    "\n",
    "**2.** Why would casual riders buy Cyclistic annual memberships?\n",
    "\n",
    "**3.** How can Cyclistic use digital media to influence casual riders to become members?\n",
    "\n",
    "**Moreno** has assigned you the first question to answer: **How do annual members and casual riders use Cyclistic bikes differently?**, to answer this question I should prepare data by collecting it from a trusted source.\n",
    "\n",
    "## STEP TWO: PREPARE\n",
    "the raw data is located in [here](https://divvy-tripdata.s3.amazonaws.com/index.html), and it is publicly available under this [license](https://ride.divvybikes.com/data-license-agreement) with some privacy restriction.\n",
    "\n",
    "\n",
    "**ROCCC data**\n",
    "\n",
    "> - **Reliable**: this dataset is complete, accurate and it is from a trusted source\n",
    "\n",
    "> - **Original:** the data collected from the first part means it is Original \n",
    "\n",
    "> - **Comprehensive:** the data contain information that we need to do the analysis\n",
    "\n",
    "> -  **Current:** I choose the period from September 2021 to August 2022 \n",
    "\n",
    "> - **Cited:** the data is [here](https://divvy-tripdata.s3.amazonaws.com/index.html)\n",
    "\n",
    "before downloading the raw data we need to install some dependencies\n",
    "\n",
    "***install the libraries***\n"
   ]
  },
  {
   "cell_type": "code",
   "execution_count": 1,
   "metadata": {
    "execution": {
     "iopub.execute_input": "2023-02-22T14:54:57.287953Z",
     "iopub.status.busy": "2023-02-22T14:54:57.285810Z",
     "iopub.status.idle": "2023-02-22T15:00:09.805819Z"
    }
   },
   "outputs": [
    {
     "name": "stderr",
     "output_type": "stream",
     "text": [
      "Installing package into ‘/usr/local/lib/R/site-library’\n",
      "(as ‘lib’ is unspecified)\n",
      "\n",
      "also installing the dependencies ‘vctrs’, ‘broom’, ‘conflicted’, ‘dplyr’, ‘forcats’, ‘ggplot2’, ‘lubridate’, ‘readr’, ‘readxl’, ‘tidyr’\n",
      "\n",
      "\n",
      "Warning message in install.packages(\"tidyverse\"):\n",
      "“installation of package ‘vctrs’ had non-zero exit status”\n",
      "Warning message in install.packages(\"tidyverse\"):\n",
      "“installation of package ‘dplyr’ had non-zero exit status”\n",
      "Warning message in install.packages(\"tidyverse\"):\n",
      "“installation of package ‘tidyr’ had non-zero exit status”\n",
      "Installing package into ‘/usr/local/lib/R/site-library’\n",
      "(as ‘lib’ is unspecified)\n",
      "\n",
      "Installing package into ‘/usr/local/lib/R/site-library’\n",
      "(as ‘lib’ is unspecified)\n",
      "\n",
      "Installing package into ‘/usr/local/lib/R/site-library’\n",
      "(as ‘lib’ is unspecified)\n",
      "\n",
      "Installing package into ‘/usr/local/lib/R/site-library’\n",
      "(as ‘lib’ is unspecified)\n",
      "\n"
     ]
    }
   ],
   "source": [
    "install.packages(\"tidyverse\")\n",
    "install.packages(\"janitor\")\n",
    "install.packages(\"skimr\")\n",
    "install.packages(\"ggplot2\")\n",
    "install.packages(\"lubridate\")\n"
   ]
  },
  {
   "cell_type": "markdown",
   "metadata": {},
   "source": [
    "1. tidyverse: a core system of packages for data manipulation, visualization, and other things. To see more visit the following link  [https://www.tidyverse.org/](https://www.tidyverse.org/)\n",
    "\n",
    "2. dplyr: is a library about data manipulation, providing a consistent set of verbs that help you solve the most common data manipulation challenges. For more info you can [https://dplyr.tidyverse.org/](https://dplyr.tidyverse.org/)\n",
    "\n",
    "3. Janitor: is a simple library for cleaning dirty data, you can read more about it in this source, [janitor documentation](https://rdocumentation.org/packages/janitor/versions/2.1.0)\n",
    "\n",
    "4. skimr: is a comprehensive statistic summary for a data frame, for more [skimr](https://cran.r-project.org/web/packages/skimr/vignettes/skimr.html)\n",
    "\n",
    "5. ggplot2: is a data visualization library, that visually provides a more flexible show. more of it check this link [https://ggplot2.tidyverse.org/](https://ggplot2.tidyverse.org/)\n",
    "\n",
    "6. lubridate: is a date-time library dealing with formats and separators to handle the changing time zone. See this link [https://lubridate.tidyverse.org/](https://lubridate.tidyverse.org/)\n",
    "\n",
    "7. Tibble: is a modern data frame that is lazy and surly: they do less, check this useful documents [https://tibble.tidyverse.org/](https://tibble.tidyverse.org/)\n",
    "\n",
    "8. markdown: is a library that provides your analyses into high-quality documents, again and last see this source  [https://rmarkdown.rstudio.com/](https://rmarkdown.rstudio.com/)\n",
    "\n",
    "***load the libraries***\n"
   ]
  },
  {
   "cell_type": "code",
   "execution_count": 2,
   "metadata": {
    "execution": {
     "iopub.execute_input": "2023-02-22T15:00:26.756942Z",
     "iopub.status.busy": "2023-02-22T15:00:26.712755Z",
     "iopub.status.idle": "2023-02-22T15:00:27.536351Z"
    }
   },
   "outputs": [
    {
     "name": "stderr",
     "output_type": "stream",
     "text": [
      "── \u001b[1mAttaching core tidyverse packages\u001b[22m ──────────────────────── tidyverse 2.0.0 ──\n",
      "\u001b[32m✔\u001b[39m \u001b[34mdplyr    \u001b[39m 1.0.10     \u001b[32m✔\u001b[39m \u001b[34mreadr    \u001b[39m 2.1.4 \n",
      "\u001b[32m✔\u001b[39m \u001b[34mforcats  \u001b[39m 1.0.0      \u001b[32m✔\u001b[39m \u001b[34mstringr  \u001b[39m 1.5.0 \n",
      "\u001b[32m✔\u001b[39m \u001b[34mggplot2  \u001b[39m 3.4.1      \u001b[32m✔\u001b[39m \u001b[34mtibble   \u001b[39m 3.1.8 \n",
      "\u001b[32m✔\u001b[39m \u001b[34mlubridate\u001b[39m 1.9.2      \u001b[32m✔\u001b[39m \u001b[34mtidyr    \u001b[39m 1.2.1 \n",
      "\u001b[32m✔\u001b[39m \u001b[34mpurrr    \u001b[39m 1.0.1      \n",
      "── \u001b[1mConflicts\u001b[22m ────────────────────────────────────────── tidyverse_conflicts() ──\n",
      "\u001b[31m✖\u001b[39m \u001b[34mdplyr\u001b[39m::\u001b[32mfilter()\u001b[39m masks \u001b[34mstats\u001b[39m::filter()\n",
      "\u001b[31m✖\u001b[39m \u001b[34mdplyr\u001b[39m::\u001b[32mlag()\u001b[39m    masks \u001b[34mstats\u001b[39m::lag()\n",
      "\u001b[36mℹ\u001b[39m Use the conflicted package (\u001b[3m\u001b[34m<http://conflicted.r-lib.org/>\u001b[39m\u001b[23m) to force all conflicts to become errors\n",
      "\n",
      "Attaching package: ‘janitor’\n",
      "\n",
      "\n",
      "The following objects are masked from ‘package:stats’:\n",
      "\n",
      "    chisq.test, fisher.test\n",
      "\n",
      "\n"
     ]
    }
   ],
   "source": [
    "library(tidyverse)\n",
    "library(dplyr) \n",
    "library(janitor) \n",
    "library(skimr) \n",
    "library(ggplot2) \n",
    "library(lubridate) \n",
    "library(tibble)\n",
    "library(rmarkdown)"
   ]
  },
  {
   "cell_type": "markdown",
   "metadata": {},
   "source": [
    "***then, I download the dataset that are from February 2022 to January 2023***"
   ]
  },
  {
   "cell_type": "code",
   "execution_count": 3,
   "metadata": {
    "execution": {
     "iopub.execute_input": "2023-02-22T15:00:50.520263Z",
     "iopub.status.busy": "2023-02-22T15:00:50.517560Z",
     "iopub.status.idle": "2023-02-22T15:01:23.704613Z"
    }
   },
   "outputs": [
    {
     "name": "stderr",
     "output_type": "stream",
     "text": [
      "\u001b[1mRows: \u001b[22m\u001b[34m115609\u001b[39m \u001b[1mColumns: \u001b[22m\u001b[34m13\u001b[39m\n",
      "\u001b[36m──\u001b[39m \u001b[1mColumn specification\u001b[22m \u001b[36m────────────────────────────────────────────────────────\u001b[39m\n",
      "\u001b[1mDelimiter:\u001b[22m \",\"\n",
      "\u001b[31mchr\u001b[39m  (7): ride_id, rideable_type, start_station_name, start_station_id, end_...\n",
      "\u001b[32mdbl\u001b[39m  (4): start_lat, start_lng, end_lat, end_lng\n",
      "\u001b[34mdttm\u001b[39m (2): started_at, ended_at\n",
      "\n",
      "\u001b[36mℹ\u001b[39m Use `spec()` to retrieve the full column specification for this data.\n",
      "\u001b[36mℹ\u001b[39m Specify the column types or set `show_col_types = FALSE` to quiet this message.\n",
      "\u001b[1mRows: \u001b[22m\u001b[34m284042\u001b[39m \u001b[1mColumns: \u001b[22m\u001b[34m13\u001b[39m\n",
      "\u001b[36m──\u001b[39m \u001b[1mColumn specification\u001b[22m \u001b[36m────────────────────────────────────────────────────────\u001b[39m\n",
      "\u001b[1mDelimiter:\u001b[22m \",\"\n",
      "\u001b[31mchr\u001b[39m  (7): ride_id, rideable_type, start_station_name, start_station_id, end_...\n",
      "\u001b[32mdbl\u001b[39m  (4): start_lat, start_lng, end_lat, end_lng\n",
      "\u001b[34mdttm\u001b[39m (2): started_at, ended_at\n",
      "\n",
      "\u001b[36mℹ\u001b[39m Use `spec()` to retrieve the full column specification for this data.\n",
      "\u001b[36mℹ\u001b[39m Specify the column types or set `show_col_types = FALSE` to quiet this message.\n",
      "\u001b[1mRows: \u001b[22m\u001b[34m371249\u001b[39m \u001b[1mColumns: \u001b[22m\u001b[34m13\u001b[39m\n",
      "\u001b[36m──\u001b[39m \u001b[1mColumn specification\u001b[22m \u001b[36m────────────────────────────────────────────────────────\u001b[39m\n",
      "\u001b[1mDelimiter:\u001b[22m \",\"\n",
      "\u001b[31mchr\u001b[39m  (7): ride_id, rideable_type, start_station_name, start_station_id, end_...\n",
      "\u001b[32mdbl\u001b[39m  (4): start_lat, start_lng, end_lat, end_lng\n",
      "\u001b[34mdttm\u001b[39m (2): started_at, ended_at\n",
      "\n",
      "\u001b[36mℹ\u001b[39m Use `spec()` to retrieve the full column specification for this data.\n",
      "\u001b[36mℹ\u001b[39m Specify the column types or set `show_col_types = FALSE` to quiet this message.\n",
      "\u001b[1mRows: \u001b[22m\u001b[34m769204\u001b[39m \u001b[1mColumns: \u001b[22m\u001b[34m13\u001b[39m\n",
      "\u001b[36m──\u001b[39m \u001b[1mColumn specification\u001b[22m \u001b[36m────────────────────────────────────────────────────────\u001b[39m\n",
      "\u001b[1mDelimiter:\u001b[22m \",\"\n",
      "\u001b[31mchr\u001b[39m  (7): ride_id, rideable_type, start_station_name, start_station_id, end_...\n",
      "\u001b[32mdbl\u001b[39m  (4): start_lat, start_lng, end_lat, end_lng\n",
      "\u001b[34mdttm\u001b[39m (2): started_at, ended_at\n",
      "\n",
      "\u001b[36mℹ\u001b[39m Use `spec()` to retrieve the full column specification for this data.\n",
      "\u001b[36mℹ\u001b[39m Specify the column types or set `show_col_types = FALSE` to quiet this message.\n",
      "\u001b[1mRows: \u001b[22m\u001b[34m769204\u001b[39m \u001b[1mColumns: \u001b[22m\u001b[34m13\u001b[39m\n",
      "\u001b[36m──\u001b[39m \u001b[1mColumn specification\u001b[22m \u001b[36m────────────────────────────────────────────────────────\u001b[39m\n",
      "\u001b[1mDelimiter:\u001b[22m \",\"\n",
      "\u001b[31mchr\u001b[39m  (7): ride_id, rideable_type, start_station_name, start_station_id, end_...\n",
      "\u001b[32mdbl\u001b[39m  (4): start_lat, start_lng, end_lat, end_lng\n",
      "\u001b[34mdttm\u001b[39m (2): started_at, ended_at\n",
      "\n",
      "\u001b[36mℹ\u001b[39m Use `spec()` to retrieve the full column specification for this data.\n",
      "\u001b[36mℹ\u001b[39m Specify the column types or set `show_col_types = FALSE` to quiet this message.\n",
      "\u001b[1mRows: \u001b[22m\u001b[34m823488\u001b[39m \u001b[1mColumns: \u001b[22m\u001b[34m13\u001b[39m\n",
      "\u001b[36m──\u001b[39m \u001b[1mColumn specification\u001b[22m \u001b[36m────────────────────────────────────────────────────────\u001b[39m\n",
      "\u001b[1mDelimiter:\u001b[22m \",\"\n",
      "\u001b[31mchr\u001b[39m  (7): ride_id, rideable_type, start_station_name, start_station_id, end_...\n",
      "\u001b[32mdbl\u001b[39m  (4): start_lat, start_lng, end_lat, end_lng\n",
      "\u001b[34mdttm\u001b[39m (2): started_at, ended_at\n",
      "\n",
      "\u001b[36mℹ\u001b[39m Use `spec()` to retrieve the full column specification for this data.\n",
      "\u001b[36mℹ\u001b[39m Specify the column types or set `show_col_types = FALSE` to quiet this message.\n",
      "\u001b[1mRows: \u001b[22m\u001b[34m785932\u001b[39m \u001b[1mColumns: \u001b[22m\u001b[34m13\u001b[39m\n",
      "\u001b[36m──\u001b[39m \u001b[1mColumn specification\u001b[22m \u001b[36m────────────────────────────────────────────────────────\u001b[39m\n",
      "\u001b[1mDelimiter:\u001b[22m \",\"\n",
      "\u001b[31mchr\u001b[39m  (7): ride_id, rideable_type, start_station_name, start_station_id, end_...\n",
      "\u001b[32mdbl\u001b[39m  (4): start_lat, start_lng, end_lat, end_lng\n",
      "\u001b[34mdttm\u001b[39m (2): started_at, ended_at\n",
      "\n",
      "\u001b[36mℹ\u001b[39m Use `spec()` to retrieve the full column specification for this data.\n",
      "\u001b[36mℹ\u001b[39m Specify the column types or set `show_col_types = FALSE` to quiet this message.\n",
      "\u001b[1mRows: \u001b[22m\u001b[34m701339\u001b[39m \u001b[1mColumns: \u001b[22m\u001b[34m13\u001b[39m\n",
      "\u001b[36m──\u001b[39m \u001b[1mColumn specification\u001b[22m \u001b[36m────────────────────────────────────────────────────────\u001b[39m\n",
      "\u001b[1mDelimiter:\u001b[22m \",\"\n",
      "\u001b[31mchr\u001b[39m  (7): ride_id, rideable_type, start_station_name, start_station_id, end_...\n",
      "\u001b[32mdbl\u001b[39m  (4): start_lat, start_lng, end_lat, end_lng\n",
      "\u001b[34mdttm\u001b[39m (2): started_at, ended_at\n",
      "\n",
      "\u001b[36mℹ\u001b[39m Use `spec()` to retrieve the full column specification for this data.\n",
      "\u001b[36mℹ\u001b[39m Specify the column types or set `show_col_types = FALSE` to quiet this message.\n",
      "\u001b[1mRows: \u001b[22m\u001b[34m558685\u001b[39m \u001b[1mColumns: \u001b[22m\u001b[34m13\u001b[39m\n",
      "\u001b[36m──\u001b[39m \u001b[1mColumn specification\u001b[22m \u001b[36m────────────────────────────────────────────────────────\u001b[39m\n",
      "\u001b[1mDelimiter:\u001b[22m \",\"\n",
      "\u001b[31mchr\u001b[39m  (7): ride_id, rideable_type, start_station_name, start_station_id, end_...\n",
      "\u001b[32mdbl\u001b[39m  (4): start_lat, start_lng, end_lat, end_lng\n",
      "\u001b[34mdttm\u001b[39m (2): started_at, ended_at\n",
      "\n",
      "\u001b[36mℹ\u001b[39m Use `spec()` to retrieve the full column specification for this data.\n",
      "\u001b[36mℹ\u001b[39m Specify the column types or set `show_col_types = FALSE` to quiet this message.\n",
      "\u001b[1mRows: \u001b[22m\u001b[34m337735\u001b[39m \u001b[1mColumns: \u001b[22m\u001b[34m13\u001b[39m\n",
      "\u001b[36m──\u001b[39m \u001b[1mColumn specification\u001b[22m \u001b[36m────────────────────────────────────────────────────────\u001b[39m\n",
      "\u001b[1mDelimiter:\u001b[22m \",\"\n",
      "\u001b[31mchr\u001b[39m  (7): ride_id, rideable_type, start_station_name, start_station_id, end_...\n",
      "\u001b[32mdbl\u001b[39m  (4): start_lat, start_lng, end_lat, end_lng\n",
      "\u001b[34mdttm\u001b[39m (2): started_at, ended_at\n",
      "\n",
      "\u001b[36mℹ\u001b[39m Use `spec()` to retrieve the full column specification for this data.\n",
      "\u001b[36mℹ\u001b[39m Specify the column types or set `show_col_types = FALSE` to quiet this message.\n",
      "\u001b[1mRows: \u001b[22m\u001b[34m181806\u001b[39m \u001b[1mColumns: \u001b[22m\u001b[34m13\u001b[39m\n",
      "\u001b[36m──\u001b[39m \u001b[1mColumn specification\u001b[22m \u001b[36m────────────────────────────────────────────────────────\u001b[39m\n",
      "\u001b[1mDelimiter:\u001b[22m \",\"\n",
      "\u001b[31mchr\u001b[39m  (7): ride_id, rideable_type, start_station_name, start_station_id, end_...\n",
      "\u001b[32mdbl\u001b[39m  (4): start_lat, start_lng, end_lat, end_lng\n",
      "\u001b[34mdttm\u001b[39m (2): started_at, ended_at\n",
      "\n",
      "\u001b[36mℹ\u001b[39m Use `spec()` to retrieve the full column specification for this data.\n",
      "\u001b[36mℹ\u001b[39m Specify the column types or set `show_col_types = FALSE` to quiet this message.\n",
      "\u001b[1mRows: \u001b[22m\u001b[34m190301\u001b[39m \u001b[1mColumns: \u001b[22m\u001b[34m13\u001b[39m\n",
      "\u001b[36m──\u001b[39m \u001b[1mColumn specification\u001b[22m \u001b[36m────────────────────────────────────────────────────────\u001b[39m\n",
      "\u001b[1mDelimiter:\u001b[22m \",\"\n",
      "\u001b[31mchr\u001b[39m  (7): ride_id, rideable_type, start_station_name, start_station_id, end_...\n",
      "\u001b[32mdbl\u001b[39m  (4): start_lat, start_lng, end_lat, end_lng\n",
      "\u001b[34mdttm\u001b[39m (2): started_at, ended_at\n",
      "\n",
      "\u001b[36mℹ\u001b[39m Use `spec()` to retrieve the full column specification for this data.\n",
      "\u001b[36mℹ\u001b[39m Specify the column types or set `show_col_types = FALSE` to quiet this message.\n"
     ]
    }
   ],
   "source": [
    "df_01 <- read_csv(\"/kaggle/input/divvy-tripdata-from-feb-2022-to-jan-2023/202202-divvy-tripdata.csv\")\n",
    "df_02 <- read_csv(\"/kaggle/input/divvy-tripdata-from-feb-2022-to-jan-2023/202203-divvy-tripdata.csv\")\n",
    "df_03 <- read_csv(\"/kaggle/input/divvy-tripdata-from-feb-2022-to-jan-2023/202204-divvy-tripdata.csv\")\n",
    "df_04 <- read_csv(\"/kaggle/input/divvy-tripdata-from-feb-2022-to-jan-2023/202206-divvy-tripdata.csv\")\n",
    "df_05 <- read_csv(\"/kaggle/input/divvy-tripdata-from-feb-2022-to-jan-2023/202206-divvy-tripdata.csv\")\n",
    "df_06 <- read_csv(\"/kaggle/input/divvy-tripdata-from-feb-2022-to-jan-2023/202207-divvy-tripdata.csv\")\n",
    "df_07 <- read_csv(\"/kaggle/input/divvy-tripdata-from-feb-2022-to-jan-2023/202208-divvy-tripdata.csv\")\n",
    "df_08 <- read_csv(\"/kaggle/input/divvy-tripdata-from-feb-2022-to-jan-2023/202209-divvy-publictripdata.csv\")\n",
    "df_09 <- read_csv(\"/kaggle/input/divvy-tripdata-from-feb-2022-to-jan-2023/202210-divvy-tripdata.csv\")\n",
    "df_10 <- read_csv(\"/kaggle/input/divvy-tripdata-from-feb-2022-to-jan-2023/202211-divvy-tripdata.csv\")\n",
    "df_11 <- read_csv(\"/kaggle/input/divvy-tripdata-from-feb-2022-to-jan-2023/202212-divvy-tripdata.csv\")\n",
    "df_12 <- read_csv(\"/kaggle/input/divvy-tripdata-from-feb-2022-to-jan-2023/202301-divvy-tripdata.csv\")\n"
   ]
  },
  {
   "cell_type": "markdown",
   "metadata": {},
   "source": [
    "But before the check for missing values and duplication, I will check every dataset for consistency because I need to combine data into one.\n",
    "\n",
    "1. see if we have the same columns **(colnames)** in all datasets"
   ]
  },
  {
   "cell_type": "code",
   "execution_count": 4,
   "metadata": {
    "execution": {
     "iopub.execute_input": "2023-02-22T15:01:49.671079Z",
     "iopub.status.busy": "2023-02-22T15:01:49.669337Z",
     "iopub.status.idle": "2023-02-22T15:01:49.783357Z"
    }
   },
   "outputs": [
    {
     "data": {
      "text/html": [
       "<style>\n",
       ".list-inline {list-style: none; margin:0; padding: 0}\n",
       ".list-inline>li {display: inline-block}\n",
       ".list-inline>li:not(:last-child)::after {content: \"\\00b7\"; padding: 0 .5ex}\n",
       "</style>\n",
       "<ol class=list-inline><li>'ride_id'</li><li>'rideable_type'</li><li>'started_at'</li><li>'ended_at'</li><li>'start_station_name'</li><li>'start_station_id'</li><li>'end_station_name'</li><li>'end_station_id'</li><li>'start_lat'</li><li>'start_lng'</li><li>'end_lat'</li><li>'end_lng'</li><li>'member_casual'</li></ol>\n"
      ],
      "text/latex": [
       "\\begin{enumerate*}\n",
       "\\item 'ride\\_id'\n",
       "\\item 'rideable\\_type'\n",
       "\\item 'started\\_at'\n",
       "\\item 'ended\\_at'\n",
       "\\item 'start\\_station\\_name'\n",
       "\\item 'start\\_station\\_id'\n",
       "\\item 'end\\_station\\_name'\n",
       "\\item 'end\\_station\\_id'\n",
       "\\item 'start\\_lat'\n",
       "\\item 'start\\_lng'\n",
       "\\item 'end\\_lat'\n",
       "\\item 'end\\_lng'\n",
       "\\item 'member\\_casual'\n",
       "\\end{enumerate*}\n"
      ],
      "text/markdown": [
       "1. 'ride_id'\n",
       "2. 'rideable_type'\n",
       "3. 'started_at'\n",
       "4. 'ended_at'\n",
       "5. 'start_station_name'\n",
       "6. 'start_station_id'\n",
       "7. 'end_station_name'\n",
       "8. 'end_station_id'\n",
       "9. 'start_lat'\n",
       "10. 'start_lng'\n",
       "11. 'end_lat'\n",
       "12. 'end_lng'\n",
       "13. 'member_casual'\n",
       "\n",
       "\n"
      ],
      "text/plain": [
       " [1] \"ride_id\"            \"rideable_type\"      \"started_at\"        \n",
       " [4] \"ended_at\"           \"start_station_name\" \"start_station_id\"  \n",
       " [7] \"end_station_name\"   \"end_station_id\"     \"start_lat\"         \n",
       "[10] \"start_lng\"          \"end_lat\"            \"end_lng\"           \n",
       "[13] \"member_casual\"     "
      ]
     },
     "metadata": {},
     "output_type": "display_data"
    },
    {
     "data": {
      "text/html": [
       "<style>\n",
       ".list-inline {list-style: none; margin:0; padding: 0}\n",
       ".list-inline>li {display: inline-block}\n",
       ".list-inline>li:not(:last-child)::after {content: \"\\00b7\"; padding: 0 .5ex}\n",
       "</style>\n",
       "<ol class=list-inline><li>'ride_id'</li><li>'rideable_type'</li><li>'started_at'</li><li>'ended_at'</li><li>'start_station_name'</li><li>'start_station_id'</li><li>'end_station_name'</li><li>'end_station_id'</li><li>'start_lat'</li><li>'start_lng'</li><li>'end_lat'</li><li>'end_lng'</li><li>'member_casual'</li></ol>\n"
      ],
      "text/latex": [
       "\\begin{enumerate*}\n",
       "\\item 'ride\\_id'\n",
       "\\item 'rideable\\_type'\n",
       "\\item 'started\\_at'\n",
       "\\item 'ended\\_at'\n",
       "\\item 'start\\_station\\_name'\n",
       "\\item 'start\\_station\\_id'\n",
       "\\item 'end\\_station\\_name'\n",
       "\\item 'end\\_station\\_id'\n",
       "\\item 'start\\_lat'\n",
       "\\item 'start\\_lng'\n",
       "\\item 'end\\_lat'\n",
       "\\item 'end\\_lng'\n",
       "\\item 'member\\_casual'\n",
       "\\end{enumerate*}\n"
      ],
      "text/markdown": [
       "1. 'ride_id'\n",
       "2. 'rideable_type'\n",
       "3. 'started_at'\n",
       "4. 'ended_at'\n",
       "5. 'start_station_name'\n",
       "6. 'start_station_id'\n",
       "7. 'end_station_name'\n",
       "8. 'end_station_id'\n",
       "9. 'start_lat'\n",
       "10. 'start_lng'\n",
       "11. 'end_lat'\n",
       "12. 'end_lng'\n",
       "13. 'member_casual'\n",
       "\n",
       "\n"
      ],
      "text/plain": [
       " [1] \"ride_id\"            \"rideable_type\"      \"started_at\"        \n",
       " [4] \"ended_at\"           \"start_station_name\" \"start_station_id\"  \n",
       " [7] \"end_station_name\"   \"end_station_id\"     \"start_lat\"         \n",
       "[10] \"start_lng\"          \"end_lat\"            \"end_lng\"           \n",
       "[13] \"member_casual\"     "
      ]
     },
     "metadata": {},
     "output_type": "display_data"
    },
    {
     "data": {
      "text/html": [
       "<style>\n",
       ".list-inline {list-style: none; margin:0; padding: 0}\n",
       ".list-inline>li {display: inline-block}\n",
       ".list-inline>li:not(:last-child)::after {content: \"\\00b7\"; padding: 0 .5ex}\n",
       "</style>\n",
       "<ol class=list-inline><li>'ride_id'</li><li>'rideable_type'</li><li>'started_at'</li><li>'ended_at'</li><li>'start_station_name'</li><li>'start_station_id'</li><li>'end_station_name'</li><li>'end_station_id'</li><li>'start_lat'</li><li>'start_lng'</li><li>'end_lat'</li><li>'end_lng'</li><li>'member_casual'</li></ol>\n"
      ],
      "text/latex": [
       "\\begin{enumerate*}\n",
       "\\item 'ride\\_id'\n",
       "\\item 'rideable\\_type'\n",
       "\\item 'started\\_at'\n",
       "\\item 'ended\\_at'\n",
       "\\item 'start\\_station\\_name'\n",
       "\\item 'start\\_station\\_id'\n",
       "\\item 'end\\_station\\_name'\n",
       "\\item 'end\\_station\\_id'\n",
       "\\item 'start\\_lat'\n",
       "\\item 'start\\_lng'\n",
       "\\item 'end\\_lat'\n",
       "\\item 'end\\_lng'\n",
       "\\item 'member\\_casual'\n",
       "\\end{enumerate*}\n"
      ],
      "text/markdown": [
       "1. 'ride_id'\n",
       "2. 'rideable_type'\n",
       "3. 'started_at'\n",
       "4. 'ended_at'\n",
       "5. 'start_station_name'\n",
       "6. 'start_station_id'\n",
       "7. 'end_station_name'\n",
       "8. 'end_station_id'\n",
       "9. 'start_lat'\n",
       "10. 'start_lng'\n",
       "11. 'end_lat'\n",
       "12. 'end_lng'\n",
       "13. 'member_casual'\n",
       "\n",
       "\n"
      ],
      "text/plain": [
       " [1] \"ride_id\"            \"rideable_type\"      \"started_at\"        \n",
       " [4] \"ended_at\"           \"start_station_name\" \"start_station_id\"  \n",
       " [7] \"end_station_name\"   \"end_station_id\"     \"start_lat\"         \n",
       "[10] \"start_lng\"          \"end_lat\"            \"end_lng\"           \n",
       "[13] \"member_casual\"     "
      ]
     },
     "metadata": {},
     "output_type": "display_data"
    },
    {
     "data": {
      "text/html": [
       "<style>\n",
       ".list-inline {list-style: none; margin:0; padding: 0}\n",
       ".list-inline>li {display: inline-block}\n",
       ".list-inline>li:not(:last-child)::after {content: \"\\00b7\"; padding: 0 .5ex}\n",
       "</style>\n",
       "<ol class=list-inline><li>'ride_id'</li><li>'rideable_type'</li><li>'started_at'</li><li>'ended_at'</li><li>'start_station_name'</li><li>'start_station_id'</li><li>'end_station_name'</li><li>'end_station_id'</li><li>'start_lat'</li><li>'start_lng'</li><li>'end_lat'</li><li>'end_lng'</li><li>'member_casual'</li></ol>\n"
      ],
      "text/latex": [
       "\\begin{enumerate*}\n",
       "\\item 'ride\\_id'\n",
       "\\item 'rideable\\_type'\n",
       "\\item 'started\\_at'\n",
       "\\item 'ended\\_at'\n",
       "\\item 'start\\_station\\_name'\n",
       "\\item 'start\\_station\\_id'\n",
       "\\item 'end\\_station\\_name'\n",
       "\\item 'end\\_station\\_id'\n",
       "\\item 'start\\_lat'\n",
       "\\item 'start\\_lng'\n",
       "\\item 'end\\_lat'\n",
       "\\item 'end\\_lng'\n",
       "\\item 'member\\_casual'\n",
       "\\end{enumerate*}\n"
      ],
      "text/markdown": [
       "1. 'ride_id'\n",
       "2. 'rideable_type'\n",
       "3. 'started_at'\n",
       "4. 'ended_at'\n",
       "5. 'start_station_name'\n",
       "6. 'start_station_id'\n",
       "7. 'end_station_name'\n",
       "8. 'end_station_id'\n",
       "9. 'start_lat'\n",
       "10. 'start_lng'\n",
       "11. 'end_lat'\n",
       "12. 'end_lng'\n",
       "13. 'member_casual'\n",
       "\n",
       "\n"
      ],
      "text/plain": [
       " [1] \"ride_id\"            \"rideable_type\"      \"started_at\"        \n",
       " [4] \"ended_at\"           \"start_station_name\" \"start_station_id\"  \n",
       " [7] \"end_station_name\"   \"end_station_id\"     \"start_lat\"         \n",
       "[10] \"start_lng\"          \"end_lat\"            \"end_lng\"           \n",
       "[13] \"member_casual\"     "
      ]
     },
     "metadata": {},
     "output_type": "display_data"
    },
    {
     "data": {
      "text/html": [
       "<style>\n",
       ".list-inline {list-style: none; margin:0; padding: 0}\n",
       ".list-inline>li {display: inline-block}\n",
       ".list-inline>li:not(:last-child)::after {content: \"\\00b7\"; padding: 0 .5ex}\n",
       "</style>\n",
       "<ol class=list-inline><li>'ride_id'</li><li>'rideable_type'</li><li>'started_at'</li><li>'ended_at'</li><li>'start_station_name'</li><li>'start_station_id'</li><li>'end_station_name'</li><li>'end_station_id'</li><li>'start_lat'</li><li>'start_lng'</li><li>'end_lat'</li><li>'end_lng'</li><li>'member_casual'</li></ol>\n"
      ],
      "text/latex": [
       "\\begin{enumerate*}\n",
       "\\item 'ride\\_id'\n",
       "\\item 'rideable\\_type'\n",
       "\\item 'started\\_at'\n",
       "\\item 'ended\\_at'\n",
       "\\item 'start\\_station\\_name'\n",
       "\\item 'start\\_station\\_id'\n",
       "\\item 'end\\_station\\_name'\n",
       "\\item 'end\\_station\\_id'\n",
       "\\item 'start\\_lat'\n",
       "\\item 'start\\_lng'\n",
       "\\item 'end\\_lat'\n",
       "\\item 'end\\_lng'\n",
       "\\item 'member\\_casual'\n",
       "\\end{enumerate*}\n"
      ],
      "text/markdown": [
       "1. 'ride_id'\n",
       "2. 'rideable_type'\n",
       "3. 'started_at'\n",
       "4. 'ended_at'\n",
       "5. 'start_station_name'\n",
       "6. 'start_station_id'\n",
       "7. 'end_station_name'\n",
       "8. 'end_station_id'\n",
       "9. 'start_lat'\n",
       "10. 'start_lng'\n",
       "11. 'end_lat'\n",
       "12. 'end_lng'\n",
       "13. 'member_casual'\n",
       "\n",
       "\n"
      ],
      "text/plain": [
       " [1] \"ride_id\"            \"rideable_type\"      \"started_at\"        \n",
       " [4] \"ended_at\"           \"start_station_name\" \"start_station_id\"  \n",
       " [7] \"end_station_name\"   \"end_station_id\"     \"start_lat\"         \n",
       "[10] \"start_lng\"          \"end_lat\"            \"end_lng\"           \n",
       "[13] \"member_casual\"     "
      ]
     },
     "metadata": {},
     "output_type": "display_data"
    },
    {
     "data": {
      "text/html": [
       "<style>\n",
       ".list-inline {list-style: none; margin:0; padding: 0}\n",
       ".list-inline>li {display: inline-block}\n",
       ".list-inline>li:not(:last-child)::after {content: \"\\00b7\"; padding: 0 .5ex}\n",
       "</style>\n",
       "<ol class=list-inline><li>'ride_id'</li><li>'rideable_type'</li><li>'started_at'</li><li>'ended_at'</li><li>'start_station_name'</li><li>'start_station_id'</li><li>'end_station_name'</li><li>'end_station_id'</li><li>'start_lat'</li><li>'start_lng'</li><li>'end_lat'</li><li>'end_lng'</li><li>'member_casual'</li></ol>\n"
      ],
      "text/latex": [
       "\\begin{enumerate*}\n",
       "\\item 'ride\\_id'\n",
       "\\item 'rideable\\_type'\n",
       "\\item 'started\\_at'\n",
       "\\item 'ended\\_at'\n",
       "\\item 'start\\_station\\_name'\n",
       "\\item 'start\\_station\\_id'\n",
       "\\item 'end\\_station\\_name'\n",
       "\\item 'end\\_station\\_id'\n",
       "\\item 'start\\_lat'\n",
       "\\item 'start\\_lng'\n",
       "\\item 'end\\_lat'\n",
       "\\item 'end\\_lng'\n",
       "\\item 'member\\_casual'\n",
       "\\end{enumerate*}\n"
      ],
      "text/markdown": [
       "1. 'ride_id'\n",
       "2. 'rideable_type'\n",
       "3. 'started_at'\n",
       "4. 'ended_at'\n",
       "5. 'start_station_name'\n",
       "6. 'start_station_id'\n",
       "7. 'end_station_name'\n",
       "8. 'end_station_id'\n",
       "9. 'start_lat'\n",
       "10. 'start_lng'\n",
       "11. 'end_lat'\n",
       "12. 'end_lng'\n",
       "13. 'member_casual'\n",
       "\n",
       "\n"
      ],
      "text/plain": [
       " [1] \"ride_id\"            \"rideable_type\"      \"started_at\"        \n",
       " [4] \"ended_at\"           \"start_station_name\" \"start_station_id\"  \n",
       " [7] \"end_station_name\"   \"end_station_id\"     \"start_lat\"         \n",
       "[10] \"start_lng\"          \"end_lat\"            \"end_lng\"           \n",
       "[13] \"member_casual\"     "
      ]
     },
     "metadata": {},
     "output_type": "display_data"
    },
    {
     "data": {
      "text/html": [
       "<style>\n",
       ".list-inline {list-style: none; margin:0; padding: 0}\n",
       ".list-inline>li {display: inline-block}\n",
       ".list-inline>li:not(:last-child)::after {content: \"\\00b7\"; padding: 0 .5ex}\n",
       "</style>\n",
       "<ol class=list-inline><li>'ride_id'</li><li>'rideable_type'</li><li>'started_at'</li><li>'ended_at'</li><li>'start_station_name'</li><li>'start_station_id'</li><li>'end_station_name'</li><li>'end_station_id'</li><li>'start_lat'</li><li>'start_lng'</li><li>'end_lat'</li><li>'end_lng'</li><li>'member_casual'</li></ol>\n"
      ],
      "text/latex": [
       "\\begin{enumerate*}\n",
       "\\item 'ride\\_id'\n",
       "\\item 'rideable\\_type'\n",
       "\\item 'started\\_at'\n",
       "\\item 'ended\\_at'\n",
       "\\item 'start\\_station\\_name'\n",
       "\\item 'start\\_station\\_id'\n",
       "\\item 'end\\_station\\_name'\n",
       "\\item 'end\\_station\\_id'\n",
       "\\item 'start\\_lat'\n",
       "\\item 'start\\_lng'\n",
       "\\item 'end\\_lat'\n",
       "\\item 'end\\_lng'\n",
       "\\item 'member\\_casual'\n",
       "\\end{enumerate*}\n"
      ],
      "text/markdown": [
       "1. 'ride_id'\n",
       "2. 'rideable_type'\n",
       "3. 'started_at'\n",
       "4. 'ended_at'\n",
       "5. 'start_station_name'\n",
       "6. 'start_station_id'\n",
       "7. 'end_station_name'\n",
       "8. 'end_station_id'\n",
       "9. 'start_lat'\n",
       "10. 'start_lng'\n",
       "11. 'end_lat'\n",
       "12. 'end_lng'\n",
       "13. 'member_casual'\n",
       "\n",
       "\n"
      ],
      "text/plain": [
       " [1] \"ride_id\"            \"rideable_type\"      \"started_at\"        \n",
       " [4] \"ended_at\"           \"start_station_name\" \"start_station_id\"  \n",
       " [7] \"end_station_name\"   \"end_station_id\"     \"start_lat\"         \n",
       "[10] \"start_lng\"          \"end_lat\"            \"end_lng\"           \n",
       "[13] \"member_casual\"     "
      ]
     },
     "metadata": {},
     "output_type": "display_data"
    },
    {
     "data": {
      "text/html": [
       "<style>\n",
       ".list-inline {list-style: none; margin:0; padding: 0}\n",
       ".list-inline>li {display: inline-block}\n",
       ".list-inline>li:not(:last-child)::after {content: \"\\00b7\"; padding: 0 .5ex}\n",
       "</style>\n",
       "<ol class=list-inline><li>'ride_id'</li><li>'rideable_type'</li><li>'started_at'</li><li>'ended_at'</li><li>'start_station_name'</li><li>'start_station_id'</li><li>'end_station_name'</li><li>'end_station_id'</li><li>'start_lat'</li><li>'start_lng'</li><li>'end_lat'</li><li>'end_lng'</li><li>'member_casual'</li></ol>\n"
      ],
      "text/latex": [
       "\\begin{enumerate*}\n",
       "\\item 'ride\\_id'\n",
       "\\item 'rideable\\_type'\n",
       "\\item 'started\\_at'\n",
       "\\item 'ended\\_at'\n",
       "\\item 'start\\_station\\_name'\n",
       "\\item 'start\\_station\\_id'\n",
       "\\item 'end\\_station\\_name'\n",
       "\\item 'end\\_station\\_id'\n",
       "\\item 'start\\_lat'\n",
       "\\item 'start\\_lng'\n",
       "\\item 'end\\_lat'\n",
       "\\item 'end\\_lng'\n",
       "\\item 'member\\_casual'\n",
       "\\end{enumerate*}\n"
      ],
      "text/markdown": [
       "1. 'ride_id'\n",
       "2. 'rideable_type'\n",
       "3. 'started_at'\n",
       "4. 'ended_at'\n",
       "5. 'start_station_name'\n",
       "6. 'start_station_id'\n",
       "7. 'end_station_name'\n",
       "8. 'end_station_id'\n",
       "9. 'start_lat'\n",
       "10. 'start_lng'\n",
       "11. 'end_lat'\n",
       "12. 'end_lng'\n",
       "13. 'member_casual'\n",
       "\n",
       "\n"
      ],
      "text/plain": [
       " [1] \"ride_id\"            \"rideable_type\"      \"started_at\"        \n",
       " [4] \"ended_at\"           \"start_station_name\" \"start_station_id\"  \n",
       " [7] \"end_station_name\"   \"end_station_id\"     \"start_lat\"         \n",
       "[10] \"start_lng\"          \"end_lat\"            \"end_lng\"           \n",
       "[13] \"member_casual\"     "
      ]
     },
     "metadata": {},
     "output_type": "display_data"
    },
    {
     "data": {
      "text/html": [
       "<style>\n",
       ".list-inline {list-style: none; margin:0; padding: 0}\n",
       ".list-inline>li {display: inline-block}\n",
       ".list-inline>li:not(:last-child)::after {content: \"\\00b7\"; padding: 0 .5ex}\n",
       "</style>\n",
       "<ol class=list-inline><li>'ride_id'</li><li>'rideable_type'</li><li>'started_at'</li><li>'ended_at'</li><li>'start_station_name'</li><li>'start_station_id'</li><li>'end_station_name'</li><li>'end_station_id'</li><li>'start_lat'</li><li>'start_lng'</li><li>'end_lat'</li><li>'end_lng'</li><li>'member_casual'</li></ol>\n"
      ],
      "text/latex": [
       "\\begin{enumerate*}\n",
       "\\item 'ride\\_id'\n",
       "\\item 'rideable\\_type'\n",
       "\\item 'started\\_at'\n",
       "\\item 'ended\\_at'\n",
       "\\item 'start\\_station\\_name'\n",
       "\\item 'start\\_station\\_id'\n",
       "\\item 'end\\_station\\_name'\n",
       "\\item 'end\\_station\\_id'\n",
       "\\item 'start\\_lat'\n",
       "\\item 'start\\_lng'\n",
       "\\item 'end\\_lat'\n",
       "\\item 'end\\_lng'\n",
       "\\item 'member\\_casual'\n",
       "\\end{enumerate*}\n"
      ],
      "text/markdown": [
       "1. 'ride_id'\n",
       "2. 'rideable_type'\n",
       "3. 'started_at'\n",
       "4. 'ended_at'\n",
       "5. 'start_station_name'\n",
       "6. 'start_station_id'\n",
       "7. 'end_station_name'\n",
       "8. 'end_station_id'\n",
       "9. 'start_lat'\n",
       "10. 'start_lng'\n",
       "11. 'end_lat'\n",
       "12. 'end_lng'\n",
       "13. 'member_casual'\n",
       "\n",
       "\n"
      ],
      "text/plain": [
       " [1] \"ride_id\"            \"rideable_type\"      \"started_at\"        \n",
       " [4] \"ended_at\"           \"start_station_name\" \"start_station_id\"  \n",
       " [7] \"end_station_name\"   \"end_station_id\"     \"start_lat\"         \n",
       "[10] \"start_lng\"          \"end_lat\"            \"end_lng\"           \n",
       "[13] \"member_casual\"     "
      ]
     },
     "metadata": {},
     "output_type": "display_data"
    },
    {
     "data": {
      "text/html": [
       "<style>\n",
       ".list-inline {list-style: none; margin:0; padding: 0}\n",
       ".list-inline>li {display: inline-block}\n",
       ".list-inline>li:not(:last-child)::after {content: \"\\00b7\"; padding: 0 .5ex}\n",
       "</style>\n",
       "<ol class=list-inline><li>'ride_id'</li><li>'rideable_type'</li><li>'started_at'</li><li>'ended_at'</li><li>'start_station_name'</li><li>'start_station_id'</li><li>'end_station_name'</li><li>'end_station_id'</li><li>'start_lat'</li><li>'start_lng'</li><li>'end_lat'</li><li>'end_lng'</li><li>'member_casual'</li></ol>\n"
      ],
      "text/latex": [
       "\\begin{enumerate*}\n",
       "\\item 'ride\\_id'\n",
       "\\item 'rideable\\_type'\n",
       "\\item 'started\\_at'\n",
       "\\item 'ended\\_at'\n",
       "\\item 'start\\_station\\_name'\n",
       "\\item 'start\\_station\\_id'\n",
       "\\item 'end\\_station\\_name'\n",
       "\\item 'end\\_station\\_id'\n",
       "\\item 'start\\_lat'\n",
       "\\item 'start\\_lng'\n",
       "\\item 'end\\_lat'\n",
       "\\item 'end\\_lng'\n",
       "\\item 'member\\_casual'\n",
       "\\end{enumerate*}\n"
      ],
      "text/markdown": [
       "1. 'ride_id'\n",
       "2. 'rideable_type'\n",
       "3. 'started_at'\n",
       "4. 'ended_at'\n",
       "5. 'start_station_name'\n",
       "6. 'start_station_id'\n",
       "7. 'end_station_name'\n",
       "8. 'end_station_id'\n",
       "9. 'start_lat'\n",
       "10. 'start_lng'\n",
       "11. 'end_lat'\n",
       "12. 'end_lng'\n",
       "13. 'member_casual'\n",
       "\n",
       "\n"
      ],
      "text/plain": [
       " [1] \"ride_id\"            \"rideable_type\"      \"started_at\"        \n",
       " [4] \"ended_at\"           \"start_station_name\" \"start_station_id\"  \n",
       " [7] \"end_station_name\"   \"end_station_id\"     \"start_lat\"         \n",
       "[10] \"start_lng\"          \"end_lat\"            \"end_lng\"           \n",
       "[13] \"member_casual\"     "
      ]
     },
     "metadata": {},
     "output_type": "display_data"
    },
    {
     "data": {
      "text/html": [
       "<style>\n",
       ".list-inline {list-style: none; margin:0; padding: 0}\n",
       ".list-inline>li {display: inline-block}\n",
       ".list-inline>li:not(:last-child)::after {content: \"\\00b7\"; padding: 0 .5ex}\n",
       "</style>\n",
       "<ol class=list-inline><li>'ride_id'</li><li>'rideable_type'</li><li>'started_at'</li><li>'ended_at'</li><li>'start_station_name'</li><li>'start_station_id'</li><li>'end_station_name'</li><li>'end_station_id'</li><li>'start_lat'</li><li>'start_lng'</li><li>'end_lat'</li><li>'end_lng'</li><li>'member_casual'</li></ol>\n"
      ],
      "text/latex": [
       "\\begin{enumerate*}\n",
       "\\item 'ride\\_id'\n",
       "\\item 'rideable\\_type'\n",
       "\\item 'started\\_at'\n",
       "\\item 'ended\\_at'\n",
       "\\item 'start\\_station\\_name'\n",
       "\\item 'start\\_station\\_id'\n",
       "\\item 'end\\_station\\_name'\n",
       "\\item 'end\\_station\\_id'\n",
       "\\item 'start\\_lat'\n",
       "\\item 'start\\_lng'\n",
       "\\item 'end\\_lat'\n",
       "\\item 'end\\_lng'\n",
       "\\item 'member\\_casual'\n",
       "\\end{enumerate*}\n"
      ],
      "text/markdown": [
       "1. 'ride_id'\n",
       "2. 'rideable_type'\n",
       "3. 'started_at'\n",
       "4. 'ended_at'\n",
       "5. 'start_station_name'\n",
       "6. 'start_station_id'\n",
       "7. 'end_station_name'\n",
       "8. 'end_station_id'\n",
       "9. 'start_lat'\n",
       "10. 'start_lng'\n",
       "11. 'end_lat'\n",
       "12. 'end_lng'\n",
       "13. 'member_casual'\n",
       "\n",
       "\n"
      ],
      "text/plain": [
       " [1] \"ride_id\"            \"rideable_type\"      \"started_at\"        \n",
       " [4] \"ended_at\"           \"start_station_name\" \"start_station_id\"  \n",
       " [7] \"end_station_name\"   \"end_station_id\"     \"start_lat\"         \n",
       "[10] \"start_lng\"          \"end_lat\"            \"end_lng\"           \n",
       "[13] \"member_casual\"     "
      ]
     },
     "metadata": {},
     "output_type": "display_data"
    },
    {
     "data": {
      "text/html": [
       "<style>\n",
       ".list-inline {list-style: none; margin:0; padding: 0}\n",
       ".list-inline>li {display: inline-block}\n",
       ".list-inline>li:not(:last-child)::after {content: \"\\00b7\"; padding: 0 .5ex}\n",
       "</style>\n",
       "<ol class=list-inline><li>'ride_id'</li><li>'rideable_type'</li><li>'started_at'</li><li>'ended_at'</li><li>'start_station_name'</li><li>'start_station_id'</li><li>'end_station_name'</li><li>'end_station_id'</li><li>'start_lat'</li><li>'start_lng'</li><li>'end_lat'</li><li>'end_lng'</li><li>'member_casual'</li></ol>\n"
      ],
      "text/latex": [
       "\\begin{enumerate*}\n",
       "\\item 'ride\\_id'\n",
       "\\item 'rideable\\_type'\n",
       "\\item 'started\\_at'\n",
       "\\item 'ended\\_at'\n",
       "\\item 'start\\_station\\_name'\n",
       "\\item 'start\\_station\\_id'\n",
       "\\item 'end\\_station\\_name'\n",
       "\\item 'end\\_station\\_id'\n",
       "\\item 'start\\_lat'\n",
       "\\item 'start\\_lng'\n",
       "\\item 'end\\_lat'\n",
       "\\item 'end\\_lng'\n",
       "\\item 'member\\_casual'\n",
       "\\end{enumerate*}\n"
      ],
      "text/markdown": [
       "1. 'ride_id'\n",
       "2. 'rideable_type'\n",
       "3. 'started_at'\n",
       "4. 'ended_at'\n",
       "5. 'start_station_name'\n",
       "6. 'start_station_id'\n",
       "7. 'end_station_name'\n",
       "8. 'end_station_id'\n",
       "9. 'start_lat'\n",
       "10. 'start_lng'\n",
       "11. 'end_lat'\n",
       "12. 'end_lng'\n",
       "13. 'member_casual'\n",
       "\n",
       "\n"
      ],
      "text/plain": [
       " [1] \"ride_id\"            \"rideable_type\"      \"started_at\"        \n",
       " [4] \"ended_at\"           \"start_station_name\" \"start_station_id\"  \n",
       " [7] \"end_station_name\"   \"end_station_id\"     \"start_lat\"         \n",
       "[10] \"start_lng\"          \"end_lat\"            \"end_lng\"           \n",
       "[13] \"member_casual\"     "
      ]
     },
     "metadata": {},
     "output_type": "display_data"
    }
   ],
   "source": [
    "#df_01\n",
    "colnames(df_01)\n",
    "#df_02\n",
    "colnames(df_02) \n",
    "#df_03\n",
    "colnames(df_03)\n",
    "#df_04\n",
    "colnames(df_04)\n",
    "#df_05\n",
    "colnames(df_05)\n",
    "#df_06\n",
    "colnames(df_06)\n",
    "#df_07\n",
    "colnames(df_07)\n",
    "#df08\n",
    "colnames(df_08)\n",
    "#df_09\n",
    "colnames(df_09)\n",
    "#df_10\n",
    "colnames(df_10)\n",
    "#df_11\n",
    "colnames(df_11)\n",
    "#df_12\n",
    "colnames(df_12)"
   ]
  },
  {
   "cell_type": "markdown",
   "metadata": {},
   "source": [
    "2. A Structure of each dataset, we want to see each column and it's a datatype"
   ]
  },
  {
   "cell_type": "code",
   "execution_count": 5,
   "metadata": {
    "execution": {
     "iopub.execute_input": "2023-02-22T15:02:08.781624Z",
     "iopub.status.busy": "2023-02-22T15:02:08.779572Z",
     "iopub.status.idle": "2023-02-22T15:02:09.256238Z"
    }
   },
   "outputs": [
    {
     "name": "stdout",
     "output_type": "stream",
     "text": [
      "spc_tbl_ [115,609 × 13] (S3: spec_tbl_df/tbl_df/tbl/data.frame)\n",
      " $ ride_id           : chr [1:115609] \"E1E065E7ED285C02\" \"1602DCDC5B30FFE3\" \"BE7DD2AF4B55C4AF\" \"A1789BDF844412BE\" ...\n",
      " $ rideable_type     : chr [1:115609] \"classic_bike\" \"classic_bike\" \"classic_bike\" \"classic_bike\" ...\n",
      " $ started_at        : POSIXct[1:115609], format: \"2022-02-19 18:08:41\" \"2022-02-20 17:41:30\" ...\n",
      " $ ended_at          : POSIXct[1:115609], format: \"2022-02-19 18:23:56\" \"2022-02-20 17:45:56\" ...\n",
      " $ start_station_name: chr [1:115609] \"State St & Randolph St\" \"Halsted St & Wrightwood Ave\" \"State St & Randolph St\" \"Southport Ave & Waveland Ave\" ...\n",
      " $ start_station_id  : chr [1:115609] \"TA1305000029\" \"TA1309000061\" \"TA1305000029\" \"13235\" ...\n",
      " $ end_station_name  : chr [1:115609] \"Clark St & Lincoln Ave\" \"Southport Ave & Wrightwood Ave\" \"Canal St & Adams St\" \"Broadway & Sheridan Rd\" ...\n",
      " $ end_station_id    : chr [1:115609] \"13179\" \"TA1307000113\" \"13011\" \"13323\" ...\n",
      " $ start_lat         : num [1:115609] 41.9 41.9 41.9 41.9 41.9 ...\n",
      " $ start_lng         : num [1:115609] -87.6 -87.6 -87.6 -87.7 -87.6 ...\n",
      " $ end_lat           : num [1:115609] 41.9 41.9 41.9 42 41.9 ...\n",
      " $ end_lng           : num [1:115609] -87.6 -87.7 -87.6 -87.6 -87.6 ...\n",
      " $ member_casual     : chr [1:115609] \"member\" \"member\" \"member\" \"member\" ...\n",
      " - attr(*, \"spec\")=\n",
      "  .. cols(\n",
      "  ..   ride_id = \u001b[31mcol_character()\u001b[39m,\n",
      "  ..   rideable_type = \u001b[31mcol_character()\u001b[39m,\n",
      "  ..   started_at = \u001b[34mcol_datetime(format = \"\")\u001b[39m,\n",
      "  ..   ended_at = \u001b[34mcol_datetime(format = \"\")\u001b[39m,\n",
      "  ..   start_station_name = \u001b[31mcol_character()\u001b[39m,\n",
      "  ..   start_station_id = \u001b[31mcol_character()\u001b[39m,\n",
      "  ..   end_station_name = \u001b[31mcol_character()\u001b[39m,\n",
      "  ..   end_station_id = \u001b[31mcol_character()\u001b[39m,\n",
      "  ..   start_lat = \u001b[32mcol_double()\u001b[39m,\n",
      "  ..   start_lng = \u001b[32mcol_double()\u001b[39m,\n",
      "  ..   end_lat = \u001b[32mcol_double()\u001b[39m,\n",
      "  ..   end_lng = \u001b[32mcol_double()\u001b[39m,\n",
      "  ..   member_casual = \u001b[31mcol_character()\u001b[39m\n",
      "  .. )\n",
      " - attr(*, \"problems\")=<externalptr> \n",
      "spc_tbl_ [284,042 × 13] (S3: spec_tbl_df/tbl_df/tbl/data.frame)\n",
      " $ ride_id           : chr [1:284042] \"47EC0A7F82E65D52\" \"8494861979B0F477\" \"EFE527AF80B66109\" \"9F446FD9DEE3F389\" ...\n",
      " $ rideable_type     : chr [1:284042] \"classic_bike\" \"electric_bike\" \"classic_bike\" \"classic_bike\" ...\n",
      " $ started_at        : POSIXct[1:284042], format: \"2022-03-21 13:45:01\" \"2022-03-16 09:37:16\" ...\n",
      " $ ended_at          : POSIXct[1:284042], format: \"2022-03-21 13:51:18\" \"2022-03-16 09:43:34\" ...\n",
      " $ start_station_name: chr [1:284042] \"Wabash Ave & Wacker Pl\" \"Michigan Ave & Oak St\" \"Broadway & Berwyn Ave\" \"Wabash Ave & Wacker Pl\" ...\n",
      " $ start_station_id  : chr [1:284042] \"TA1307000131\" \"13042\" \"13109\" \"TA1307000131\" ...\n",
      " $ end_station_name  : chr [1:284042] \"Kingsbury St & Kinzie St\" \"Orleans St & Chestnut St (NEXT Apts)\" \"Broadway & Ridge Ave\" \"Franklin St & Jackson Blvd\" ...\n",
      " $ end_station_id    : chr [1:284042] \"KA1503000043\" \"620\" \"15578\" \"TA1305000025\" ...\n",
      " $ start_lat         : num [1:284042] 41.9 41.9 42 41.9 41.9 ...\n",
      " $ start_lng         : num [1:284042] -87.6 -87.6 -87.7 -87.6 -87.6 ...\n",
      " $ end_lat           : num [1:284042] 41.9 41.9 42 41.9 41.9 ...\n",
      " $ end_lng           : num [1:284042] -87.6 -87.6 -87.7 -87.6 -87.7 ...\n",
      " $ member_casual     : chr [1:284042] \"member\" \"member\" \"member\" \"member\" ...\n",
      " - attr(*, \"spec\")=\n",
      "  .. cols(\n",
      "  ..   ride_id = \u001b[31mcol_character()\u001b[39m,\n",
      "  ..   rideable_type = \u001b[31mcol_character()\u001b[39m,\n",
      "  ..   started_at = \u001b[34mcol_datetime(format = \"\")\u001b[39m,\n",
      "  ..   ended_at = \u001b[34mcol_datetime(format = \"\")\u001b[39m,\n",
      "  ..   start_station_name = \u001b[31mcol_character()\u001b[39m,\n",
      "  ..   start_station_id = \u001b[31mcol_character()\u001b[39m,\n",
      "  ..   end_station_name = \u001b[31mcol_character()\u001b[39m,\n",
      "  ..   end_station_id = \u001b[31mcol_character()\u001b[39m,\n",
      "  ..   start_lat = \u001b[32mcol_double()\u001b[39m,\n",
      "  ..   start_lng = \u001b[32mcol_double()\u001b[39m,\n",
      "  ..   end_lat = \u001b[32mcol_double()\u001b[39m,\n",
      "  ..   end_lng = \u001b[32mcol_double()\u001b[39m,\n",
      "  ..   member_casual = \u001b[31mcol_character()\u001b[39m\n",
      "  .. )\n",
      " - attr(*, \"problems\")=<externalptr> \n",
      "spc_tbl_ [371,249 × 13] (S3: spec_tbl_df/tbl_df/tbl/data.frame)\n",
      " $ ride_id           : chr [1:371249] \"3564070EEFD12711\" \"0B820C7FCF22F489\" \"89EEEE32293F07FF\" \"84D4751AEB31888D\" ...\n",
      " $ rideable_type     : chr [1:371249] \"electric_bike\" \"classic_bike\" \"classic_bike\" \"classic_bike\" ...\n",
      " $ started_at        : POSIXct[1:371249], format: \"2022-04-06 17:42:48\" \"2022-04-24 19:23:07\" ...\n",
      " $ ended_at          : POSIXct[1:371249], format: \"2022-04-06 17:54:36\" \"2022-04-24 19:43:17\" ...\n",
      " $ start_station_name: chr [1:371249] \"Paulina St & Howard St\" \"Wentworth Ave & Cermak Rd\" \"Halsted St & Polk St\" \"Wentworth Ave & Cermak Rd\" ...\n",
      " $ start_station_id  : chr [1:371249] \"515\" \"13075\" \"TA1307000121\" \"13075\" ...\n",
      " $ end_station_name  : chr [1:371249] \"University Library (NU)\" \"Green St & Madison St\" \"Green St & Madison St\" \"Delano Ct & Roosevelt Rd\" ...\n",
      " $ end_station_id    : chr [1:371249] \"605\" \"TA1307000120\" \"TA1307000120\" \"KA1706005007\" ...\n",
      " $ start_lat         : num [1:371249] 42 41.9 41.9 41.9 41.9 ...\n",
      " $ start_lng         : num [1:371249] -87.7 -87.6 -87.6 -87.6 -87.6 ...\n",
      " $ end_lat           : num [1:371249] 42.1 41.9 41.9 41.9 41.9 ...\n",
      " $ end_lng           : num [1:371249] -87.7 -87.6 -87.6 -87.6 -87.6 ...\n",
      " $ member_casual     : chr [1:371249] \"member\" \"member\" \"member\" \"casual\" ...\n",
      " - attr(*, \"spec\")=\n",
      "  .. cols(\n",
      "  ..   ride_id = \u001b[31mcol_character()\u001b[39m,\n",
      "  ..   rideable_type = \u001b[31mcol_character()\u001b[39m,\n",
      "  ..   started_at = \u001b[34mcol_datetime(format = \"\")\u001b[39m,\n",
      "  ..   ended_at = \u001b[34mcol_datetime(format = \"\")\u001b[39m,\n",
      "  ..   start_station_name = \u001b[31mcol_character()\u001b[39m,\n",
      "  ..   start_station_id = \u001b[31mcol_character()\u001b[39m,\n",
      "  ..   end_station_name = \u001b[31mcol_character()\u001b[39m,\n",
      "  ..   end_station_id = \u001b[31mcol_character()\u001b[39m,\n",
      "  ..   start_lat = \u001b[32mcol_double()\u001b[39m,\n",
      "  ..   start_lng = \u001b[32mcol_double()\u001b[39m,\n",
      "  ..   end_lat = \u001b[32mcol_double()\u001b[39m,\n",
      "  ..   end_lng = \u001b[32mcol_double()\u001b[39m,\n",
      "  ..   member_casual = \u001b[31mcol_character()\u001b[39m\n",
      "  .. )\n",
      " - attr(*, \"problems\")=<externalptr> \n",
      "spc_tbl_ [769,204 × 13] (S3: spec_tbl_df/tbl_df/tbl/data.frame)\n",
      " $ ride_id           : chr [1:769204] \"600CFD130D0FD2A4\" \"F5E6B5C1682C6464\" \"B6EB6D27BAD771D2\" \"C9C320375DE1D5C6\" ...\n",
      " $ rideable_type     : chr [1:769204] \"electric_bike\" \"electric_bike\" \"electric_bike\" \"electric_bike\" ...\n",
      " $ started_at        : POSIXct[1:769204], format: \"2022-06-30 17:27:53\" \"2022-06-30 18:39:52\" ...\n",
      " $ ended_at          : POSIXct[1:769204], format: \"2022-06-30 17:35:15\" \"2022-06-30 18:47:28\" ...\n",
      " $ start_station_name: chr [1:769204] NA NA NA NA ...\n",
      " $ start_station_id  : chr [1:769204] NA NA NA NA ...\n",
      " $ end_station_name  : chr [1:769204] NA NA NA NA ...\n",
      " $ end_station_id    : chr [1:769204] NA NA NA NA ...\n",
      " $ start_lat         : num [1:769204] 41.9 41.9 41.9 41.8 41.9 ...\n",
      " $ start_lng         : num [1:769204] -87.6 -87.6 -87.7 -87.7 -87.6 ...\n",
      " $ end_lat           : num [1:769204] 41.9 41.9 41.9 41.8 41.9 ...\n",
      " $ end_lng           : num [1:769204] -87.6 -87.6 -87.6 -87.7 -87.6 ...\n",
      " $ member_casual     : chr [1:769204] \"casual\" \"casual\" \"casual\" \"casual\" ...\n",
      " - attr(*, \"spec\")=\n",
      "  .. cols(\n",
      "  ..   ride_id = \u001b[31mcol_character()\u001b[39m,\n",
      "  ..   rideable_type = \u001b[31mcol_character()\u001b[39m,\n",
      "  ..   started_at = \u001b[34mcol_datetime(format = \"\")\u001b[39m,\n",
      "  ..   ended_at = \u001b[34mcol_datetime(format = \"\")\u001b[39m,\n",
      "  ..   start_station_name = \u001b[31mcol_character()\u001b[39m,\n",
      "  ..   start_station_id = \u001b[31mcol_character()\u001b[39m,\n",
      "  ..   end_station_name = \u001b[31mcol_character()\u001b[39m,\n",
      "  ..   end_station_id = \u001b[31mcol_character()\u001b[39m,\n",
      "  ..   start_lat = \u001b[32mcol_double()\u001b[39m,\n",
      "  ..   start_lng = \u001b[32mcol_double()\u001b[39m,\n",
      "  ..   end_lat = \u001b[32mcol_double()\u001b[39m,\n",
      "  ..   end_lng = \u001b[32mcol_double()\u001b[39m,\n",
      "  ..   member_casual = \u001b[31mcol_character()\u001b[39m\n",
      "  .. )\n",
      " - attr(*, \"problems\")=<externalptr> \n",
      "spc_tbl_ [769,204 × 13] (S3: spec_tbl_df/tbl_df/tbl/data.frame)\n",
      " $ ride_id           : chr [1:769204] \"600CFD130D0FD2A4\" \"F5E6B5C1682C6464\" \"B6EB6D27BAD771D2\" \"C9C320375DE1D5C6\" ...\n",
      " $ rideable_type     : chr [1:769204] \"electric_bike\" \"electric_bike\" \"electric_bike\" \"electric_bike\" ...\n",
      " $ started_at        : POSIXct[1:769204], format: \"2022-06-30 17:27:53\" \"2022-06-30 18:39:52\" ...\n",
      " $ ended_at          : POSIXct[1:769204], format: \"2022-06-30 17:35:15\" \"2022-06-30 18:47:28\" ...\n",
      " $ start_station_name: chr [1:769204] NA NA NA NA ...\n",
      " $ start_station_id  : chr [1:769204] NA NA NA NA ...\n",
      " $ end_station_name  : chr [1:769204] NA NA NA NA ...\n",
      " $ end_station_id    : chr [1:769204] NA NA NA NA ...\n",
      " $ start_lat         : num [1:769204] 41.9 41.9 41.9 41.8 41.9 ...\n",
      " $ start_lng         : num [1:769204] -87.6 -87.6 -87.7 -87.7 -87.6 ...\n",
      " $ end_lat           : num [1:769204] 41.9 41.9 41.9 41.8 41.9 ...\n",
      " $ end_lng           : num [1:769204] -87.6 -87.6 -87.6 -87.7 -87.6 ...\n",
      " $ member_casual     : chr [1:769204] \"casual\" \"casual\" \"casual\" \"casual\" ...\n",
      " - attr(*, \"spec\")=\n",
      "  .. cols(\n",
      "  ..   ride_id = \u001b[31mcol_character()\u001b[39m,\n",
      "  ..   rideable_type = \u001b[31mcol_character()\u001b[39m,\n",
      "  ..   started_at = \u001b[34mcol_datetime(format = \"\")\u001b[39m,\n",
      "  ..   ended_at = \u001b[34mcol_datetime(format = \"\")\u001b[39m,\n",
      "  ..   start_station_name = \u001b[31mcol_character()\u001b[39m,\n",
      "  ..   start_station_id = \u001b[31mcol_character()\u001b[39m,\n",
      "  ..   end_station_name = \u001b[31mcol_character()\u001b[39m,\n",
      "  ..   end_station_id = \u001b[31mcol_character()\u001b[39m,\n",
      "  ..   start_lat = \u001b[32mcol_double()\u001b[39m,\n",
      "  ..   start_lng = \u001b[32mcol_double()\u001b[39m,\n",
      "  ..   end_lat = \u001b[32mcol_double()\u001b[39m,\n",
      "  ..   end_lng = \u001b[32mcol_double()\u001b[39m,\n",
      "  ..   member_casual = \u001b[31mcol_character()\u001b[39m\n",
      "  .. )\n",
      " - attr(*, \"problems\")=<externalptr> \n",
      "spc_tbl_ [823,488 × 13] (S3: spec_tbl_df/tbl_df/tbl/data.frame)\n",
      " $ ride_id           : chr [1:823488] \"954144C2F67B1932\" \"292E027607D218B6\" \"57765852588AD6E0\" \"B5B6BE44314590E6\" ...\n",
      " $ rideable_type     : chr [1:823488] \"classic_bike\" \"classic_bike\" \"classic_bike\" \"classic_bike\" ...\n",
      " $ started_at        : POSIXct[1:823488], format: \"2022-07-05 08:12:47\" \"2022-07-26 12:53:38\" ...\n",
      " $ ended_at          : POSIXct[1:823488], format: \"2022-07-05 08:24:32\" \"2022-07-26 12:55:31\" ...\n",
      " $ start_station_name: chr [1:823488] \"Ashland Ave & Blackhawk St\" \"Buckingham Fountain (Temp)\" \"Buckingham Fountain (Temp)\" \"Buckingham Fountain (Temp)\" ...\n",
      " $ start_station_id  : chr [1:823488] \"13224\" \"15541\" \"15541\" \"15541\" ...\n",
      " $ end_station_name  : chr [1:823488] \"Kingsbury St & Kinzie St\" \"Michigan Ave & 8th St\" \"Michigan Ave & 8th St\" \"Woodlawn Ave & 55th St\" ...\n",
      " $ end_station_id    : chr [1:823488] \"KA1503000043\" \"623\" \"623\" \"TA1307000164\" ...\n",
      " $ start_lat         : num [1:823488] 41.9 41.9 41.9 41.9 41.9 ...\n",
      " $ start_lng         : num [1:823488] -87.7 -87.6 -87.6 -87.6 -87.6 ...\n",
      " $ end_lat           : num [1:823488] 41.9 41.9 41.9 41.8 41.9 ...\n",
      " $ end_lng           : num [1:823488] -87.6 -87.6 -87.6 -87.6 -87.7 ...\n",
      " $ member_casual     : chr [1:823488] \"member\" \"casual\" \"casual\" \"casual\" ...\n",
      " - attr(*, \"spec\")=\n",
      "  .. cols(\n",
      "  ..   ride_id = \u001b[31mcol_character()\u001b[39m,\n",
      "  ..   rideable_type = \u001b[31mcol_character()\u001b[39m,\n",
      "  ..   started_at = \u001b[34mcol_datetime(format = \"\")\u001b[39m,\n",
      "  ..   ended_at = \u001b[34mcol_datetime(format = \"\")\u001b[39m,\n",
      "  ..   start_station_name = \u001b[31mcol_character()\u001b[39m,\n",
      "  ..   start_station_id = \u001b[31mcol_character()\u001b[39m,\n",
      "  ..   end_station_name = \u001b[31mcol_character()\u001b[39m,\n",
      "  ..   end_station_id = \u001b[31mcol_character()\u001b[39m,\n",
      "  ..   start_lat = \u001b[32mcol_double()\u001b[39m,\n",
      "  ..   start_lng = \u001b[32mcol_double()\u001b[39m,\n",
      "  ..   end_lat = \u001b[32mcol_double()\u001b[39m,\n",
      "  ..   end_lng = \u001b[32mcol_double()\u001b[39m,\n",
      "  ..   member_casual = \u001b[31mcol_character()\u001b[39m\n",
      "  .. )\n",
      " - attr(*, \"problems\")=<externalptr> \n",
      "spc_tbl_ [785,932 × 13] (S3: spec_tbl_df/tbl_df/tbl/data.frame)\n",
      " $ ride_id           : chr [1:785932] \"550CF7EFEAE0C618\" \"DAD198F405F9C5F5\" \"E6F2BC47B65CB7FD\" \"F597830181C2E13C\" ...\n",
      " $ rideable_type     : chr [1:785932] \"electric_bike\" \"electric_bike\" \"electric_bike\" \"electric_bike\" ...\n",
      " $ started_at        : POSIXct[1:785932], format: \"2022-08-07 21:34:15\" \"2022-08-08 14:39:21\" ...\n",
      " $ ended_at          : POSIXct[1:785932], format: \"2022-08-07 21:41:46\" \"2022-08-08 14:53:23\" ...\n",
      " $ start_station_name: chr [1:785932] NA NA NA NA ...\n",
      " $ start_station_id  : chr [1:785932] NA NA NA NA ...\n",
      " $ end_station_name  : chr [1:785932] NA NA NA NA ...\n",
      " $ end_station_id    : chr [1:785932] NA NA NA NA ...\n",
      " $ start_lat         : num [1:785932] 41.9 41.9 42 41.9 41.9 ...\n",
      " $ start_lng         : num [1:785932] -87.7 -87.6 -87.7 -87.7 -87.7 ...\n",
      " $ end_lat           : num [1:785932] 41.9 41.9 42 42 41.8 ...\n",
      " $ end_lng           : num [1:785932] -87.7 -87.6 -87.7 -87.7 -87.7 ...\n",
      " $ member_casual     : chr [1:785932] \"casual\" \"casual\" \"casual\" \"casual\" ...\n",
      " - attr(*, \"spec\")=\n",
      "  .. cols(\n",
      "  ..   ride_id = \u001b[31mcol_character()\u001b[39m,\n",
      "  ..   rideable_type = \u001b[31mcol_character()\u001b[39m,\n",
      "  ..   started_at = \u001b[34mcol_datetime(format = \"\")\u001b[39m,\n",
      "  ..   ended_at = \u001b[34mcol_datetime(format = \"\")\u001b[39m,\n",
      "  ..   start_station_name = \u001b[31mcol_character()\u001b[39m,\n",
      "  ..   start_station_id = \u001b[31mcol_character()\u001b[39m,\n",
      "  ..   end_station_name = \u001b[31mcol_character()\u001b[39m,\n",
      "  ..   end_station_id = \u001b[31mcol_character()\u001b[39m,\n",
      "  ..   start_lat = \u001b[32mcol_double()\u001b[39m,\n",
      "  ..   start_lng = \u001b[32mcol_double()\u001b[39m,\n",
      "  ..   end_lat = \u001b[32mcol_double()\u001b[39m,\n",
      "  ..   end_lng = \u001b[32mcol_double()\u001b[39m,\n",
      "  ..   member_casual = \u001b[31mcol_character()\u001b[39m\n",
      "  .. )\n",
      " - attr(*, \"problems\")=<externalptr> \n",
      "spc_tbl_ [701,339 × 13] (S3: spec_tbl_df/tbl_df/tbl/data.frame)\n",
      " $ ride_id           : chr [1:701339] \"5156990AC19CA285\" \"E12D4A16BF51C274\" \"A02B53CD7DB72DD7\" \"C82E05FEE872DF11\" ...\n",
      " $ rideable_type     : chr [1:701339] \"electric_bike\" \"electric_bike\" \"electric_bike\" \"electric_bike\" ...\n",
      " $ started_at        : POSIXct[1:701339], format: \"2022-09-01 08:36:22\" \"2022-09-01 17:11:29\" ...\n",
      " $ ended_at          : POSIXct[1:701339], format: \"2022-09-01 08:39:05\" \"2022-09-01 17:14:45\" ...\n",
      " $ start_station_name: chr [1:701339] NA NA NA NA ...\n",
      " $ start_station_id  : chr [1:701339] NA NA NA NA ...\n",
      " $ end_station_name  : chr [1:701339] \"California Ave & Milwaukee Ave\" NA NA NA ...\n",
      " $ end_station_id    : chr [1:701339] \"13084\" NA NA NA ...\n",
      " $ start_lat         : num [1:701339] 41.9 41.9 41.9 41.9 41.9 ...\n",
      " $ start_lng         : num [1:701339] -87.7 -87.6 -87.6 -87.7 -87.7 ...\n",
      " $ end_lat           : num [1:701339] 41.9 41.9 41.9 41.9 41.9 ...\n",
      " $ end_lng           : num [1:701339] -87.7 -87.6 -87.6 -87.7 -87.7 ...\n",
      " $ member_casual     : chr [1:701339] \"casual\" \"casual\" \"casual\" \"casual\" ...\n",
      " - attr(*, \"spec\")=\n",
      "  .. cols(\n",
      "  ..   ride_id = \u001b[31mcol_character()\u001b[39m,\n",
      "  ..   rideable_type = \u001b[31mcol_character()\u001b[39m,\n",
      "  ..   started_at = \u001b[34mcol_datetime(format = \"\")\u001b[39m,\n",
      "  ..   ended_at = \u001b[34mcol_datetime(format = \"\")\u001b[39m,\n",
      "  ..   start_station_name = \u001b[31mcol_character()\u001b[39m,\n",
      "  ..   start_station_id = \u001b[31mcol_character()\u001b[39m,\n",
      "  ..   end_station_name = \u001b[31mcol_character()\u001b[39m,\n",
      "  ..   end_station_id = \u001b[31mcol_character()\u001b[39m,\n",
      "  ..   start_lat = \u001b[32mcol_double()\u001b[39m,\n",
      "  ..   start_lng = \u001b[32mcol_double()\u001b[39m,\n",
      "  ..   end_lat = \u001b[32mcol_double()\u001b[39m,\n",
      "  ..   end_lng = \u001b[32mcol_double()\u001b[39m,\n",
      "  ..   member_casual = \u001b[31mcol_character()\u001b[39m\n",
      "  .. )\n",
      " - attr(*, \"problems\")=<externalptr> \n",
      "spc_tbl_ [558,685 × 13] (S3: spec_tbl_df/tbl_df/tbl/data.frame)\n",
      " $ ride_id           : chr [1:558685] \"A50255C1E17942AB\" \"DB692A70BD2DD4E3\" \"3C02727AAF60F873\" \"47E653FDC2D99236\" ...\n",
      " $ rideable_type     : chr [1:558685] \"classic_bike\" \"electric_bike\" \"electric_bike\" \"electric_bike\" ...\n",
      " $ started_at        : POSIXct[1:558685], format: \"2022-10-14 17:13:30\" \"2022-10-01 16:29:26\" ...\n",
      " $ ended_at          : POSIXct[1:558685], format: \"2022-10-14 17:19:39\" \"2022-10-01 16:49:06\" ...\n",
      " $ start_station_name: chr [1:558685] \"Noble St & Milwaukee Ave\" \"Damen Ave & Charleston St\" \"Hoyne Ave & Balmoral Ave\" \"Rush St & Cedar St\" ...\n",
      " $ start_station_id  : chr [1:558685] \"13290\" \"13288\" \"655\" \"KA1504000133\" ...\n",
      " $ end_station_name  : chr [1:558685] \"Larrabee St & Division St\" \"Damen Ave & Cullerton St\" \"Western Ave & Leland Ave\" \"Orleans St & Chestnut St (NEXT Apts)\" ...\n",
      " $ end_station_id    : chr [1:558685] \"KA1504000079\" \"13089\" \"TA1307000140\" \"620\" ...\n",
      " $ start_lat         : num [1:558685] 41.9 41.9 42 41.9 41.9 ...\n",
      " $ start_lng         : num [1:558685] -87.7 -87.7 -87.7 -87.6 -87.6 ...\n",
      " $ end_lat           : num [1:558685] 41.9 41.9 42 41.9 41.9 ...\n",
      " $ end_lng           : num [1:558685] -87.6 -87.7 -87.7 -87.6 -87.6 ...\n",
      " $ member_casual     : chr [1:558685] \"member\" \"casual\" \"member\" \"member\" ...\n",
      " - attr(*, \"spec\")=\n",
      "  .. cols(\n",
      "  ..   ride_id = \u001b[31mcol_character()\u001b[39m,\n",
      "  ..   rideable_type = \u001b[31mcol_character()\u001b[39m,\n",
      "  ..   started_at = \u001b[34mcol_datetime(format = \"\")\u001b[39m,\n",
      "  ..   ended_at = \u001b[34mcol_datetime(format = \"\")\u001b[39m,\n",
      "  ..   start_station_name = \u001b[31mcol_character()\u001b[39m,\n",
      "  ..   start_station_id = \u001b[31mcol_character()\u001b[39m,\n",
      "  ..   end_station_name = \u001b[31mcol_character()\u001b[39m,\n",
      "  ..   end_station_id = \u001b[31mcol_character()\u001b[39m,\n",
      "  ..   start_lat = \u001b[32mcol_double()\u001b[39m,\n",
      "  ..   start_lng = \u001b[32mcol_double()\u001b[39m,\n",
      "  ..   end_lat = \u001b[32mcol_double()\u001b[39m,\n",
      "  ..   end_lng = \u001b[32mcol_double()\u001b[39m,\n",
      "  ..   member_casual = \u001b[31mcol_character()\u001b[39m\n",
      "  .. )\n",
      " - attr(*, \"problems\")=<externalptr> \n",
      "spc_tbl_ [337,735 × 13] (S3: spec_tbl_df/tbl_df/tbl/data.frame)\n",
      " $ ride_id           : chr [1:337735] \"BCC66FC6FAB27CC7\" \"772AB67E902C180F\" \"585EAD07FDEC0152\" \"91C4E7ED3C262FF9\" ...\n",
      " $ rideable_type     : chr [1:337735] \"electric_bike\" \"classic_bike\" \"classic_bike\" \"classic_bike\" ...\n",
      " $ started_at        : POSIXct[1:337735], format: \"2022-11-10 06:21:55\" \"2022-11-04 07:31:55\" ...\n",
      " $ ended_at          : POSIXct[1:337735], format: \"2022-11-10 06:31:27\" \"2022-11-04 07:46:25\" ...\n",
      " $ start_station_name: chr [1:337735] \"Canal St & Adams St\" \"Canal St & Adams St\" \"Indiana Ave & Roosevelt Rd\" \"Indiana Ave & Roosevelt Rd\" ...\n",
      " $ start_station_id  : chr [1:337735] \"13011\" \"13011\" \"SL-005\" \"SL-005\" ...\n",
      " $ end_station_name  : chr [1:337735] \"St. Clair St & Erie St\" \"St. Clair St & Erie St\" \"St. Clair St & Erie St\" \"St. Clair St & Erie St\" ...\n",
      " $ end_station_id    : chr [1:337735] \"13016\" \"13016\" \"13016\" \"13016\" ...\n",
      " $ start_lat         : num [1:337735] 41.9 41.9 41.9 41.9 41.9 ...\n",
      " $ start_lng         : num [1:337735] -87.6 -87.6 -87.6 -87.6 -87.6 ...\n",
      " $ end_lat           : num [1:337735] 41.9 41.9 41.9 41.9 41.9 ...\n",
      " $ end_lng           : num [1:337735] -87.6 -87.6 -87.6 -87.6 -87.6 ...\n",
      " $ member_casual     : chr [1:337735] \"member\" \"member\" \"member\" \"member\" ...\n",
      " - attr(*, \"spec\")=\n",
      "  .. cols(\n",
      "  ..   ride_id = \u001b[31mcol_character()\u001b[39m,\n",
      "  ..   rideable_type = \u001b[31mcol_character()\u001b[39m,\n",
      "  ..   started_at = \u001b[34mcol_datetime(format = \"\")\u001b[39m,\n",
      "  ..   ended_at = \u001b[34mcol_datetime(format = \"\")\u001b[39m,\n",
      "  ..   start_station_name = \u001b[31mcol_character()\u001b[39m,\n",
      "  ..   start_station_id = \u001b[31mcol_character()\u001b[39m,\n",
      "  ..   end_station_name = \u001b[31mcol_character()\u001b[39m,\n",
      "  ..   end_station_id = \u001b[31mcol_character()\u001b[39m,\n",
      "  ..   start_lat = \u001b[32mcol_double()\u001b[39m,\n",
      "  ..   start_lng = \u001b[32mcol_double()\u001b[39m,\n",
      "  ..   end_lat = \u001b[32mcol_double()\u001b[39m,\n",
      "  ..   end_lng = \u001b[32mcol_double()\u001b[39m,\n",
      "  ..   member_casual = \u001b[31mcol_character()\u001b[39m\n",
      "  .. )\n",
      " - attr(*, \"problems\")=<externalptr> \n",
      "spc_tbl_ [181,806 × 13] (S3: spec_tbl_df/tbl_df/tbl/data.frame)\n",
      " $ ride_id           : chr [1:181806] \"65DBD2F447EC51C2\" \"0C201AA7EA0EA1AD\" \"E0B148CCB358A49D\" \"54C5775D2B7C9188\" ...\n",
      " $ rideable_type     : chr [1:181806] \"electric_bike\" \"classic_bike\" \"electric_bike\" \"classic_bike\" ...\n",
      " $ started_at        : POSIXct[1:181806], format: \"2022-12-05 10:47:18\" \"2022-12-18 06:42:33\" ...\n",
      " $ ended_at          : POSIXct[1:181806], format: \"2022-12-05 10:56:34\" \"2022-12-18 07:08:44\" ...\n",
      " $ start_station_name: chr [1:181806] \"Clifton Ave & Armitage Ave\" \"Broadway & Belmont Ave\" \"Sangamon St & Lake St\" \"Shields Ave & 31st St\" ...\n",
      " $ start_station_id  : chr [1:181806] \"TA1307000163\" \"13277\" \"TA1306000015\" \"KA1503000038\" ...\n",
      " $ end_station_name  : chr [1:181806] \"Sedgwick St & Webster Ave\" \"Sedgwick St & Webster Ave\" \"St. Clair St & Erie St\" \"Damen Ave & Madison St\" ...\n",
      " $ end_station_id    : chr [1:181806] \"13191\" \"13191\" \"13016\" \"13134\" ...\n",
      " $ start_lat         : num [1:181806] 41.9 41.9 41.9 41.8 41.9 ...\n",
      " $ start_lng         : num [1:181806] -87.7 -87.6 -87.7 -87.6 -87.7 ...\n",
      " $ end_lat           : num [1:181806] 41.9 41.9 41.9 41.9 41.9 ...\n",
      " $ end_lng           : num [1:181806] -87.6 -87.6 -87.6 -87.7 -87.7 ...\n",
      " $ member_casual     : chr [1:181806] \"member\" \"casual\" \"member\" \"member\" ...\n",
      " - attr(*, \"spec\")=\n",
      "  .. cols(\n",
      "  ..   ride_id = \u001b[31mcol_character()\u001b[39m,\n",
      "  ..   rideable_type = \u001b[31mcol_character()\u001b[39m,\n",
      "  ..   started_at = \u001b[34mcol_datetime(format = \"\")\u001b[39m,\n",
      "  ..   ended_at = \u001b[34mcol_datetime(format = \"\")\u001b[39m,\n",
      "  ..   start_station_name = \u001b[31mcol_character()\u001b[39m,\n",
      "  ..   start_station_id = \u001b[31mcol_character()\u001b[39m,\n",
      "  ..   end_station_name = \u001b[31mcol_character()\u001b[39m,\n",
      "  ..   end_station_id = \u001b[31mcol_character()\u001b[39m,\n",
      "  ..   start_lat = \u001b[32mcol_double()\u001b[39m,\n",
      "  ..   start_lng = \u001b[32mcol_double()\u001b[39m,\n",
      "  ..   end_lat = \u001b[32mcol_double()\u001b[39m,\n",
      "  ..   end_lng = \u001b[32mcol_double()\u001b[39m,\n",
      "  ..   member_casual = \u001b[31mcol_character()\u001b[39m\n",
      "  .. )\n",
      " - attr(*, \"problems\")=<externalptr> \n",
      "spc_tbl_ [190,301 × 13] (S3: spec_tbl_df/tbl_df/tbl/data.frame)\n",
      " $ ride_id           : chr [1:190301] \"F96D5A74A3E41399\" \"13CB7EB698CEDB88\" \"BD88A2E670661CE5\" \"C90792D034FED968\" ...\n",
      " $ rideable_type     : chr [1:190301] \"electric_bike\" \"classic_bike\" \"electric_bike\" \"classic_bike\" ...\n",
      " $ started_at        : POSIXct[1:190301], format: \"2023-01-21 20:05:42\" \"2023-01-10 15:37:36\" ...\n",
      " $ ended_at          : POSIXct[1:190301], format: \"2023-01-21 20:16:33\" \"2023-01-10 15:46:05\" ...\n",
      " $ start_station_name: chr [1:190301] \"Lincoln Ave & Fullerton Ave\" \"Kimbark Ave & 53rd St\" \"Western Ave & Lunt Ave\" \"Kimbark Ave & 53rd St\" ...\n",
      " $ start_station_id  : chr [1:190301] \"TA1309000058\" \"TA1309000037\" \"RP-005\" \"TA1309000037\" ...\n",
      " $ end_station_name  : chr [1:190301] \"Hampden Ct & Diversey Ave\" \"Greenwood Ave & 47th St\" \"Valli Produce - Evanston Plaza\" \"Greenwood Ave & 47th St\" ...\n",
      " $ end_station_id    : chr [1:190301] \"202480.0\" \"TA1308000002\" \"599\" \"TA1308000002\" ...\n",
      " $ start_lat         : num [1:190301] 41.9 41.8 42 41.8 41.8 ...\n",
      " $ start_lng         : num [1:190301] -87.6 -87.6 -87.7 -87.6 -87.6 ...\n",
      " $ end_lat           : num [1:190301] 41.9 41.8 42 41.8 41.8 ...\n",
      " $ end_lng           : num [1:190301] -87.6 -87.6 -87.7 -87.6 -87.6 ...\n",
      " $ member_casual     : chr [1:190301] \"member\" \"member\" \"casual\" \"member\" ...\n",
      " - attr(*, \"spec\")=\n",
      "  .. cols(\n",
      "  ..   ride_id = \u001b[31mcol_character()\u001b[39m,\n",
      "  ..   rideable_type = \u001b[31mcol_character()\u001b[39m,\n",
      "  ..   started_at = \u001b[34mcol_datetime(format = \"\")\u001b[39m,\n",
      "  ..   ended_at = \u001b[34mcol_datetime(format = \"\")\u001b[39m,\n",
      "  ..   start_station_name = \u001b[31mcol_character()\u001b[39m,\n",
      "  ..   start_station_id = \u001b[31mcol_character()\u001b[39m,\n",
      "  ..   end_station_name = \u001b[31mcol_character()\u001b[39m,\n",
      "  ..   end_station_id = \u001b[31mcol_character()\u001b[39m,\n",
      "  ..   start_lat = \u001b[32mcol_double()\u001b[39m,\n",
      "  ..   start_lng = \u001b[32mcol_double()\u001b[39m,\n",
      "  ..   end_lat = \u001b[32mcol_double()\u001b[39m,\n",
      "  ..   end_lng = \u001b[32mcol_double()\u001b[39m,\n",
      "  ..   member_casual = \u001b[31mcol_character()\u001b[39m\n",
      "  .. )\n",
      " - attr(*, \"problems\")=<externalptr> \n"
     ]
    }
   ],
   "source": [
    "str(df_01)\n",
    "str(df_02)\n",
    "str(df_03)\n",
    "str(df_04)\n",
    "str(df_05)\n",
    "str(df_06)\n",
    "str(df_07)\n",
    "str(df_08)\n",
    "str(df_09)\n",
    "str(df_10)\n",
    "str(df_11)\n",
    "str(df_12)"
   ]
  },
  {
   "cell_type": "markdown",
   "metadata": {},
   "source": [
    "\n",
    "All dataset have the same columns ***(ride_id, rideable_type, started_at, ended_at, start_station_name, start_station_id, end_station_id, start_lat, start_lng, end_lat, end_lng, member_casual)***,  I didn't to rename some dataset's becaue they have same columns name\n",
    "\n",
    "#STEP THREE: PROCESSING \n",
    "before combining all datasets into one, first clean every dataset by the filter's out the duplicated value and looking for missing numeric values, then we can combine all datasets into one after that, I will add more columns that beneficial to my analysis.\n",
    "\n",
    "1- Find the duplicated value"
   ]
  },
  {
   "cell_type": "code",
   "execution_count": 6,
   "metadata": {
    "execution": {
     "iopub.execute_input": "2023-02-22T15:02:32.181501Z",
     "iopub.status.busy": "2023-02-22T15:02:32.179575Z",
     "iopub.status.idle": "2023-02-22T15:02:33.216776Z"
    }
   },
   "outputs": [
    {
     "data": {
      "text/html": [
       "0"
      ],
      "text/latex": [
       "0"
      ],
      "text/markdown": [
       "0"
      ],
      "text/plain": [
       "[1] 0"
      ]
     },
     "metadata": {},
     "output_type": "display_data"
    },
    {
     "data": {
      "text/html": [
       "0"
      ],
      "text/latex": [
       "0"
      ],
      "text/markdown": [
       "0"
      ],
      "text/plain": [
       "[1] 0"
      ]
     },
     "metadata": {},
     "output_type": "display_data"
    },
    {
     "data": {
      "text/html": [
       "0"
      ],
      "text/latex": [
       "0"
      ],
      "text/markdown": [
       "0"
      ],
      "text/plain": [
       "[1] 0"
      ]
     },
     "metadata": {},
     "output_type": "display_data"
    },
    {
     "data": {
      "text/html": [
       "0"
      ],
      "text/latex": [
       "0"
      ],
      "text/markdown": [
       "0"
      ],
      "text/plain": [
       "[1] 0"
      ]
     },
     "metadata": {},
     "output_type": "display_data"
    },
    {
     "data": {
      "text/html": [
       "0"
      ],
      "text/latex": [
       "0"
      ],
      "text/markdown": [
       "0"
      ],
      "text/plain": [
       "[1] 0"
      ]
     },
     "metadata": {},
     "output_type": "display_data"
    },
    {
     "data": {
      "text/html": [
       "0"
      ],
      "text/latex": [
       "0"
      ],
      "text/markdown": [
       "0"
      ],
      "text/plain": [
       "[1] 0"
      ]
     },
     "metadata": {},
     "output_type": "display_data"
    },
    {
     "data": {
      "text/html": [
       "0"
      ],
      "text/latex": [
       "0"
      ],
      "text/markdown": [
       "0"
      ],
      "text/plain": [
       "[1] 0"
      ]
     },
     "metadata": {},
     "output_type": "display_data"
    },
    {
     "data": {
      "text/html": [
       "0"
      ],
      "text/latex": [
       "0"
      ],
      "text/markdown": [
       "0"
      ],
      "text/plain": [
       "[1] 0"
      ]
     },
     "metadata": {},
     "output_type": "display_data"
    },
    {
     "data": {
      "text/html": [
       "0"
      ],
      "text/latex": [
       "0"
      ],
      "text/markdown": [
       "0"
      ],
      "text/plain": [
       "[1] 0"
      ]
     },
     "metadata": {},
     "output_type": "display_data"
    },
    {
     "data": {
      "text/html": [
       "0"
      ],
      "text/latex": [
       "0"
      ],
      "text/markdown": [
       "0"
      ],
      "text/plain": [
       "[1] 0"
      ]
     },
     "metadata": {},
     "output_type": "display_data"
    },
    {
     "data": {
      "text/html": [
       "0"
      ],
      "text/latex": [
       "0"
      ],
      "text/markdown": [
       "0"
      ],
      "text/plain": [
       "[1] 0"
      ]
     },
     "metadata": {},
     "output_type": "display_data"
    },
    {
     "data": {
      "text/html": [
       "0"
      ],
      "text/latex": [
       "0"
      ],
      "text/markdown": [
       "0"
      ],
      "text/plain": [
       "[1] 0"
      ]
     },
     "metadata": {},
     "output_type": "display_data"
    }
   ],
   "source": [
    "sum(duplicated(df_01$ride_id))\n",
    "sum(duplicated(df_02$ride_id))\n",
    "sum(duplicated(df_03$ride_id))\n",
    "sum(duplicated(df_04$ride_id))\n",
    "sum(duplicated(df_05$ride_id))\n",
    "sum(duplicated(df_06$ride_id))\n",
    "sum(duplicated(df_07$ride_id))\n",
    "sum(duplicated(df_08$ride_id))\n",
    "sum(duplicated(df_09$ride_id))\n",
    "sum(duplicated(df_10$ride_id))\n",
    "sum(duplicated(df_11$ride_id))\n",
    "sum(duplicated(df_12$ride_id))"
   ]
  },
  {
   "cell_type": "markdown",
   "metadata": {},
   "source": [
    "as you can see there's no duplication in ride_id, so now let's keep forward and deal with the missing value\n",
    "\n",
    "2- check if there is a missing value."
   ]
  },
  {
   "cell_type": "code",
   "execution_count": 7,
   "metadata": {
    "execution": {
     "iopub.execute_input": "2023-02-22T15:02:43.278574Z",
     "iopub.status.busy": "2023-02-22T15:02:43.276961Z",
     "iopub.status.idle": "2023-02-22T15:02:45.777162Z"
    }
   },
   "outputs": [
    {
     "data": {
      "text/html": [
       "78024"
      ],
      "text/latex": [
       "78024"
      ],
      "text/markdown": [
       "78024"
      ],
      "text/plain": [
       "[1] 78024"
      ]
     },
     "metadata": {},
     "output_type": "display_data"
    },
    {
     "data": {
      "text/html": [
       "197338"
      ],
      "text/latex": [
       "197338"
      ],
      "text/markdown": [
       "197338"
      ],
      "text/plain": [
       "[1] 197338"
      ]
     },
     "metadata": {},
     "output_type": "display_data"
    },
    {
     "data": {
      "text/html": [
       "292984"
      ],
      "text/latex": [
       "292984"
      ],
      "text/markdown": [
       "292984"
      ],
      "text/plain": [
       "[1] 292984"
      ]
     },
     "metadata": {},
     "output_type": "display_data"
    },
    {
     "data": {
      "text/html": [
       "388302"
      ],
      "text/latex": [
       "388302"
      ],
      "text/markdown": [
       "388302"
      ],
      "text/plain": [
       "[1] 388302"
      ]
     },
     "metadata": {},
     "output_type": "display_data"
    },
    {
     "data": {
      "text/html": [
       "388302"
      ],
      "text/latex": [
       "388302"
      ],
      "text/markdown": [
       "388302"
      ],
      "text/plain": [
       "[1] 388302"
      ]
     },
     "metadata": {},
     "output_type": "display_data"
    },
    {
     "data": {
      "text/html": [
       "467858"
      ],
      "text/latex": [
       "467858"
      ],
      "text/markdown": [
       "467858"
      ],
      "text/plain": [
       "[1] 467858"
      ]
     },
     "metadata": {},
     "output_type": "display_data"
    },
    {
     "data": {
      "text/html": [
       "466804"
      ],
      "text/latex": [
       "466804"
      ],
      "text/markdown": [
       "466804"
      ],
      "text/plain": [
       "[1] 466804"
      ]
     },
     "metadata": {},
     "output_type": "display_data"
    },
    {
     "data": {
      "text/html": [
       "431354"
      ],
      "text/latex": [
       "431354"
      ],
      "text/markdown": [
       "431354"
      ],
      "text/plain": [
       "[1] 431354"
      ]
     },
     "metadata": {},
     "output_type": "display_data"
    },
    {
     "data": {
      "text/html": [
       "376894"
      ],
      "text/latex": [
       "376894"
      ],
      "text/markdown": [
       "376894"
      ],
      "text/plain": [
       "[1] 376894"
      ]
     },
     "metadata": {},
     "output_type": "display_data"
    },
    {
     "data": {
      "text/html": [
       "212892"
      ],
      "text/latex": [
       "212892"
      ],
      "text/markdown": [
       "212892"
      ],
      "text/plain": [
       "[1] 212892"
      ]
     },
     "metadata": {},
     "output_type": "display_data"
    },
    {
     "data": {
      "text/html": [
       "121138"
      ],
      "text/latex": [
       "121138"
      ],
      "text/markdown": [
       "121138"
      ],
      "text/plain": [
       "[1] 121138"
      ]
     },
     "metadata": {},
     "output_type": "display_data"
    },
    {
     "data": {
      "text/html": [
       "109376"
      ],
      "text/latex": [
       "109376"
      ],
      "text/markdown": [
       "109376"
      ],
      "text/plain": [
       "[1] 109376"
      ]
     },
     "metadata": {},
     "output_type": "display_data"
    }
   ],
   "source": [
    "sum(is.na(df_01))\n",
    "sum(is.na(df_02))\n",
    "sum(is.na(df_03))\n",
    "sum(is.na(df_04))\n",
    "sum(is.na(df_05))\n",
    "sum(is.na(df_06))\n",
    "sum(is.na(df_07))\n",
    "sum(is.na(df_08))\n",
    "sum(is.na(df_09))\n",
    "sum(is.na(df_10))\n",
    "sum(is.na(df_11))\n",
    "sum(is.na(df_12))"
   ]
  },
  {
   "cell_type": "markdown",
   "metadata": {},
   "source": [
    "3- Combine all the df's into one\n"
   ]
  },
  {
   "cell_type": "code",
   "execution_count": 8,
   "metadata": {
    "execution": {
     "iopub.execute_input": "2023-02-22T15:03:00.754972Z",
     "iopub.status.busy": "2023-02-22T15:03:00.753338Z",
     "iopub.status.idle": "2023-02-22T15:03:05.583963Z"
    }
   },
   "outputs": [],
   "source": [
    "df <- bind_rows(df_01, df_02, df_03, df_04, df_05, df_06,\n",
    "                df_07, df_08, df_09, df_10, df_11, df_12)"
   ]
  },
  {
   "cell_type": "code",
   "execution_count": 9,
   "metadata": {
    "execution": {
     "iopub.execute_input": "2023-02-22T15:03:05.587808Z",
     "iopub.status.busy": "2023-02-22T15:03:05.586424Z",
     "iopub.status.idle": "2023-02-22T15:03:05.602958Z"
    }
   },
   "outputs": [
    {
     "data": {
      "text/html": [
       "<style>\n",
       ".list-inline {list-style: none; margin:0; padding: 0}\n",
       ".list-inline>li {display: inline-block}\n",
       ".list-inline>li:not(:last-child)::after {content: \"\\00b7\"; padding: 0 .5ex}\n",
       "</style>\n",
       "<ol class=list-inline><li>5888594</li><li>13</li></ol>\n"
      ],
      "text/latex": [
       "\\begin{enumerate*}\n",
       "\\item 5888594\n",
       "\\item 13\n",
       "\\end{enumerate*}\n"
      ],
      "text/markdown": [
       "1. 5888594\n",
       "2. 13\n",
       "\n",
       "\n"
      ],
      "text/plain": [
       "[1] 5888594      13"
      ]
     },
     "metadata": {},
     "output_type": "display_data"
    }
   ],
   "source": [
    "dim(df)"
   ]
  },
  {
   "cell_type": "markdown",
   "metadata": {},
   "source": [
    "4- Because I have computational limitation I created a sample size that represents the population size.\n",
    "\n",
    "> - Population size: 5,888,594\n",
    "> - Confidence level: 99%\n",
    "> - Margin of error: 0.5%\n",
    "> - Sample size: 65,820"
   ]
  },
  {
   "cell_type": "code",
   "execution_count": 10,
   "metadata": {
    "execution": {
     "iopub.execute_input": "2023-02-22T15:03:12.905372Z",
     "iopub.status.busy": "2023-02-22T15:03:12.903674Z",
     "iopub.status.idle": "2023-02-22T15:03:13.270144Z"
    }
   },
   "outputs": [],
   "source": [
    "sample_df <- sample_n(df, 65820, replace= TRUE)\n",
    "\n",
    "sample_df <- write_csv(sample_df, \"sample_df.csv\")"
   ]
  },
  {
   "cell_type": "markdown",
   "metadata": {},
   "source": [
    "5- Add more columns by converting the started_at to date and splitting the day, month, year, and day of the week."
   ]
  },
  {
   "cell_type": "code",
   "execution_count": 11,
   "metadata": {
    "execution": {
     "iopub.execute_input": "2023-02-22T15:03:21.063671Z",
     "iopub.status.busy": "2023-02-22T15:03:21.061973Z",
     "iopub.status.idle": "2023-02-22T15:03:21.250658Z"
    }
   },
   "outputs": [
    {
     "data": {
      "text/html": [
       "<table class=\"dataframe\">\n",
       "<caption>A tibble: 6 × 18</caption>\n",
       "<thead>\n",
       "\t<tr><th scope=col>ride_id</th><th scope=col>rideable_type</th><th scope=col>started_at</th><th scope=col>ended_at</th><th scope=col>start_station_name</th><th scope=col>start_station_id</th><th scope=col>end_station_name</th><th scope=col>end_station_id</th><th scope=col>start_lat</th><th scope=col>start_lng</th><th scope=col>end_lat</th><th scope=col>end_lng</th><th scope=col>member_casual</th><th scope=col>date</th><th scope=col>month</th><th scope=col>day</th><th scope=col>year</th><th scope=col>day_of_week</th></tr>\n",
       "\t<tr><th scope=col>&lt;chr&gt;</th><th scope=col>&lt;chr&gt;</th><th scope=col>&lt;dttm&gt;</th><th scope=col>&lt;dttm&gt;</th><th scope=col>&lt;chr&gt;</th><th scope=col>&lt;chr&gt;</th><th scope=col>&lt;chr&gt;</th><th scope=col>&lt;chr&gt;</th><th scope=col>&lt;dbl&gt;</th><th scope=col>&lt;dbl&gt;</th><th scope=col>&lt;dbl&gt;</th><th scope=col>&lt;dbl&gt;</th><th scope=col>&lt;chr&gt;</th><th scope=col>&lt;date&gt;</th><th scope=col>&lt;chr&gt;</th><th scope=col>&lt;chr&gt;</th><th scope=col>&lt;chr&gt;</th><th scope=col>&lt;chr&gt;</th></tr>\n",
       "</thead>\n",
       "<tbody>\n",
       "\t<tr><td>1F0E84CED7ED048A</td><td>electric_bike</td><td>2022-10-05 09:32:10</td><td>2022-10-05 09:46:30</td><td>N Carpenter St &amp; W Lake St</td><td><span style=white-space:pre-wrap>20251.0     </span></td><td><span style=white-space:pre-wrap>Damen Ave &amp; Pierce Ave           </span></td><td>TA1305000041</td><td>41.89000</td><td>-87.65000</td><td>41.90940</td><td>-87.67769</td><td>casual</td><td>2022-10-05</td><td>10</td><td>05</td><td>2022</td><td>Wednesday</td></tr>\n",
       "\t<tr><td>AE53813BB650B7CD</td><td>classic_bike </td><td>2022-10-01 23:22:03</td><td>2022-10-01 23:28:36</td><td><span style=white-space:pre-wrap>Western Ave &amp; 21st St     </span></td><td><span style=white-space:pre-wrap>13091       </span></td><td><span style=white-space:pre-wrap>Kedzie Ave &amp; 21st St             </span></td><td><span style=white-space:pre-wrap>15686       </span></td><td>41.85411</td><td>-87.68584</td><td>41.85353</td><td>-87.70507</td><td>casual</td><td>2022-10-01</td><td>10</td><td>01</td><td>2022</td><td>Saturday </td></tr>\n",
       "\t<tr><td>597834DC97EE63D9</td><td>classic_bike </td><td>2022-06-18 13:21:25</td><td>2022-06-18 13:53:11</td><td><span style=white-space:pre-wrap>Halsted St &amp; Roscoe St    </span></td><td>TA1309000025</td><td>DuSable Lake Shore Dr &amp; Monroe St</td><td><span style=white-space:pre-wrap>13300       </span></td><td>41.94367</td><td>-87.64895</td><td>41.88096</td><td>-87.61674</td><td>casual</td><td>2022-06-18</td><td>06</td><td>18</td><td>2022</td><td>Saturday </td></tr>\n",
       "\t<tr><td>FE9674CF91265087</td><td>classic_bike </td><td>2022-07-30 21:49:07</td><td>2022-07-30 22:08:21</td><td><span style=white-space:pre-wrap>State St &amp; Harrison St    </span></td><td><span style=white-space:pre-wrap>SL-007      </span></td><td><span style=white-space:pre-wrap>LaSalle Dr &amp; Huron St            </span></td><td>KP1705001026</td><td>41.87405</td><td>-87.62772</td><td>41.89488</td><td>-87.63233</td><td>casual</td><td>2022-07-30</td><td>07</td><td>30</td><td>2022</td><td>Saturday </td></tr>\n",
       "\t<tr><td>CB14C7620D563366</td><td>classic_bike </td><td>2022-09-05 08:53:41</td><td>2022-09-05 09:02:50</td><td>Clark St &amp; Wellington Ave </td><td>TA1307000136</td><td><span style=white-space:pre-wrap>Clark St &amp; Lincoln Ave           </span></td><td><span style=white-space:pre-wrap>13179       </span></td><td>41.93650</td><td>-87.64754</td><td>41.91569</td><td>-87.63460</td><td>member</td><td>2022-09-05</td><td>09</td><td>05</td><td>2022</td><td><span style=white-space:pre-wrap>Monday   </span></td></tr>\n",
       "\t<tr><td>3F563C4926EAC90E</td><td>electric_bike</td><td>2022-04-23 08:33:27</td><td>2022-04-23 08:36:52</td><td>NA                        </td><td>NA          </td><td>NA                               </td><td>NA          </td><td>41.79000</td><td>-87.60000</td><td>41.80000</td><td>-87.60000</td><td>member</td><td>2022-04-23</td><td>04</td><td>23</td><td>2022</td><td>Saturday </td></tr>\n",
       "</tbody>\n",
       "</table>\n"
      ],
      "text/latex": [
       "A tibble: 6 × 18\n",
       "\\begin{tabular}{llllllllllllllllll}\n",
       " ride\\_id & rideable\\_type & started\\_at & ended\\_at & start\\_station\\_name & start\\_station\\_id & end\\_station\\_name & end\\_station\\_id & start\\_lat & start\\_lng & end\\_lat & end\\_lng & member\\_casual & date & month & day & year & day\\_of\\_week\\\\\n",
       " <chr> & <chr> & <dttm> & <dttm> & <chr> & <chr> & <chr> & <chr> & <dbl> & <dbl> & <dbl> & <dbl> & <chr> & <date> & <chr> & <chr> & <chr> & <chr>\\\\\n",
       "\\hline\n",
       "\t 1F0E84CED7ED048A & electric\\_bike & 2022-10-05 09:32:10 & 2022-10-05 09:46:30 & N Carpenter St \\& W Lake St & 20251.0      & Damen Ave \\& Pierce Ave            & TA1305000041 & 41.89000 & -87.65000 & 41.90940 & -87.67769 & casual & 2022-10-05 & 10 & 05 & 2022 & Wednesday\\\\\n",
       "\t AE53813BB650B7CD & classic\\_bike  & 2022-10-01 23:22:03 & 2022-10-01 23:28:36 & Western Ave \\& 21st St      & 13091        & Kedzie Ave \\& 21st St              & 15686        & 41.85411 & -87.68584 & 41.85353 & -87.70507 & casual & 2022-10-01 & 10 & 01 & 2022 & Saturday \\\\\n",
       "\t 597834DC97EE63D9 & classic\\_bike  & 2022-06-18 13:21:25 & 2022-06-18 13:53:11 & Halsted St \\& Roscoe St     & TA1309000025 & DuSable Lake Shore Dr \\& Monroe St & 13300        & 41.94367 & -87.64895 & 41.88096 & -87.61674 & casual & 2022-06-18 & 06 & 18 & 2022 & Saturday \\\\\n",
       "\t FE9674CF91265087 & classic\\_bike  & 2022-07-30 21:49:07 & 2022-07-30 22:08:21 & State St \\& Harrison St     & SL-007       & LaSalle Dr \\& Huron St             & KP1705001026 & 41.87405 & -87.62772 & 41.89488 & -87.63233 & casual & 2022-07-30 & 07 & 30 & 2022 & Saturday \\\\\n",
       "\t CB14C7620D563366 & classic\\_bike  & 2022-09-05 08:53:41 & 2022-09-05 09:02:50 & Clark St \\& Wellington Ave  & TA1307000136 & Clark St \\& Lincoln Ave            & 13179        & 41.93650 & -87.64754 & 41.91569 & -87.63460 & member & 2022-09-05 & 09 & 05 & 2022 & Monday   \\\\\n",
       "\t 3F563C4926EAC90E & electric\\_bike & 2022-04-23 08:33:27 & 2022-04-23 08:36:52 & NA                         & NA           & NA                                & NA           & 41.79000 & -87.60000 & 41.80000 & -87.60000 & member & 2022-04-23 & 04 & 23 & 2022 & Saturday \\\\\n",
       "\\end{tabular}\n"
      ],
      "text/markdown": [
       "\n",
       "A tibble: 6 × 18\n",
       "\n",
       "| ride_id &lt;chr&gt; | rideable_type &lt;chr&gt; | started_at &lt;dttm&gt; | ended_at &lt;dttm&gt; | start_station_name &lt;chr&gt; | start_station_id &lt;chr&gt; | end_station_name &lt;chr&gt; | end_station_id &lt;chr&gt; | start_lat &lt;dbl&gt; | start_lng &lt;dbl&gt; | end_lat &lt;dbl&gt; | end_lng &lt;dbl&gt; | member_casual &lt;chr&gt; | date &lt;date&gt; | month &lt;chr&gt; | day &lt;chr&gt; | year &lt;chr&gt; | day_of_week &lt;chr&gt; |\n",
       "|---|---|---|---|---|---|---|---|---|---|---|---|---|---|---|---|---|---|\n",
       "| 1F0E84CED7ED048A | electric_bike | 2022-10-05 09:32:10 | 2022-10-05 09:46:30 | N Carpenter St &amp; W Lake St | 20251.0      | Damen Ave &amp; Pierce Ave            | TA1305000041 | 41.89000 | -87.65000 | 41.90940 | -87.67769 | casual | 2022-10-05 | 10 | 05 | 2022 | Wednesday |\n",
       "| AE53813BB650B7CD | classic_bike  | 2022-10-01 23:22:03 | 2022-10-01 23:28:36 | Western Ave &amp; 21st St      | 13091        | Kedzie Ave &amp; 21st St              | 15686        | 41.85411 | -87.68584 | 41.85353 | -87.70507 | casual | 2022-10-01 | 10 | 01 | 2022 | Saturday  |\n",
       "| 597834DC97EE63D9 | classic_bike  | 2022-06-18 13:21:25 | 2022-06-18 13:53:11 | Halsted St &amp; Roscoe St     | TA1309000025 | DuSable Lake Shore Dr &amp; Monroe St | 13300        | 41.94367 | -87.64895 | 41.88096 | -87.61674 | casual | 2022-06-18 | 06 | 18 | 2022 | Saturday  |\n",
       "| FE9674CF91265087 | classic_bike  | 2022-07-30 21:49:07 | 2022-07-30 22:08:21 | State St &amp; Harrison St     | SL-007       | LaSalle Dr &amp; Huron St             | KP1705001026 | 41.87405 | -87.62772 | 41.89488 | -87.63233 | casual | 2022-07-30 | 07 | 30 | 2022 | Saturday  |\n",
       "| CB14C7620D563366 | classic_bike  | 2022-09-05 08:53:41 | 2022-09-05 09:02:50 | Clark St &amp; Wellington Ave  | TA1307000136 | Clark St &amp; Lincoln Ave            | 13179        | 41.93650 | -87.64754 | 41.91569 | -87.63460 | member | 2022-09-05 | 09 | 05 | 2022 | Monday    |\n",
       "| 3F563C4926EAC90E | electric_bike | 2022-04-23 08:33:27 | 2022-04-23 08:36:52 | NA                         | NA           | NA                                | NA           | 41.79000 | -87.60000 | 41.80000 | -87.60000 | member | 2022-04-23 | 04 | 23 | 2022 | Saturday  |\n",
       "\n"
      ],
      "text/plain": [
       "  ride_id          rideable_type started_at          ended_at           \n",
       "1 1F0E84CED7ED048A electric_bike 2022-10-05 09:32:10 2022-10-05 09:46:30\n",
       "2 AE53813BB650B7CD classic_bike  2022-10-01 23:22:03 2022-10-01 23:28:36\n",
       "3 597834DC97EE63D9 classic_bike  2022-06-18 13:21:25 2022-06-18 13:53:11\n",
       "4 FE9674CF91265087 classic_bike  2022-07-30 21:49:07 2022-07-30 22:08:21\n",
       "5 CB14C7620D563366 classic_bike  2022-09-05 08:53:41 2022-09-05 09:02:50\n",
       "6 3F563C4926EAC90E electric_bike 2022-04-23 08:33:27 2022-04-23 08:36:52\n",
       "  start_station_name         start_station_id end_station_name                 \n",
       "1 N Carpenter St & W Lake St 20251.0          Damen Ave & Pierce Ave           \n",
       "2 Western Ave & 21st St      13091            Kedzie Ave & 21st St             \n",
       "3 Halsted St & Roscoe St     TA1309000025     DuSable Lake Shore Dr & Monroe St\n",
       "4 State St & Harrison St     SL-007           LaSalle Dr & Huron St            \n",
       "5 Clark St & Wellington Ave  TA1307000136     Clark St & Lincoln Ave           \n",
       "6 NA                         NA               NA                               \n",
       "  end_station_id start_lat start_lng end_lat  end_lng   member_casual\n",
       "1 TA1305000041   41.89000  -87.65000 41.90940 -87.67769 casual       \n",
       "2 15686          41.85411  -87.68584 41.85353 -87.70507 casual       \n",
       "3 13300          41.94367  -87.64895 41.88096 -87.61674 casual       \n",
       "4 KP1705001026   41.87405  -87.62772 41.89488 -87.63233 casual       \n",
       "5 13179          41.93650  -87.64754 41.91569 -87.63460 member       \n",
       "6 NA             41.79000  -87.60000 41.80000 -87.60000 member       \n",
       "  date       month day year day_of_week\n",
       "1 2022-10-05 10    05  2022 Wednesday  \n",
       "2 2022-10-01 10    01  2022 Saturday   \n",
       "3 2022-06-18 06    18  2022 Saturday   \n",
       "4 2022-07-30 07    30  2022 Saturday   \n",
       "5 2022-09-05 09    05  2022 Monday     \n",
       "6 2022-04-23 04    23  2022 Saturday   "
      ]
     },
     "metadata": {},
     "output_type": "display_data"
    },
    {
     "name": "stdout",
     "output_type": "stream",
     "text": [
      "spc_tbl_ [65,820 × 18] (S3: spec_tbl_df/tbl_df/tbl/data.frame)\n",
      " $ ride_id           : chr [1:65820] \"1F0E84CED7ED048A\" \"AE53813BB650B7CD\" \"597834DC97EE63D9\" \"FE9674CF91265087\" ...\n",
      " $ rideable_type     : chr [1:65820] \"electric_bike\" \"classic_bike\" \"classic_bike\" \"classic_bike\" ...\n",
      " $ started_at        : POSIXct[1:65820], format: \"2022-10-05 09:32:10\" \"2022-10-01 23:22:03\" ...\n",
      " $ ended_at          : POSIXct[1:65820], format: \"2022-10-05 09:46:30\" \"2022-10-01 23:28:36\" ...\n",
      " $ start_station_name: chr [1:65820] \"N Carpenter St & W Lake St\" \"Western Ave & 21st St\" \"Halsted St & Roscoe St\" \"State St & Harrison St\" ...\n",
      " $ start_station_id  : chr [1:65820] \"20251.0\" \"13091\" \"TA1309000025\" \"SL-007\" ...\n",
      " $ end_station_name  : chr [1:65820] \"Damen Ave & Pierce Ave\" \"Kedzie Ave & 21st St\" \"DuSable Lake Shore Dr & Monroe St\" \"LaSalle Dr & Huron St\" ...\n",
      " $ end_station_id    : chr [1:65820] \"TA1305000041\" \"15686\" \"13300\" \"KP1705001026\" ...\n",
      " $ start_lat         : num [1:65820] 41.9 41.9 41.9 41.9 41.9 ...\n",
      " $ start_lng         : num [1:65820] -87.7 -87.7 -87.6 -87.6 -87.6 ...\n",
      " $ end_lat           : num [1:65820] 41.9 41.9 41.9 41.9 41.9 ...\n",
      " $ end_lng           : num [1:65820] -87.7 -87.7 -87.6 -87.6 -87.6 ...\n",
      " $ member_casual     : chr [1:65820] \"casual\" \"casual\" \"casual\" \"casual\" ...\n",
      " $ date              : Date[1:65820], format: \"2022-10-05\" \"2022-10-01\" ...\n",
      " $ month             : chr [1:65820] \"10\" \"10\" \"06\" \"07\" ...\n",
      " $ day               : chr [1:65820] \"05\" \"01\" \"18\" \"30\" ...\n",
      " $ year              : chr [1:65820] \"2022\" \"2022\" \"2022\" \"2022\" ...\n",
      " $ day_of_week       : chr [1:65820] \"Wednesday\" \"Saturday\" \"Saturday\" \"Saturday\" ...\n",
      " - attr(*, \"spec\")=\n",
      "  .. cols(\n",
      "  ..   ride_id = \u001b[31mcol_character()\u001b[39m,\n",
      "  ..   rideable_type = \u001b[31mcol_character()\u001b[39m,\n",
      "  ..   started_at = \u001b[34mcol_datetime(format = \"\")\u001b[39m,\n",
      "  ..   ended_at = \u001b[34mcol_datetime(format = \"\")\u001b[39m,\n",
      "  ..   start_station_name = \u001b[31mcol_character()\u001b[39m,\n",
      "  ..   start_station_id = \u001b[31mcol_character()\u001b[39m,\n",
      "  ..   end_station_name = \u001b[31mcol_character()\u001b[39m,\n",
      "  ..   end_station_id = \u001b[31mcol_character()\u001b[39m,\n",
      "  ..   start_lat = \u001b[32mcol_double()\u001b[39m,\n",
      "  ..   start_lng = \u001b[32mcol_double()\u001b[39m,\n",
      "  ..   end_lat = \u001b[32mcol_double()\u001b[39m,\n",
      "  ..   end_lng = \u001b[32mcol_double()\u001b[39m,\n",
      "  ..   member_casual = \u001b[31mcol_character()\u001b[39m\n",
      "  .. )\n",
      " - attr(*, \"problems\")=<externalptr> \n"
     ]
    }
   ],
   "source": [
    "# Add  more columns that list the date, month, day, and year of each ride\n",
    "sample_df$date <- as.Date(sample_df$started_at) #The default format is yyyy-mm-dd\n",
    "sample_df$month <- format(as.Date(sample_df$date), \"%m\")\n",
    "sample_df$day <- format(as.Date(sample_df$date), \"%d\")\n",
    "sample_df$year <- format(as.Date(sample_df$date), \"%Y\")\n",
    "sample_df$day_of_week <- format(as.Date(sample_df$date), \"%A\")\n",
    "head(sample_df)\n",
    "str(sample_df)"
   ]
  },
  {
   "cell_type": "markdown",
   "metadata": {},
   "source": [
    "6- Add another column to ride_length by calculating the difference between ended_at and started_at, convert the datatype of ride_length, and than check if ride_length is numeric."
   ]
  },
  {
   "cell_type": "code",
   "execution_count": 12,
   "metadata": {
    "execution": {
     "iopub.execute_input": "2023-02-22T15:03:41.947656Z",
     "iopub.status.busy": "2023-02-22T15:03:41.945940Z",
     "iopub.status.idle": "2023-02-22T15:03:41.979101Z"
    }
   },
   "outputs": [
    {
     "data": {
      "text/plain": [
       "Time differences in secs\n",
       "[1]  860  393 1906 1154  549  205"
      ]
     },
     "metadata": {},
     "output_type": "display_data"
    },
    {
     "name": "stdout",
     "output_type": "stream",
     "text": [
      " 'difftime' num [1:65820] 860 393 1906 1154 ...\n",
      " - attr(*, \"units\")= chr \"secs\"\n"
     ]
    }
   ],
   "source": [
    "sample_df <- sample_df %>% \n",
    "  mutate(ride_length = ended_at - started_at)\n",
    "\n",
    "head(sample_df$ride_length)\n",
    "str(sample_df$ride_length)"
   ]
  },
  {
   "cell_type": "markdown",
   "metadata": {},
   "source": [
    "- convert the ride_lenght to numeric "
   ]
  },
  {
   "cell_type": "code",
   "execution_count": 13,
   "metadata": {
    "execution": {
     "iopub.execute_input": "2023-02-22T15:03:50.058331Z",
     "iopub.status.busy": "2023-02-22T15:03:50.056665Z",
     "iopub.status.idle": "2023-02-22T15:03:50.073302Z"
    }
   },
   "outputs": [],
   "source": [
    "sample_df$ride_length <- as.numeric(sample_df$ride_length)"
   ]
  },
  {
   "cell_type": "markdown",
   "metadata": {},
   "source": [
    "7- Check for error's in ride_length (in seconds), the ride_length must be greater or equal to 0"
   ]
  },
  {
   "cell_type": "code",
   "execution_count": 14,
   "metadata": {
    "execution": {
     "iopub.execute_input": "2023-02-22T15:03:57.419639Z",
     "iopub.status.busy": "2023-02-22T15:03:57.417966Z",
     "iopub.status.idle": "2023-02-22T15:03:57.456554Z"
    }
   },
   "outputs": [
    {
     "data": {
      "text/html": [
       "0"
      ],
      "text/latex": [
       "0"
      ],
      "text/markdown": [
       "0"
      ],
      "text/plain": [
       "[1] 0"
      ]
     },
     "metadata": {},
     "output_type": "display_data"
    }
   ],
   "source": [
    "#remove bad data\n",
    "sample_df_v2 <- sample_df[!(sample_df$ride_length<0),]\n",
    "\n",
    "#error's in ride_length \n",
    "sum(sample_df_v2$ride_length < 0)"
   ]
  },
  {
   "cell_type": "markdown",
   "metadata": {},
   "source": [
    "8 -  let's see if more then casual and member in casual_member, and I doing some calculation."
   ]
  },
  {
   "cell_type": "code",
   "execution_count": 15,
   "metadata": {
    "execution": {
     "iopub.execute_input": "2023-02-22T15:04:06.553278Z",
     "iopub.status.busy": "2023-02-22T15:04:06.551481Z",
     "iopub.status.idle": "2023-02-22T15:04:06.604822Z"
    }
   },
   "outputs": [
    {
     "data": {
      "text/plain": [
       "\n",
       "casual member \n",
       " 27207  38613 "
      ]
     },
     "metadata": {},
     "output_type": "display_data"
    },
    {
     "data": {
      "text/html": [
       "<table class=\"dataframe\">\n",
       "<caption>A tibble: 2 × 3</caption>\n",
       "<thead>\n",
       "\t<tr><th scope=col>member_casual</th><th scope=col>total</th><th scope=col>percentage</th></tr>\n",
       "\t<tr><th scope=col>&lt;chr&gt;</th><th scope=col>&lt;int&gt;</th><th scope=col>&lt;dbl&gt;</th></tr>\n",
       "</thead>\n",
       "<tbody>\n",
       "\t<tr><td>casual</td><td>27207</td><td>41.33546</td></tr>\n",
       "\t<tr><td>member</td><td>38613</td><td>58.66454</td></tr>\n",
       "</tbody>\n",
       "</table>\n"
      ],
      "text/latex": [
       "A tibble: 2 × 3\n",
       "\\begin{tabular}{lll}\n",
       " member\\_casual & total & percentage\\\\\n",
       " <chr> & <int> & <dbl>\\\\\n",
       "\\hline\n",
       "\t casual & 27207 & 41.33546\\\\\n",
       "\t member & 38613 & 58.66454\\\\\n",
       "\\end{tabular}\n"
      ],
      "text/markdown": [
       "\n",
       "A tibble: 2 × 3\n",
       "\n",
       "| member_casual &lt;chr&gt; | total &lt;int&gt; | percentage &lt;dbl&gt; |\n",
       "|---|---|---|\n",
       "| casual | 27207 | 41.33546 |\n",
       "| member | 38613 | 58.66454 |\n",
       "\n"
      ],
      "text/plain": [
       "  member_casual total percentage\n",
       "1 casual        27207 41.33546  \n",
       "2 member        38613 58.66454  "
      ]
     },
     "metadata": {},
     "output_type": "display_data"
    }
   ],
   "source": [
    "table(sample_df$member_casual)\n",
    "\n",
    "sample_df %>% \n",
    "    group_by(member_casual) %>% \n",
    "    summarise(total = length(ride_length),\n",
    "              'percentage' = (length(ride_length) / nrow(sample_df_v2)) * 100)"
   ]
  },
  {
   "cell_type": "markdown",
   "metadata": {},
   "source": [
    "9- Create a new version that is cleaning and processed"
   ]
  },
  {
   "cell_type": "code",
   "execution_count": 16,
   "metadata": {
    "execution": {
     "iopub.execute_input": "2023-02-22T15:04:17.389302Z",
     "iopub.status.busy": "2023-02-22T15:04:17.387722Z",
     "iopub.status.idle": "2023-02-22T15:04:17.816848Z"
    }
   },
   "outputs": [],
   "source": [
    "write_csv(sample_df, \"sample_df_v2.csv\")"
   ]
  },
  {
   "cell_type": "markdown",
   "metadata": {},
   "source": [
    "\n",
    "After this long step of processing data, now I can do the analysis step\n",
    "\n",
    "**STEP FOUR: ANALYSIS**\n",
    "\n",
    "-Before jumping to the analysis, we must read the new version(sample_df) that we created in the chunk above, and then convert it to the tibble data frame because it is easier than the classic data frame, and take a  glimpse of seen a summary (skim_without_charts) and the structure (str) of the new version, the columns must be 19, and the rows must be 65,820"
   ]
  },
  {
   "cell_type": "code",
   "execution_count": 17,
   "metadata": {
    "execution": {
     "iopub.execute_input": "2023-02-22T15:04:22.710673Z",
     "iopub.status.busy": "2023-02-22T15:04:22.708887Z",
     "iopub.status.idle": "2023-02-22T15:04:25.352811Z"
    }
   },
   "outputs": [
    {
     "name": "stderr",
     "output_type": "stream",
     "text": [
      "\u001b[1mRows: \u001b[22m\u001b[34m65820\u001b[39m \u001b[1mColumns: \u001b[22m\u001b[34m19\u001b[39m\n",
      "\u001b[36m──\u001b[39m \u001b[1mColumn specification\u001b[22m \u001b[36m────────────────────────────────────────────────────────\u001b[39m\n",
      "\u001b[1mDelimiter:\u001b[22m \",\"\n",
      "\u001b[31mchr\u001b[39m  (10): ride_id, rideable_type, start_station_name, start_station_id, end...\n",
      "\u001b[32mdbl\u001b[39m   (6): start_lat, start_lng, end_lat, end_lng, year, ride_length\n",
      "\u001b[34mdttm\u001b[39m  (2): started_at, ended_at\n",
      "\u001b[34mdate\u001b[39m  (1): date\n",
      "\n",
      "\u001b[36mℹ\u001b[39m Use `spec()` to retrieve the full column specification for this data.\n",
      "\u001b[36mℹ\u001b[39m Specify the column types or set `show_col_types = FALSE` to quiet this message.\n"
     ]
    },
    {
     "data": {
      "text/html": [
       "<table class=\"dataframe\">\n",
       "<caption>A tibble: 65820 × 19</caption>\n",
       "<thead>\n",
       "\t<tr><th scope=col>ride_id</th><th scope=col>rideable_type</th><th scope=col>started_at</th><th scope=col>ended_at</th><th scope=col>start_station_name</th><th scope=col>start_station_id</th><th scope=col>end_station_name</th><th scope=col>end_station_id</th><th scope=col>start_lat</th><th scope=col>start_lng</th><th scope=col>end_lat</th><th scope=col>end_lng</th><th scope=col>member_casual</th><th scope=col>date</th><th scope=col>month</th><th scope=col>day</th><th scope=col>year</th><th scope=col>day_of_week</th><th scope=col>ride_length</th></tr>\n",
       "\t<tr><th scope=col>&lt;chr&gt;</th><th scope=col>&lt;chr&gt;</th><th scope=col>&lt;dttm&gt;</th><th scope=col>&lt;dttm&gt;</th><th scope=col>&lt;chr&gt;</th><th scope=col>&lt;chr&gt;</th><th scope=col>&lt;chr&gt;</th><th scope=col>&lt;chr&gt;</th><th scope=col>&lt;dbl&gt;</th><th scope=col>&lt;dbl&gt;</th><th scope=col>&lt;dbl&gt;</th><th scope=col>&lt;dbl&gt;</th><th scope=col>&lt;chr&gt;</th><th scope=col>&lt;date&gt;</th><th scope=col>&lt;chr&gt;</th><th scope=col>&lt;chr&gt;</th><th scope=col>&lt;dbl&gt;</th><th scope=col>&lt;chr&gt;</th><th scope=col>&lt;dbl&gt;</th></tr>\n",
       "</thead>\n",
       "<tbody>\n",
       "\t<tr><td>1F0E84CED7ED048A</td><td>electric_bike</td><td>2022-10-05 09:32:10</td><td>2022-10-05 09:46:30</td><td><span style=white-space:pre-wrap>N Carpenter St &amp; W Lake St                         </span></td><td><span style=white-space:pre-wrap>20251.0     </span></td><td><span style=white-space:pre-wrap>Damen Ave &amp; Pierce Ave              </span></td><td>TA1305000041</td><td>41.89000</td><td>-87.65000</td><td>41.90940</td><td>-87.67769</td><td>casual</td><td>2022-10-05</td><td>10</td><td>05</td><td>2022</td><td>Wednesday</td><td> 860</td></tr>\n",
       "\t<tr><td>AE53813BB650B7CD</td><td>classic_bike </td><td>2022-10-01 23:22:03</td><td>2022-10-01 23:28:36</td><td><span style=white-space:pre-wrap>Western Ave &amp; 21st St                              </span></td><td><span style=white-space:pre-wrap>13091       </span></td><td><span style=white-space:pre-wrap>Kedzie Ave &amp; 21st St                </span></td><td><span style=white-space:pre-wrap>15686       </span></td><td>41.85411</td><td>-87.68584</td><td>41.85353</td><td>-87.70507</td><td>casual</td><td>2022-10-01</td><td>10</td><td>01</td><td>2022</td><td>Saturday </td><td> 393</td></tr>\n",
       "\t<tr><td>597834DC97EE63D9</td><td>classic_bike </td><td>2022-06-18 13:21:25</td><td>2022-06-18 13:53:11</td><td><span style=white-space:pre-wrap>Halsted St &amp; Roscoe St                             </span></td><td>TA1309000025</td><td><span style=white-space:pre-wrap>DuSable Lake Shore Dr &amp; Monroe St   </span></td><td><span style=white-space:pre-wrap>13300       </span></td><td>41.94367</td><td>-87.64895</td><td>41.88096</td><td>-87.61674</td><td>casual</td><td>2022-06-18</td><td>06</td><td>18</td><td>2022</td><td>Saturday </td><td>1906</td></tr>\n",
       "\t<tr><td>FE9674CF91265087</td><td>classic_bike </td><td>2022-07-30 21:49:07</td><td>2022-07-30 22:08:21</td><td><span style=white-space:pre-wrap>State St &amp; Harrison St                             </span></td><td><span style=white-space:pre-wrap>SL-007      </span></td><td><span style=white-space:pre-wrap>LaSalle Dr &amp; Huron St               </span></td><td>KP1705001026</td><td>41.87405</td><td>-87.62772</td><td>41.89488</td><td>-87.63233</td><td>casual</td><td>2022-07-30</td><td>07</td><td>30</td><td>2022</td><td>Saturday </td><td>1154</td></tr>\n",
       "\t<tr><td>CB14C7620D563366</td><td>classic_bike </td><td>2022-09-05 08:53:41</td><td>2022-09-05 09:02:50</td><td><span style=white-space:pre-wrap>Clark St &amp; Wellington Ave                          </span></td><td>TA1307000136</td><td><span style=white-space:pre-wrap>Clark St &amp; Lincoln Ave              </span></td><td><span style=white-space:pre-wrap>13179       </span></td><td>41.93650</td><td>-87.64754</td><td>41.91569</td><td>-87.63460</td><td>member</td><td>2022-09-05</td><td>09</td><td>05</td><td>2022</td><td><span style=white-space:pre-wrap>Monday   </span></td><td> 549</td></tr>\n",
       "\t<tr><td>3F563C4926EAC90E</td><td>electric_bike</td><td>2022-04-23 08:33:27</td><td>2022-04-23 08:36:52</td><td>NA                                                 </td><td>NA          </td><td>NA                                  </td><td>NA          </td><td>41.79000</td><td>-87.60000</td><td>41.80000</td><td>-87.60000</td><td>member</td><td>2022-04-23</td><td>04</td><td>23</td><td>2022</td><td>Saturday </td><td> 205</td></tr>\n",
       "\t<tr><td>A1CF30BC39DF166E</td><td>electric_bike</td><td>2022-06-17 06:26:12</td><td>2022-06-17 07:09:58</td><td><span style=white-space:pre-wrap>Sheffield Ave &amp; Wrightwood Ave                     </span></td><td>TA1309000023</td><td><span style=white-space:pre-wrap>NA                                  </span></td><td><span style=white-space:pre-wrap>NA          </span></td><td>41.92864</td><td>-87.65378</td><td>41.96000</td><td>-87.63000</td><td>casual</td><td>2022-06-17</td><td>06</td><td>17</td><td>2022</td><td><span style=white-space:pre-wrap>Friday   </span></td><td>2626</td></tr>\n",
       "\t<tr><td>57DBE2529D0AC868</td><td><span style=white-space:pre-wrap>docked_bike  </span></td><td>2022-11-03 16:07:29</td><td>2022-11-03 17:28:19</td><td><span style=white-space:pre-wrap>Clark St &amp; Lake St                                 </span></td><td>KA1503000012</td><td><span style=white-space:pre-wrap>Wabash Ave &amp; Roosevelt Rd           </span></td><td>TA1305000002</td><td>41.88602</td><td>-87.63088</td><td>41.86723</td><td>-87.62596</td><td>casual</td><td>2022-11-03</td><td>11</td><td>03</td><td>2022</td><td>Thursday </td><td>4850</td></tr>\n",
       "\t<tr><td>DB7692E113A86B1E</td><td>classic_bike </td><td>2022-07-12 09:17:48</td><td>2022-07-12 09:20:28</td><td><span style=white-space:pre-wrap>California Ave &amp; Altgeld St                        </span></td><td><span style=white-space:pre-wrap>15646       </span></td><td><span style=white-space:pre-wrap>California Ave &amp; Milwaukee Ave      </span></td><td><span style=white-space:pre-wrap>13084       </span></td><td>41.92669</td><td>-87.69767</td><td>41.92269</td><td>-87.69715</td><td>member</td><td>2022-07-12</td><td>07</td><td>12</td><td>2022</td><td><span style=white-space:pre-wrap>Tuesday  </span></td><td> 160</td></tr>\n",
       "\t<tr><td>682CF82B31B1478A</td><td>classic_bike </td><td>2022-08-25 17:39:57</td><td>2022-08-25 17:40:38</td><td><span style=white-space:pre-wrap>Fort Dearborn Dr &amp; 31st St                         </span></td><td>TA1307000048</td><td><span style=white-space:pre-wrap>Fort Dearborn Dr &amp; 31st St          </span></td><td>TA1307000048</td><td>41.83856</td><td>-87.60822</td><td>41.83856</td><td>-87.60822</td><td>member</td><td>2022-08-25</td><td>08</td><td>25</td><td>2022</td><td>Thursday </td><td><span style=white-space:pre-wrap>  41</span></td></tr>\n",
       "\t<tr><td>AEA02F59D754E013</td><td>classic_bike </td><td>2022-10-13 07:57:28</td><td>2022-10-13 08:05:17</td><td><span style=white-space:pre-wrap>Dearborn St &amp; Erie St                              </span></td><td><span style=white-space:pre-wrap>13045       </span></td><td><span style=white-space:pre-wrap>Larrabee St &amp; Division St           </span></td><td>KA1504000079</td><td>41.89399</td><td>-87.62932</td><td>41.90349</td><td>-87.64335</td><td>member</td><td>2022-10-13</td><td>10</td><td>13</td><td>2022</td><td>Thursday </td><td> 469</td></tr>\n",
       "\t<tr><td>749D235215460FAD</td><td>classic_bike </td><td>2022-10-26 20:49:57</td><td>2022-10-26 20:54:11</td><td><span style=white-space:pre-wrap>Chicago Ave &amp; Sheridan Rd                          </span></td><td><span style=white-space:pre-wrap>E008        </span></td><td><span style=white-space:pre-wrap>Sheridan Rd &amp; Noyes St (NU)         </span></td><td><span style=white-space:pre-wrap>604         </span></td><td>42.05049</td><td>-87.67782</td><td>42.05824</td><td>-87.67743</td><td>casual</td><td>2022-10-26</td><td>10</td><td>26</td><td>2022</td><td>Wednesday</td><td> 254</td></tr>\n",
       "\t<tr><td>B3C862924B65C0CD</td><td>classic_bike </td><td>2022-03-16 18:03:59</td><td>2022-03-16 18:34:25</td><td><span style=white-space:pre-wrap>Dearborn St &amp; Adams St                             </span></td><td>TA1305000005</td><td><span style=white-space:pre-wrap>Broadway &amp; Barry Ave                </span></td><td><span style=white-space:pre-wrap>13137       </span></td><td>41.87936</td><td>-87.62979</td><td>41.93758</td><td>-87.64410</td><td>member</td><td>2022-03-16</td><td>03</td><td>16</td><td>2022</td><td>Wednesday</td><td>1826</td></tr>\n",
       "\t<tr><td>1910F942A93E6768</td><td>electric_bike</td><td>2022-09-10 12:44:40</td><td>2022-09-10 12:57:29</td><td>Broadway &amp; Wilson - Truman College Vaccination Site</td><td><span style=white-space:pre-wrap>13074       </span></td><td><span style=white-space:pre-wrap>Washtenaw Ave &amp; Lawrence Ave        </span></td><td>KA1504000080</td><td>41.96515</td><td>-87.65832</td><td>41.96899</td><td>-87.69603</td><td>casual</td><td>2022-09-10</td><td>09</td><td>10</td><td>2022</td><td>Saturday </td><td> 769</td></tr>\n",
       "\t<tr><td>52CEE1D5EDBCA4B3</td><td>classic_bike </td><td>2022-07-30 15:18:30</td><td>2022-07-30 15:48:25</td><td><span style=white-space:pre-wrap>Leavitt St &amp; Armitage Ave                          </span></td><td>TA1309000029</td><td><span style=white-space:pre-wrap>Broadway &amp; Cornelia Ave             </span></td><td><span style=white-space:pre-wrap>13278       </span></td><td>41.91781</td><td>-87.68244</td><td>41.94553</td><td>-87.64644</td><td>casual</td><td>2022-07-30</td><td>07</td><td>30</td><td>2022</td><td>Saturday </td><td>1795</td></tr>\n",
       "\t<tr><td>67031E3BE1B845E0</td><td>electric_bike</td><td>2022-06-15 18:32:43</td><td>2022-06-15 18:50:37</td><td>NA                                                 </td><td>NA          </td><td>NA                                  </td><td>NA          </td><td>41.96000</td><td>-87.65000</td><td>41.91000</td><td>-87.63000</td><td>member</td><td>2022-06-15</td><td>06</td><td>15</td><td>2022</td><td>Wednesday</td><td>1074</td></tr>\n",
       "\t<tr><td>642DBA0311EB9061</td><td>electric_bike</td><td>2022-03-29 19:45:56</td><td>2022-03-29 20:07:40</td><td><span style=white-space:pre-wrap>NA                                                 </span></td><td><span style=white-space:pre-wrap>NA          </span></td><td><span style=white-space:pre-wrap>Lakeview Ave &amp; Fullerton Pkwy       </span></td><td>TA1309000019</td><td>41.90000</td><td>-87.69000</td><td>41.92586</td><td>-87.63897</td><td>member</td><td>2022-03-29</td><td>03</td><td>29</td><td>2022</td><td><span style=white-space:pre-wrap>Tuesday  </span></td><td>1304</td></tr>\n",
       "\t<tr><td>AD769C202332A30B</td><td>electric_bike</td><td>2022-09-05 17:51:58</td><td>2022-09-05 18:04:14</td><td><span style=white-space:pre-wrap>Sheffield Ave &amp; Webster Ave                        </span></td><td>TA1309000033</td><td><span style=white-space:pre-wrap>NA                                  </span></td><td><span style=white-space:pre-wrap>NA          </span></td><td>41.92168</td><td>-87.65344</td><td>41.90000</td><td>-87.63000</td><td>member</td><td>2022-09-05</td><td>09</td><td>05</td><td>2022</td><td><span style=white-space:pre-wrap>Monday   </span></td><td> 736</td></tr>\n",
       "\t<tr><td>B8F034923760BC56</td><td>electric_bike</td><td>2022-06-26 10:17:43</td><td>2022-06-26 10:33:58</td><td>NA                                                 </td><td>NA          </td><td>NA                                  </td><td>NA          </td><td>41.87000</td><td>-87.68000</td><td>41.87000</td><td>-87.66000</td><td>member</td><td>2022-06-26</td><td>06</td><td>26</td><td>2022</td><td>Sunday   </td><td> 975</td></tr>\n",
       "\t<tr><td>F23D308C26F7B28C</td><td>electric_bike</td><td>2022-04-24 09:02:14</td><td>2022-04-24 09:10:46</td><td><span style=white-space:pre-wrap>Wabash Ave &amp; 9th St                                </span></td><td>TA1309000010</td><td><span style=white-space:pre-wrap>900 W Harrison St                   </span></td><td><span style=white-space:pre-wrap>13028       </span></td><td>41.87065</td><td>-87.62577</td><td>41.87475</td><td>-87.64981</td><td>member</td><td>2022-04-24</td><td>04</td><td>24</td><td>2022</td><td><span style=white-space:pre-wrap>Sunday   </span></td><td> 512</td></tr>\n",
       "\t<tr><td>761C04617ABC4C01</td><td>electric_bike</td><td>2022-07-22 11:47:12</td><td>2022-07-22 11:59:30</td><td><span style=white-space:pre-wrap>Racine Ave &amp; Fullerton Ave                         </span></td><td>TA1306000026</td><td>Orleans St &amp; Chestnut St (NEXT Apts)</td><td><span style=white-space:pre-wrap>620         </span></td><td>41.92574</td><td>-87.65845</td><td>41.89820</td><td>-87.63754</td><td>member</td><td>2022-07-22</td><td>07</td><td>22</td><td>2022</td><td><span style=white-space:pre-wrap>Friday   </span></td><td> 738</td></tr>\n",
       "\t<tr><td>6E524C1117F7DC99</td><td>classic_bike </td><td>2022-06-19 14:29:07</td><td>2022-06-19 14:58:42</td><td><span style=white-space:pre-wrap>Clinton St &amp; Madison St                            </span></td><td>TA1305000032</td><td><span style=white-space:pre-wrap>Fairfield Ave &amp; Roosevelt Rd        </span></td><td>KA1504000102</td><td>41.88224</td><td>-87.64107</td><td>41.86662</td><td>-87.69452</td><td>casual</td><td>2022-06-19</td><td>06</td><td>19</td><td>2022</td><td><span style=white-space:pre-wrap>Sunday   </span></td><td>1775</td></tr>\n",
       "\t<tr><td>5FEAAFDA6D7D57DF</td><td>electric_bike</td><td>2022-06-04 19:41:08</td><td>2022-06-04 19:56:58</td><td><span style=white-space:pre-wrap>Desplaines St &amp; Kinzie St                          </span></td><td>TA1306000003</td><td><span style=white-space:pre-wrap>Clark St &amp; Drummond Pl              </span></td><td>TA1307000142</td><td>41.88864</td><td>-87.64444</td><td>41.93125</td><td>-87.64434</td><td>casual</td><td>2022-06-04</td><td>06</td><td>04</td><td>2022</td><td>Saturday </td><td> 950</td></tr>\n",
       "\t<tr><td>E462EC7D89400DC7</td><td>electric_bike</td><td>2022-06-30 18:17:47</td><td>2022-06-30 18:19:25</td><td>NA                                                 </td><td>NA          </td><td>Shedd Aquarium                      </td><td>15544       </td><td>41.87000</td><td>-87.62000</td><td>41.86723</td><td>-87.61536</td><td>member</td><td>2022-06-30</td><td>06</td><td>30</td><td>2022</td><td>Thursday </td><td>  98</td></tr>\n",
       "\t<tr><td>A26AC268787BF24D</td><td>electric_bike</td><td>2022-03-03 17:19:28</td><td>2022-03-03 17:42:46</td><td><span style=white-space:pre-wrap>Canal St &amp; Adams St                                </span></td><td><span style=white-space:pre-wrap>13011       </span></td><td><span style=white-space:pre-wrap>Lincoln Ave &amp; Belmont Ave           </span></td><td>TA1309000042</td><td>41.87952</td><td>-87.64027</td><td>41.93937</td><td>-87.66839</td><td>member</td><td>2022-03-03</td><td>03</td><td>03</td><td>2022</td><td>Thursday </td><td>1398</td></tr>\n",
       "\t<tr><td>E327828D6839458A</td><td>classic_bike </td><td>2022-07-22 16:42:10</td><td>2022-07-22 17:00:04</td><td><span style=white-space:pre-wrap>University Ave &amp; 57th St                           </span></td><td>KA1503000071</td><td><span style=white-space:pre-wrap>Ellis Ave &amp; 55th St                 </span></td><td>KA1504000076</td><td>41.79148</td><td>-87.59986</td><td>41.79430</td><td>-87.60145</td><td>member</td><td>2022-07-22</td><td>07</td><td>22</td><td>2022</td><td><span style=white-space:pre-wrap>Friday   </span></td><td>1074</td></tr>\n",
       "\t<tr><td>0382271D0C7079BA</td><td>electric_bike</td><td>2023-01-23 17:11:14</td><td>2023-01-23 17:11:25</td><td><span style=white-space:pre-wrap>Desplaines St &amp; Kinzie St                          </span></td><td>TA1306000003</td><td><span style=white-space:pre-wrap>Desplaines St &amp; Kinzie St           </span></td><td>TA1306000003</td><td>41.88850</td><td>-87.64438</td><td>41.88872</td><td>-87.64445</td><td>member</td><td>2023-01-23</td><td>01</td><td>23</td><td>2023</td><td><span style=white-space:pre-wrap>Monday   </span></td><td><span style=white-space:pre-wrap>  11</span></td></tr>\n",
       "\t<tr><td>C9B7853430E7A007</td><td>electric_bike</td><td>2022-06-23 07:29:51</td><td>2022-06-23 07:35:44</td><td><span style=white-space:pre-wrap>Ellis Ave &amp; 60th St                                </span></td><td>KA1503000014</td><td><span style=white-space:pre-wrap>Harper Ave &amp; 59th St                </span></td><td>KA1503000070</td><td>41.78516</td><td>-87.60108</td><td>41.78794</td><td>-87.58832</td><td>member</td><td>2022-06-23</td><td>06</td><td>23</td><td>2022</td><td>Thursday </td><td> 353</td></tr>\n",
       "\t<tr><td>539FB63C7E8A6B7F</td><td>classic_bike </td><td>2022-04-12 17:59:08</td><td>2022-04-12 18:05:03</td><td><span style=white-space:pre-wrap>State St &amp; Chicago Ave                             </span></td><td><span style=white-space:pre-wrap>21544       </span></td><td><span style=white-space:pre-wrap>Wells St &amp; Elm St                   </span></td><td>KA1504000135</td><td>41.89662</td><td>-87.62858</td><td>41.90322</td><td>-87.63432</td><td>casual</td><td>2022-04-12</td><td>04</td><td>12</td><td>2022</td><td><span style=white-space:pre-wrap>Tuesday  </span></td><td> 355</td></tr>\n",
       "\t<tr><td>E8D26764F9A76C7A</td><td>electric_bike</td><td>2022-09-24 17:55:59</td><td>2022-09-24 18:09:37</td><td><span style=white-space:pre-wrap>Halsted St &amp; Polk St                               </span></td><td>TA1307000121</td><td><span style=white-space:pre-wrap>NA                                  </span></td><td><span style=white-space:pre-wrap>NA          </span></td><td>41.87179</td><td>-87.64672</td><td>41.86000</td><td>-87.66000</td><td>member</td><td>2022-09-24</td><td>09</td><td>24</td><td>2022</td><td>Saturday </td><td> 818</td></tr>\n",
       "\t<tr><td>⋮</td><td>⋮</td><td>⋮</td><td>⋮</td><td>⋮</td><td>⋮</td><td>⋮</td><td>⋮</td><td>⋮</td><td>⋮</td><td>⋮</td><td>⋮</td><td>⋮</td><td>⋮</td><td>⋮</td><td>⋮</td><td>⋮</td><td>⋮</td><td>⋮</td></tr>\n",
       "\t<tr><td>4F2F88BFB61F6446</td><td>classic_bike </td><td>2022-06-16 22:35:24</td><td>2022-06-16 22:40:37</td><td><span style=white-space:pre-wrap>Clark St &amp; Winnemac Ave            </span></td><td>TA1309000035</td><td><span style=white-space:pre-wrap>Clark St &amp; Bryn Mawr Ave           </span></td><td>KA1504000151</td><td>41.97335</td><td>-87.66786</td><td>41.98359</td><td>-87.66915</td><td>casual</td><td>2022-06-16</td><td>06</td><td>16</td><td>2022</td><td>Thursday </td><td> 313</td></tr>\n",
       "\t<tr><td>EA771A66D77E3073</td><td>classic_bike </td><td>2022-06-30 22:45:13</td><td>2022-06-30 23:06:36</td><td><span style=white-space:pre-wrap>Pine Grove Ave &amp; Waveland Ave      </span></td><td>TA1307000150</td><td><span style=white-space:pre-wrap>Damen Ave &amp; Charleston St          </span></td><td><span style=white-space:pre-wrap>13288       </span></td><td>41.94947</td><td>-87.64645</td><td>41.92008</td><td>-87.67785</td><td>member</td><td>2022-06-30</td><td>06</td><td>30</td><td>2022</td><td>Thursday </td><td>1283</td></tr>\n",
       "\t<tr><td>0908AC13A03159CC</td><td>classic_bike </td><td>2022-04-19 21:59:22</td><td>2022-04-19 22:11:50</td><td><span style=white-space:pre-wrap>Eckhart Park                       </span></td><td><span style=white-space:pre-wrap>13289       </span></td><td><span style=white-space:pre-wrap>Western Ave &amp; Winnebago Ave        </span></td><td><span style=white-space:pre-wrap>13068       </span></td><td>41.89637</td><td>-87.66098</td><td>41.91552</td><td>-87.68702</td><td>member</td><td>2022-04-19</td><td>04</td><td>19</td><td>2022</td><td><span style=white-space:pre-wrap>Tuesday  </span></td><td> 748</td></tr>\n",
       "\t<tr><td>AD64E7DB729BD92F</td><td>electric_bike</td><td>2022-10-05 20:10:48</td><td>2022-10-05 20:28:23</td><td><span style=white-space:pre-wrap>Halsted St &amp; Willow St             </span></td><td>TA1307000166</td><td><span style=white-space:pre-wrap>Winthrop Ave &amp; Lawrence Ave        </span></td><td>TA1308000021</td><td>41.91382</td><td>-87.64887</td><td>41.96881</td><td>-87.65766</td><td>casual</td><td>2022-10-05</td><td>10</td><td>05</td><td>2022</td><td>Wednesday</td><td>1055</td></tr>\n",
       "\t<tr><td>F0767E1FCD71A3F1</td><td>classic_bike </td><td>2022-02-11 20:25:28</td><td>2022-02-11 20:29:35</td><td><span style=white-space:pre-wrap>Rush St &amp; Superior St              </span></td><td><span style=white-space:pre-wrap>15530       </span></td><td><span style=white-space:pre-wrap>Rush St &amp; Cedar St                 </span></td><td>KA1504000133</td><td>41.89576</td><td>-87.62591</td><td>41.90231</td><td>-87.62769</td><td>member</td><td>2022-02-11</td><td>02</td><td>11</td><td>2022</td><td><span style=white-space:pre-wrap>Friday   </span></td><td> 247</td></tr>\n",
       "\t<tr><td>B0FA1BE34A17A9BE</td><td><span style=white-space:pre-wrap>docked_bike  </span></td><td>2022-07-09 13:37:05</td><td>2022-07-09 14:04:46</td><td><span style=white-space:pre-wrap>Broadway &amp; Belmont Ave             </span></td><td><span style=white-space:pre-wrap>13277       </span></td><td><span style=white-space:pre-wrap>Clark St &amp; Lincoln Ave             </span></td><td><span style=white-space:pre-wrap>13179       </span></td><td>41.94011</td><td>-87.64545</td><td>41.91569</td><td>-87.63460</td><td>casual</td><td>2022-07-09</td><td>07</td><td>09</td><td>2022</td><td>Saturday </td><td>1661</td></tr>\n",
       "\t<tr><td>4C59694ACC6D5A87</td><td>electric_bike</td><td>2022-04-23 06:53:25</td><td>2022-04-23 07:01:59</td><td><span style=white-space:pre-wrap>Wabash Ave &amp; Grand Ave             </span></td><td>TA1307000117</td><td><span style=white-space:pre-wrap>Wells St &amp; Concord Ln              </span></td><td>TA1308000050</td><td>41.89146</td><td>-87.62669</td><td>41.91213</td><td>-87.63466</td><td>member</td><td>2022-04-23</td><td>04</td><td>23</td><td>2022</td><td>Saturday </td><td> 514</td></tr>\n",
       "\t<tr><td>E6452FDE1C6358CD</td><td>electric_bike</td><td>2022-06-03 11:20:00</td><td>2022-06-03 11:40:40</td><td><span style=white-space:pre-wrap>NA                                 </span></td><td><span style=white-space:pre-wrap>NA          </span></td><td><span style=white-space:pre-wrap>Stockton Dr &amp; Wrightwood Ave       </span></td><td><span style=white-space:pre-wrap>13276       </span></td><td>41.90000</td><td>-87.64000</td><td>41.93132</td><td>-87.63874</td><td>member</td><td>2022-06-03</td><td>06</td><td>03</td><td>2022</td><td><span style=white-space:pre-wrap>Friday   </span></td><td>1240</td></tr>\n",
       "\t<tr><td>960967931D7F8779</td><td>classic_bike </td><td>2022-06-11 13:50:15</td><td>2022-06-11 14:07:38</td><td><span style=white-space:pre-wrap>Green St &amp; Randolph St             </span></td><td><span style=white-space:pre-wrap>13053       </span></td><td><span style=white-space:pre-wrap>Halsted St &amp; Willow St             </span></td><td>TA1307000166</td><td>41.88318</td><td>-87.64872</td><td>41.91387</td><td>-87.64875</td><td>casual</td><td>2022-06-11</td><td>06</td><td>11</td><td>2022</td><td>Saturday </td><td>1043</td></tr>\n",
       "\t<tr><td>5F54EAE23AF1EB2C</td><td>electric_bike</td><td>2022-02-27 15:06:52</td><td>2022-02-27 15:13:21</td><td><span style=white-space:pre-wrap>Wells St &amp; Concord Ln              </span></td><td>TA1308000050</td><td><span style=white-space:pre-wrap>Larrabee St &amp; Division St          </span></td><td>KA1504000079</td><td>41.91208</td><td>-87.63469</td><td>41.90349</td><td>-87.64335</td><td>member</td><td>2022-02-27</td><td>02</td><td>27</td><td>2022</td><td><span style=white-space:pre-wrap>Sunday   </span></td><td> 389</td></tr>\n",
       "\t<tr><td>237A6A249097204E</td><td>electric_bike</td><td>2022-09-05 18:10:33</td><td>2022-09-05 18:21:09</td><td><span style=white-space:pre-wrap>Field Blvd &amp; South Water St        </span></td><td><span style=white-space:pre-wrap>15534       </span></td><td><span style=white-space:pre-wrap>Field Blvd &amp; South Water St        </span></td><td><span style=white-space:pre-wrap>15534       </span></td><td>41.88622</td><td>-87.61743</td><td>41.88635</td><td>-87.61752</td><td>casual</td><td>2022-09-05</td><td>09</td><td>05</td><td>2022</td><td><span style=white-space:pre-wrap>Monday   </span></td><td> 636</td></tr>\n",
       "\t<tr><td>56DC2854E54CDDF6</td><td>electric_bike</td><td>2023-01-04 09:31:32</td><td>2023-01-04 09:41:44</td><td><span style=white-space:pre-wrap>Canal St &amp; Jackson Blvd            </span></td><td><span style=white-space:pre-wrap>13138       </span></td><td><span style=white-space:pre-wrap>Michigan Ave &amp; Pearson St          </span></td><td><span style=white-space:pre-wrap>13034       </span></td><td>41.87737</td><td>-87.64026</td><td>41.89766</td><td>-87.62351</td><td>casual</td><td>2023-01-04</td><td>01</td><td>04</td><td>2023</td><td>Wednesday</td><td> 612</td></tr>\n",
       "\t<tr><td>7F4B85752BEB89B5</td><td>docked_bike  </td><td>2022-07-22 20:25:27</td><td>2022-07-22 21:17:52</td><td>Millennium Park                    </td><td>13008       </td><td>Theater on the Lake                </td><td>TA1308000001</td><td>41.88103</td><td>-87.62408</td><td>41.92628</td><td>-87.63083</td><td>casual</td><td>2022-07-22</td><td>07</td><td>22</td><td>2022</td><td>Friday   </td><td>3145</td></tr>\n",
       "\t<tr><td>5F9A2074FD5EDFC0</td><td>classic_bike </td><td>2022-08-25 19:38:56</td><td>2022-08-25 19:56:07</td><td><span style=white-space:pre-wrap>Michigan Ave &amp; Oak St              </span></td><td><span style=white-space:pre-wrap>13042       </span></td><td><span style=white-space:pre-wrap>Broadway &amp; Barry Ave               </span></td><td><span style=white-space:pre-wrap>13137       </span></td><td>41.90096</td><td>-87.62378</td><td>41.93758</td><td>-87.64410</td><td>member</td><td>2022-08-25</td><td>08</td><td>25</td><td>2022</td><td>Thursday </td><td>1031</td></tr>\n",
       "\t<tr><td>0A2FA88733CA54A5</td><td>classic_bike </td><td>2022-06-01 07:27:32</td><td>2022-06-01 07:42:40</td><td><span style=white-space:pre-wrap>St. Clair St &amp; Erie St             </span></td><td><span style=white-space:pre-wrap>13016       </span></td><td><span style=white-space:pre-wrap>Green St &amp; Randolph St             </span></td><td><span style=white-space:pre-wrap>13053       </span></td><td>41.89435</td><td>-87.62280</td><td>41.88318</td><td>-87.64872</td><td>member</td><td>2022-06-01</td><td>06</td><td>01</td><td>2022</td><td>Wednesday</td><td> 908</td></tr>\n",
       "\t<tr><td>2A9165497AED784B</td><td>classic_bike </td><td>2022-06-20 19:47:02</td><td>2022-06-20 19:57:08</td><td><span style=white-space:pre-wrap>Wells St &amp; Concord Ln              </span></td><td>TA1308000050</td><td><span style=white-space:pre-wrap>Sheffield Ave &amp; Wrightwood Ave     </span></td><td>TA1309000023</td><td>41.91213</td><td>-87.63466</td><td>41.92871</td><td>-87.65383</td><td>member</td><td>2022-06-20</td><td>06</td><td>20</td><td>2022</td><td><span style=white-space:pre-wrap>Monday   </span></td><td> 606</td></tr>\n",
       "\t<tr><td>C5B304AFC51332D0</td><td>electric_bike</td><td>2022-06-10 18:55:30</td><td>2022-06-10 18:59:46</td><td>NA                                 </td><td>NA          </td><td>NA                                 </td><td>NA          </td><td>41.99000</td><td>-87.67000</td><td>41.98000</td><td>-87.67000</td><td>member</td><td>2022-06-10</td><td>06</td><td>10</td><td>2022</td><td>Friday   </td><td> 256</td></tr>\n",
       "\t<tr><td>3D604BBE2D5C37B7</td><td>classic_bike </td><td>2022-06-13 15:11:07</td><td>2022-06-13 15:18:45</td><td><span style=white-space:pre-wrap>McCormick Place                    </span></td><td>TA1305000004</td><td><span style=white-space:pre-wrap>Calumet Ave &amp; 21st St              </span></td><td><span style=white-space:pre-wrap>15546       </span></td><td>41.85138</td><td>-87.61883</td><td>41.85418</td><td>-87.61915</td><td>casual</td><td>2022-06-13</td><td>06</td><td>13</td><td>2022</td><td><span style=white-space:pre-wrap>Monday   </span></td><td> 458</td></tr>\n",
       "\t<tr><td>8BDBA869D7110C25</td><td>classic_bike </td><td>2022-06-19 11:51:49</td><td>2022-06-19 12:13:51</td><td><span style=white-space:pre-wrap>Larrabee St &amp; Division St          </span></td><td>KA1504000079</td><td><span style=white-space:pre-wrap>Southport Ave &amp; Wellington Ave     </span></td><td>TA1307000006</td><td>41.90349</td><td>-87.64335</td><td>41.93573</td><td>-87.66358</td><td>member</td><td>2022-06-19</td><td>06</td><td>19</td><td>2022</td><td><span style=white-space:pre-wrap>Sunday   </span></td><td>1322</td></tr>\n",
       "\t<tr><td>7E2CDD537DDE1D74</td><td>electric_bike</td><td>2023-01-24 15:35:39</td><td>2023-01-24 15:54:00</td><td><span style=white-space:pre-wrap>Albany Ave &amp; Montrose Ave          </span></td><td><span style=white-space:pre-wrap>15621       </span></td><td><span style=white-space:pre-wrap>Clark St &amp; Winnemac Ave            </span></td><td>TA1309000035</td><td>41.96104</td><td>-87.70575</td><td>41.97335</td><td>-87.66786</td><td>member</td><td>2023-01-24</td><td>01</td><td>24</td><td>2023</td><td><span style=white-space:pre-wrap>Tuesday  </span></td><td>1101</td></tr>\n",
       "\t<tr><td>1AD96C088702F2DE</td><td>electric_bike</td><td>2022-04-28 12:08:26</td><td>2022-04-28 12:12:53</td><td>NA                                 </td><td>NA          </td><td>NA                                 </td><td>NA          </td><td>41.79000</td><td>-87.60000</td><td>41.80000</td><td>-87.60000</td><td>member</td><td>2022-04-28</td><td>04</td><td>28</td><td>2022</td><td>Thursday </td><td> 267</td></tr>\n",
       "\t<tr><td>E44C0FF39AEC9E17</td><td>classic_bike </td><td>2022-10-24 18:55:12</td><td>2022-10-24 19:44:49</td><td><span style=white-space:pre-wrap>New St &amp; Illinois St               </span></td><td>TA1306000013</td><td><span style=white-space:pre-wrap>Wentworth Ave &amp; Cermak Rd          </span></td><td><span style=white-space:pre-wrap>13075       </span></td><td>41.89085</td><td>-87.61862</td><td>41.85308</td><td>-87.63193</td><td>casual</td><td>2022-10-24</td><td>10</td><td>24</td><td>2022</td><td><span style=white-space:pre-wrap>Monday   </span></td><td>2977</td></tr>\n",
       "\t<tr><td>DE1DD68320D11CDE</td><td>electric_bike</td><td>2022-06-17 14:57:03</td><td>2022-06-17 15:06:57</td><td><span style=white-space:pre-wrap>Greenwood Ave &amp; 47th St            </span></td><td>TA1308000002</td><td><span style=white-space:pre-wrap>NA                                 </span></td><td><span style=white-space:pre-wrap>NA          </span></td><td>41.80968</td><td>-87.59922</td><td>41.81000</td><td>-87.62000</td><td>member</td><td>2022-06-17</td><td>06</td><td>17</td><td>2022</td><td><span style=white-space:pre-wrap>Friday   </span></td><td> 594</td></tr>\n",
       "\t<tr><td>DEEC293D6400F8A7</td><td>classic_bike </td><td>2022-06-23 18:13:23</td><td>2022-06-23 18:22:05</td><td><span style=white-space:pre-wrap>Southport Ave &amp; Roscoe St          </span></td><td><span style=white-space:pre-wrap>13071       </span></td><td><span style=white-space:pre-wrap>Sheffield Ave &amp; Wellington Ave     </span></td><td>TA1307000052</td><td>41.94374</td><td>-87.66402</td><td>41.93625</td><td>-87.65266</td><td>member</td><td>2022-06-23</td><td>06</td><td>23</td><td>2022</td><td>Thursday </td><td> 522</td></tr>\n",
       "\t<tr><td>8C489FE2510B2F74</td><td>classic_bike </td><td>2022-04-14 18:14:11</td><td>2022-04-14 18:18:17</td><td><span style=white-space:pre-wrap>Broadway &amp; Sheridan Rd             </span></td><td><span style=white-space:pre-wrap>13323       </span></td><td><span style=white-space:pre-wrap>Clarendon Ave &amp; Junior Ter         </span></td><td><span style=white-space:pre-wrap>13389       </span></td><td>41.95283</td><td>-87.64999</td><td>41.96100</td><td>-87.64960</td><td>member</td><td>2022-04-14</td><td>04</td><td>14</td><td>2022</td><td>Thursday </td><td> 246</td></tr>\n",
       "\t<tr><td>FB529B966BD4DBAF</td><td>electric_bike</td><td>2022-03-16 20:21:37</td><td>2022-03-16 20:26:58</td><td>NA                                 </td><td>NA          </td><td>NA                                 </td><td>NA          </td><td>41.93000</td><td>-87.70000</td><td>41.92000</td><td>-87.69000</td><td>member</td><td>2022-03-16</td><td>03</td><td>16</td><td>2022</td><td>Wednesday</td><td> 321</td></tr>\n",
       "\t<tr><td>247E4CEA0E0426F3</td><td>classic_bike </td><td>2022-10-01 01:23:42</td><td>2022-10-01 01:30:58</td><td><span style=white-space:pre-wrap>Damen Ave &amp; Cortland St            </span></td><td><span style=white-space:pre-wrap>13133       </span></td><td><span style=white-space:pre-wrap>Honore St &amp; Division St            </span></td><td>TA1305000034</td><td>41.91598</td><td>-87.67733</td><td>41.90312</td><td>-87.67394</td><td>member</td><td>2022-10-01</td><td>10</td><td>01</td><td>2022</td><td>Saturday </td><td> 436</td></tr>\n",
       "\t<tr><td>44E364E4F7E5068A</td><td>electric_bike</td><td>2022-07-29 16:32:20</td><td>2022-07-29 16:32:57</td><td><span style=white-space:pre-wrap>Ada St &amp; Washington Blvd           </span></td><td><span style=white-space:pre-wrap>13353       </span></td><td><span style=white-space:pre-wrap>Ada St &amp; Washington Blvd           </span></td><td><span style=white-space:pre-wrap>13353       </span></td><td>41.88286</td><td>-87.66124</td><td>41.88283</td><td>-87.66121</td><td>member</td><td>2022-07-29</td><td>07</td><td>29</td><td>2022</td><td><span style=white-space:pre-wrap>Friday   </span></td><td><span style=white-space:pre-wrap>  37</span></td></tr>\n",
       "\t<tr><td>CD43D6E73E81FD08</td><td>electric_bike</td><td>2022-04-30 13:19:04</td><td>2022-04-30 13:56:34</td><td><span style=white-space:pre-wrap>Morgan St &amp; Lake St*               </span></td><td>chargingstx4</td><td><span style=white-space:pre-wrap>Morgan St &amp; Lake St*               </span></td><td>chargingstx4</td><td>41.88552</td><td>-87.65235</td><td>41.88549</td><td>-87.65229</td><td>casual</td><td>2022-04-30</td><td>04</td><td>30</td><td>2022</td><td>Saturday </td><td>2250</td></tr>\n",
       "\t<tr><td>6D7B3FB67AEE44DE</td><td>electric_bike</td><td>2022-08-18 13:07:56</td><td>2022-08-18 13:08:48</td><td>DuSable Lake Shore Dr &amp; Belmont Ave</td><td>TA1309000049</td><td>DuSable Lake Shore Dr &amp; Belmont Ave</td><td>TA1309000049</td><td>41.94074</td><td>-87.63916</td><td>41.94078</td><td>-87.63919</td><td>member</td><td>2022-08-18</td><td>08</td><td>18</td><td>2022</td><td>Thursday </td><td><span style=white-space:pre-wrap>  52</span></td></tr>\n",
       "</tbody>\n",
       "</table>\n"
      ],
      "text/latex": [
       "A tibble: 65820 × 19\n",
       "\\begin{tabular}{lllllllllllllllllll}\n",
       " ride\\_id & rideable\\_type & started\\_at & ended\\_at & start\\_station\\_name & start\\_station\\_id & end\\_station\\_name & end\\_station\\_id & start\\_lat & start\\_lng & end\\_lat & end\\_lng & member\\_casual & date & month & day & year & day\\_of\\_week & ride\\_length\\\\\n",
       " <chr> & <chr> & <dttm> & <dttm> & <chr> & <chr> & <chr> & <chr> & <dbl> & <dbl> & <dbl> & <dbl> & <chr> & <date> & <chr> & <chr> & <dbl> & <chr> & <dbl>\\\\\n",
       "\\hline\n",
       "\t 1F0E84CED7ED048A & electric\\_bike & 2022-10-05 09:32:10 & 2022-10-05 09:46:30 & N Carpenter St \\& W Lake St                          & 20251.0      & Damen Ave \\& Pierce Ave               & TA1305000041 & 41.89000 & -87.65000 & 41.90940 & -87.67769 & casual & 2022-10-05 & 10 & 05 & 2022 & Wednesday &  860\\\\\n",
       "\t AE53813BB650B7CD & classic\\_bike  & 2022-10-01 23:22:03 & 2022-10-01 23:28:36 & Western Ave \\& 21st St                               & 13091        & Kedzie Ave \\& 21st St                 & 15686        & 41.85411 & -87.68584 & 41.85353 & -87.70507 & casual & 2022-10-01 & 10 & 01 & 2022 & Saturday  &  393\\\\\n",
       "\t 597834DC97EE63D9 & classic\\_bike  & 2022-06-18 13:21:25 & 2022-06-18 13:53:11 & Halsted St \\& Roscoe St                              & TA1309000025 & DuSable Lake Shore Dr \\& Monroe St    & 13300        & 41.94367 & -87.64895 & 41.88096 & -87.61674 & casual & 2022-06-18 & 06 & 18 & 2022 & Saturday  & 1906\\\\\n",
       "\t FE9674CF91265087 & classic\\_bike  & 2022-07-30 21:49:07 & 2022-07-30 22:08:21 & State St \\& Harrison St                              & SL-007       & LaSalle Dr \\& Huron St                & KP1705001026 & 41.87405 & -87.62772 & 41.89488 & -87.63233 & casual & 2022-07-30 & 07 & 30 & 2022 & Saturday  & 1154\\\\\n",
       "\t CB14C7620D563366 & classic\\_bike  & 2022-09-05 08:53:41 & 2022-09-05 09:02:50 & Clark St \\& Wellington Ave                           & TA1307000136 & Clark St \\& Lincoln Ave               & 13179        & 41.93650 & -87.64754 & 41.91569 & -87.63460 & member & 2022-09-05 & 09 & 05 & 2022 & Monday    &  549\\\\\n",
       "\t 3F563C4926EAC90E & electric\\_bike & 2022-04-23 08:33:27 & 2022-04-23 08:36:52 & NA                                                  & NA           & NA                                   & NA           & 41.79000 & -87.60000 & 41.80000 & -87.60000 & member & 2022-04-23 & 04 & 23 & 2022 & Saturday  &  205\\\\\n",
       "\t A1CF30BC39DF166E & electric\\_bike & 2022-06-17 06:26:12 & 2022-06-17 07:09:58 & Sheffield Ave \\& Wrightwood Ave                      & TA1309000023 & NA                                   & NA           & 41.92864 & -87.65378 & 41.96000 & -87.63000 & casual & 2022-06-17 & 06 & 17 & 2022 & Friday    & 2626\\\\\n",
       "\t 57DBE2529D0AC868 & docked\\_bike   & 2022-11-03 16:07:29 & 2022-11-03 17:28:19 & Clark St \\& Lake St                                  & KA1503000012 & Wabash Ave \\& Roosevelt Rd            & TA1305000002 & 41.88602 & -87.63088 & 41.86723 & -87.62596 & casual & 2022-11-03 & 11 & 03 & 2022 & Thursday  & 4850\\\\\n",
       "\t DB7692E113A86B1E & classic\\_bike  & 2022-07-12 09:17:48 & 2022-07-12 09:20:28 & California Ave \\& Altgeld St                         & 15646        & California Ave \\& Milwaukee Ave       & 13084        & 41.92669 & -87.69767 & 41.92269 & -87.69715 & member & 2022-07-12 & 07 & 12 & 2022 & Tuesday   &  160\\\\\n",
       "\t 682CF82B31B1478A & classic\\_bike  & 2022-08-25 17:39:57 & 2022-08-25 17:40:38 & Fort Dearborn Dr \\& 31st St                          & TA1307000048 & Fort Dearborn Dr \\& 31st St           & TA1307000048 & 41.83856 & -87.60822 & 41.83856 & -87.60822 & member & 2022-08-25 & 08 & 25 & 2022 & Thursday  &   41\\\\\n",
       "\t AEA02F59D754E013 & classic\\_bike  & 2022-10-13 07:57:28 & 2022-10-13 08:05:17 & Dearborn St \\& Erie St                               & 13045        & Larrabee St \\& Division St            & KA1504000079 & 41.89399 & -87.62932 & 41.90349 & -87.64335 & member & 2022-10-13 & 10 & 13 & 2022 & Thursday  &  469\\\\\n",
       "\t 749D235215460FAD & classic\\_bike  & 2022-10-26 20:49:57 & 2022-10-26 20:54:11 & Chicago Ave \\& Sheridan Rd                           & E008         & Sheridan Rd \\& Noyes St (NU)          & 604          & 42.05049 & -87.67782 & 42.05824 & -87.67743 & casual & 2022-10-26 & 10 & 26 & 2022 & Wednesday &  254\\\\\n",
       "\t B3C862924B65C0CD & classic\\_bike  & 2022-03-16 18:03:59 & 2022-03-16 18:34:25 & Dearborn St \\& Adams St                              & TA1305000005 & Broadway \\& Barry Ave                 & 13137        & 41.87936 & -87.62979 & 41.93758 & -87.64410 & member & 2022-03-16 & 03 & 16 & 2022 & Wednesday & 1826\\\\\n",
       "\t 1910F942A93E6768 & electric\\_bike & 2022-09-10 12:44:40 & 2022-09-10 12:57:29 & Broadway \\& Wilson - Truman College Vaccination Site & 13074        & Washtenaw Ave \\& Lawrence Ave         & KA1504000080 & 41.96515 & -87.65832 & 41.96899 & -87.69603 & casual & 2022-09-10 & 09 & 10 & 2022 & Saturday  &  769\\\\\n",
       "\t 52CEE1D5EDBCA4B3 & classic\\_bike  & 2022-07-30 15:18:30 & 2022-07-30 15:48:25 & Leavitt St \\& Armitage Ave                           & TA1309000029 & Broadway \\& Cornelia Ave              & 13278        & 41.91781 & -87.68244 & 41.94553 & -87.64644 & casual & 2022-07-30 & 07 & 30 & 2022 & Saturday  & 1795\\\\\n",
       "\t 67031E3BE1B845E0 & electric\\_bike & 2022-06-15 18:32:43 & 2022-06-15 18:50:37 & NA                                                  & NA           & NA                                   & NA           & 41.96000 & -87.65000 & 41.91000 & -87.63000 & member & 2022-06-15 & 06 & 15 & 2022 & Wednesday & 1074\\\\\n",
       "\t 642DBA0311EB9061 & electric\\_bike & 2022-03-29 19:45:56 & 2022-03-29 20:07:40 & NA                                                  & NA           & Lakeview Ave \\& Fullerton Pkwy        & TA1309000019 & 41.90000 & -87.69000 & 41.92586 & -87.63897 & member & 2022-03-29 & 03 & 29 & 2022 & Tuesday   & 1304\\\\\n",
       "\t AD769C202332A30B & electric\\_bike & 2022-09-05 17:51:58 & 2022-09-05 18:04:14 & Sheffield Ave \\& Webster Ave                         & TA1309000033 & NA                                   & NA           & 41.92168 & -87.65344 & 41.90000 & -87.63000 & member & 2022-09-05 & 09 & 05 & 2022 & Monday    &  736\\\\\n",
       "\t B8F034923760BC56 & electric\\_bike & 2022-06-26 10:17:43 & 2022-06-26 10:33:58 & NA                                                  & NA           & NA                                   & NA           & 41.87000 & -87.68000 & 41.87000 & -87.66000 & member & 2022-06-26 & 06 & 26 & 2022 & Sunday    &  975\\\\\n",
       "\t F23D308C26F7B28C & electric\\_bike & 2022-04-24 09:02:14 & 2022-04-24 09:10:46 & Wabash Ave \\& 9th St                                 & TA1309000010 & 900 W Harrison St                    & 13028        & 41.87065 & -87.62577 & 41.87475 & -87.64981 & member & 2022-04-24 & 04 & 24 & 2022 & Sunday    &  512\\\\\n",
       "\t 761C04617ABC4C01 & electric\\_bike & 2022-07-22 11:47:12 & 2022-07-22 11:59:30 & Racine Ave \\& Fullerton Ave                          & TA1306000026 & Orleans St \\& Chestnut St (NEXT Apts) & 620          & 41.92574 & -87.65845 & 41.89820 & -87.63754 & member & 2022-07-22 & 07 & 22 & 2022 & Friday    &  738\\\\\n",
       "\t 6E524C1117F7DC99 & classic\\_bike  & 2022-06-19 14:29:07 & 2022-06-19 14:58:42 & Clinton St \\& Madison St                             & TA1305000032 & Fairfield Ave \\& Roosevelt Rd         & KA1504000102 & 41.88224 & -87.64107 & 41.86662 & -87.69452 & casual & 2022-06-19 & 06 & 19 & 2022 & Sunday    & 1775\\\\\n",
       "\t 5FEAAFDA6D7D57DF & electric\\_bike & 2022-06-04 19:41:08 & 2022-06-04 19:56:58 & Desplaines St \\& Kinzie St                           & TA1306000003 & Clark St \\& Drummond Pl               & TA1307000142 & 41.88864 & -87.64444 & 41.93125 & -87.64434 & casual & 2022-06-04 & 06 & 04 & 2022 & Saturday  &  950\\\\\n",
       "\t E462EC7D89400DC7 & electric\\_bike & 2022-06-30 18:17:47 & 2022-06-30 18:19:25 & NA                                                  & NA           & Shedd Aquarium                       & 15544        & 41.87000 & -87.62000 & 41.86723 & -87.61536 & member & 2022-06-30 & 06 & 30 & 2022 & Thursday  &   98\\\\\n",
       "\t A26AC268787BF24D & electric\\_bike & 2022-03-03 17:19:28 & 2022-03-03 17:42:46 & Canal St \\& Adams St                                 & 13011        & Lincoln Ave \\& Belmont Ave            & TA1309000042 & 41.87952 & -87.64027 & 41.93937 & -87.66839 & member & 2022-03-03 & 03 & 03 & 2022 & Thursday  & 1398\\\\\n",
       "\t E327828D6839458A & classic\\_bike  & 2022-07-22 16:42:10 & 2022-07-22 17:00:04 & University Ave \\& 57th St                            & KA1503000071 & Ellis Ave \\& 55th St                  & KA1504000076 & 41.79148 & -87.59986 & 41.79430 & -87.60145 & member & 2022-07-22 & 07 & 22 & 2022 & Friday    & 1074\\\\\n",
       "\t 0382271D0C7079BA & electric\\_bike & 2023-01-23 17:11:14 & 2023-01-23 17:11:25 & Desplaines St \\& Kinzie St                           & TA1306000003 & Desplaines St \\& Kinzie St            & TA1306000003 & 41.88850 & -87.64438 & 41.88872 & -87.64445 & member & 2023-01-23 & 01 & 23 & 2023 & Monday    &   11\\\\\n",
       "\t C9B7853430E7A007 & electric\\_bike & 2022-06-23 07:29:51 & 2022-06-23 07:35:44 & Ellis Ave \\& 60th St                                 & KA1503000014 & Harper Ave \\& 59th St                 & KA1503000070 & 41.78516 & -87.60108 & 41.78794 & -87.58832 & member & 2022-06-23 & 06 & 23 & 2022 & Thursday  &  353\\\\\n",
       "\t 539FB63C7E8A6B7F & classic\\_bike  & 2022-04-12 17:59:08 & 2022-04-12 18:05:03 & State St \\& Chicago Ave                              & 21544        & Wells St \\& Elm St                    & KA1504000135 & 41.89662 & -87.62858 & 41.90322 & -87.63432 & casual & 2022-04-12 & 04 & 12 & 2022 & Tuesday   &  355\\\\\n",
       "\t E8D26764F9A76C7A & electric\\_bike & 2022-09-24 17:55:59 & 2022-09-24 18:09:37 & Halsted St \\& Polk St                                & TA1307000121 & NA                                   & NA           & 41.87179 & -87.64672 & 41.86000 & -87.66000 & member & 2022-09-24 & 09 & 24 & 2022 & Saturday  &  818\\\\\n",
       "\t ⋮ & ⋮ & ⋮ & ⋮ & ⋮ & ⋮ & ⋮ & ⋮ & ⋮ & ⋮ & ⋮ & ⋮ & ⋮ & ⋮ & ⋮ & ⋮ & ⋮ & ⋮ & ⋮\\\\\n",
       "\t 4F2F88BFB61F6446 & classic\\_bike  & 2022-06-16 22:35:24 & 2022-06-16 22:40:37 & Clark St \\& Winnemac Ave             & TA1309000035 & Clark St \\& Bryn Mawr Ave            & KA1504000151 & 41.97335 & -87.66786 & 41.98359 & -87.66915 & casual & 2022-06-16 & 06 & 16 & 2022 & Thursday  &  313\\\\\n",
       "\t EA771A66D77E3073 & classic\\_bike  & 2022-06-30 22:45:13 & 2022-06-30 23:06:36 & Pine Grove Ave \\& Waveland Ave       & TA1307000150 & Damen Ave \\& Charleston St           & 13288        & 41.94947 & -87.64645 & 41.92008 & -87.67785 & member & 2022-06-30 & 06 & 30 & 2022 & Thursday  & 1283\\\\\n",
       "\t 0908AC13A03159CC & classic\\_bike  & 2022-04-19 21:59:22 & 2022-04-19 22:11:50 & Eckhart Park                        & 13289        & Western Ave \\& Winnebago Ave         & 13068        & 41.89637 & -87.66098 & 41.91552 & -87.68702 & member & 2022-04-19 & 04 & 19 & 2022 & Tuesday   &  748\\\\\n",
       "\t AD64E7DB729BD92F & electric\\_bike & 2022-10-05 20:10:48 & 2022-10-05 20:28:23 & Halsted St \\& Willow St              & TA1307000166 & Winthrop Ave \\& Lawrence Ave         & TA1308000021 & 41.91382 & -87.64887 & 41.96881 & -87.65766 & casual & 2022-10-05 & 10 & 05 & 2022 & Wednesday & 1055\\\\\n",
       "\t F0767E1FCD71A3F1 & classic\\_bike  & 2022-02-11 20:25:28 & 2022-02-11 20:29:35 & Rush St \\& Superior St               & 15530        & Rush St \\& Cedar St                  & KA1504000133 & 41.89576 & -87.62591 & 41.90231 & -87.62769 & member & 2022-02-11 & 02 & 11 & 2022 & Friday    &  247\\\\\n",
       "\t B0FA1BE34A17A9BE & docked\\_bike   & 2022-07-09 13:37:05 & 2022-07-09 14:04:46 & Broadway \\& Belmont Ave              & 13277        & Clark St \\& Lincoln Ave              & 13179        & 41.94011 & -87.64545 & 41.91569 & -87.63460 & casual & 2022-07-09 & 07 & 09 & 2022 & Saturday  & 1661\\\\\n",
       "\t 4C59694ACC6D5A87 & electric\\_bike & 2022-04-23 06:53:25 & 2022-04-23 07:01:59 & Wabash Ave \\& Grand Ave              & TA1307000117 & Wells St \\& Concord Ln               & TA1308000050 & 41.89146 & -87.62669 & 41.91213 & -87.63466 & member & 2022-04-23 & 04 & 23 & 2022 & Saturday  &  514\\\\\n",
       "\t E6452FDE1C6358CD & electric\\_bike & 2022-06-03 11:20:00 & 2022-06-03 11:40:40 & NA                                  & NA           & Stockton Dr \\& Wrightwood Ave        & 13276        & 41.90000 & -87.64000 & 41.93132 & -87.63874 & member & 2022-06-03 & 06 & 03 & 2022 & Friday    & 1240\\\\\n",
       "\t 960967931D7F8779 & classic\\_bike  & 2022-06-11 13:50:15 & 2022-06-11 14:07:38 & Green St \\& Randolph St              & 13053        & Halsted St \\& Willow St              & TA1307000166 & 41.88318 & -87.64872 & 41.91387 & -87.64875 & casual & 2022-06-11 & 06 & 11 & 2022 & Saturday  & 1043\\\\\n",
       "\t 5F54EAE23AF1EB2C & electric\\_bike & 2022-02-27 15:06:52 & 2022-02-27 15:13:21 & Wells St \\& Concord Ln               & TA1308000050 & Larrabee St \\& Division St           & KA1504000079 & 41.91208 & -87.63469 & 41.90349 & -87.64335 & member & 2022-02-27 & 02 & 27 & 2022 & Sunday    &  389\\\\\n",
       "\t 237A6A249097204E & electric\\_bike & 2022-09-05 18:10:33 & 2022-09-05 18:21:09 & Field Blvd \\& South Water St         & 15534        & Field Blvd \\& South Water St         & 15534        & 41.88622 & -87.61743 & 41.88635 & -87.61752 & casual & 2022-09-05 & 09 & 05 & 2022 & Monday    &  636\\\\\n",
       "\t 56DC2854E54CDDF6 & electric\\_bike & 2023-01-04 09:31:32 & 2023-01-04 09:41:44 & Canal St \\& Jackson Blvd             & 13138        & Michigan Ave \\& Pearson St           & 13034        & 41.87737 & -87.64026 & 41.89766 & -87.62351 & casual & 2023-01-04 & 01 & 04 & 2023 & Wednesday &  612\\\\\n",
       "\t 7F4B85752BEB89B5 & docked\\_bike   & 2022-07-22 20:25:27 & 2022-07-22 21:17:52 & Millennium Park                     & 13008        & Theater on the Lake                 & TA1308000001 & 41.88103 & -87.62408 & 41.92628 & -87.63083 & casual & 2022-07-22 & 07 & 22 & 2022 & Friday    & 3145\\\\\n",
       "\t 5F9A2074FD5EDFC0 & classic\\_bike  & 2022-08-25 19:38:56 & 2022-08-25 19:56:07 & Michigan Ave \\& Oak St               & 13042        & Broadway \\& Barry Ave                & 13137        & 41.90096 & -87.62378 & 41.93758 & -87.64410 & member & 2022-08-25 & 08 & 25 & 2022 & Thursday  & 1031\\\\\n",
       "\t 0A2FA88733CA54A5 & classic\\_bike  & 2022-06-01 07:27:32 & 2022-06-01 07:42:40 & St. Clair St \\& Erie St              & 13016        & Green St \\& Randolph St              & 13053        & 41.89435 & -87.62280 & 41.88318 & -87.64872 & member & 2022-06-01 & 06 & 01 & 2022 & Wednesday &  908\\\\\n",
       "\t 2A9165497AED784B & classic\\_bike  & 2022-06-20 19:47:02 & 2022-06-20 19:57:08 & Wells St \\& Concord Ln               & TA1308000050 & Sheffield Ave \\& Wrightwood Ave      & TA1309000023 & 41.91213 & -87.63466 & 41.92871 & -87.65383 & member & 2022-06-20 & 06 & 20 & 2022 & Monday    &  606\\\\\n",
       "\t C5B304AFC51332D0 & electric\\_bike & 2022-06-10 18:55:30 & 2022-06-10 18:59:46 & NA                                  & NA           & NA                                  & NA           & 41.99000 & -87.67000 & 41.98000 & -87.67000 & member & 2022-06-10 & 06 & 10 & 2022 & Friday    &  256\\\\\n",
       "\t 3D604BBE2D5C37B7 & classic\\_bike  & 2022-06-13 15:11:07 & 2022-06-13 15:18:45 & McCormick Place                     & TA1305000004 & Calumet Ave \\& 21st St               & 15546        & 41.85138 & -87.61883 & 41.85418 & -87.61915 & casual & 2022-06-13 & 06 & 13 & 2022 & Monday    &  458\\\\\n",
       "\t 8BDBA869D7110C25 & classic\\_bike  & 2022-06-19 11:51:49 & 2022-06-19 12:13:51 & Larrabee St \\& Division St           & KA1504000079 & Southport Ave \\& Wellington Ave      & TA1307000006 & 41.90349 & -87.64335 & 41.93573 & -87.66358 & member & 2022-06-19 & 06 & 19 & 2022 & Sunday    & 1322\\\\\n",
       "\t 7E2CDD537DDE1D74 & electric\\_bike & 2023-01-24 15:35:39 & 2023-01-24 15:54:00 & Albany Ave \\& Montrose Ave           & 15621        & Clark St \\& Winnemac Ave             & TA1309000035 & 41.96104 & -87.70575 & 41.97335 & -87.66786 & member & 2023-01-24 & 01 & 24 & 2023 & Tuesday   & 1101\\\\\n",
       "\t 1AD96C088702F2DE & electric\\_bike & 2022-04-28 12:08:26 & 2022-04-28 12:12:53 & NA                                  & NA           & NA                                  & NA           & 41.79000 & -87.60000 & 41.80000 & -87.60000 & member & 2022-04-28 & 04 & 28 & 2022 & Thursday  &  267\\\\\n",
       "\t E44C0FF39AEC9E17 & classic\\_bike  & 2022-10-24 18:55:12 & 2022-10-24 19:44:49 & New St \\& Illinois St                & TA1306000013 & Wentworth Ave \\& Cermak Rd           & 13075        & 41.89085 & -87.61862 & 41.85308 & -87.63193 & casual & 2022-10-24 & 10 & 24 & 2022 & Monday    & 2977\\\\\n",
       "\t DE1DD68320D11CDE & electric\\_bike & 2022-06-17 14:57:03 & 2022-06-17 15:06:57 & Greenwood Ave \\& 47th St             & TA1308000002 & NA                                  & NA           & 41.80968 & -87.59922 & 41.81000 & -87.62000 & member & 2022-06-17 & 06 & 17 & 2022 & Friday    &  594\\\\\n",
       "\t DEEC293D6400F8A7 & classic\\_bike  & 2022-06-23 18:13:23 & 2022-06-23 18:22:05 & Southport Ave \\& Roscoe St           & 13071        & Sheffield Ave \\& Wellington Ave      & TA1307000052 & 41.94374 & -87.66402 & 41.93625 & -87.65266 & member & 2022-06-23 & 06 & 23 & 2022 & Thursday  &  522\\\\\n",
       "\t 8C489FE2510B2F74 & classic\\_bike  & 2022-04-14 18:14:11 & 2022-04-14 18:18:17 & Broadway \\& Sheridan Rd              & 13323        & Clarendon Ave \\& Junior Ter          & 13389        & 41.95283 & -87.64999 & 41.96100 & -87.64960 & member & 2022-04-14 & 04 & 14 & 2022 & Thursday  &  246\\\\\n",
       "\t FB529B966BD4DBAF & electric\\_bike & 2022-03-16 20:21:37 & 2022-03-16 20:26:58 & NA                                  & NA           & NA                                  & NA           & 41.93000 & -87.70000 & 41.92000 & -87.69000 & member & 2022-03-16 & 03 & 16 & 2022 & Wednesday &  321\\\\\n",
       "\t 247E4CEA0E0426F3 & classic\\_bike  & 2022-10-01 01:23:42 & 2022-10-01 01:30:58 & Damen Ave \\& Cortland St             & 13133        & Honore St \\& Division St             & TA1305000034 & 41.91598 & -87.67733 & 41.90312 & -87.67394 & member & 2022-10-01 & 10 & 01 & 2022 & Saturday  &  436\\\\\n",
       "\t 44E364E4F7E5068A & electric\\_bike & 2022-07-29 16:32:20 & 2022-07-29 16:32:57 & Ada St \\& Washington Blvd            & 13353        & Ada St \\& Washington Blvd            & 13353        & 41.88286 & -87.66124 & 41.88283 & -87.66121 & member & 2022-07-29 & 07 & 29 & 2022 & Friday    &   37\\\\\n",
       "\t CD43D6E73E81FD08 & electric\\_bike & 2022-04-30 13:19:04 & 2022-04-30 13:56:34 & Morgan St \\& Lake St*                & chargingstx4 & Morgan St \\& Lake St*                & chargingstx4 & 41.88552 & -87.65235 & 41.88549 & -87.65229 & casual & 2022-04-30 & 04 & 30 & 2022 & Saturday  & 2250\\\\\n",
       "\t 6D7B3FB67AEE44DE & electric\\_bike & 2022-08-18 13:07:56 & 2022-08-18 13:08:48 & DuSable Lake Shore Dr \\& Belmont Ave & TA1309000049 & DuSable Lake Shore Dr \\& Belmont Ave & TA1309000049 & 41.94074 & -87.63916 & 41.94078 & -87.63919 & member & 2022-08-18 & 08 & 18 & 2022 & Thursday  &   52\\\\\n",
       "\\end{tabular}\n"
      ],
      "text/markdown": [
       "\n",
       "A tibble: 65820 × 19\n",
       "\n",
       "| ride_id &lt;chr&gt; | rideable_type &lt;chr&gt; | started_at &lt;dttm&gt; | ended_at &lt;dttm&gt; | start_station_name &lt;chr&gt; | start_station_id &lt;chr&gt; | end_station_name &lt;chr&gt; | end_station_id &lt;chr&gt; | start_lat &lt;dbl&gt; | start_lng &lt;dbl&gt; | end_lat &lt;dbl&gt; | end_lng &lt;dbl&gt; | member_casual &lt;chr&gt; | date &lt;date&gt; | month &lt;chr&gt; | day &lt;chr&gt; | year &lt;dbl&gt; | day_of_week &lt;chr&gt; | ride_length &lt;dbl&gt; |\n",
       "|---|---|---|---|---|---|---|---|---|---|---|---|---|---|---|---|---|---|---|\n",
       "| 1F0E84CED7ED048A | electric_bike | 2022-10-05 09:32:10 | 2022-10-05 09:46:30 | N Carpenter St &amp; W Lake St                          | 20251.0      | Damen Ave &amp; Pierce Ave               | TA1305000041 | 41.89000 | -87.65000 | 41.90940 | -87.67769 | casual | 2022-10-05 | 10 | 05 | 2022 | Wednesday |  860 |\n",
       "| AE53813BB650B7CD | classic_bike  | 2022-10-01 23:22:03 | 2022-10-01 23:28:36 | Western Ave &amp; 21st St                               | 13091        | Kedzie Ave &amp; 21st St                 | 15686        | 41.85411 | -87.68584 | 41.85353 | -87.70507 | casual | 2022-10-01 | 10 | 01 | 2022 | Saturday  |  393 |\n",
       "| 597834DC97EE63D9 | classic_bike  | 2022-06-18 13:21:25 | 2022-06-18 13:53:11 | Halsted St &amp; Roscoe St                              | TA1309000025 | DuSable Lake Shore Dr &amp; Monroe St    | 13300        | 41.94367 | -87.64895 | 41.88096 | -87.61674 | casual | 2022-06-18 | 06 | 18 | 2022 | Saturday  | 1906 |\n",
       "| FE9674CF91265087 | classic_bike  | 2022-07-30 21:49:07 | 2022-07-30 22:08:21 | State St &amp; Harrison St                              | SL-007       | LaSalle Dr &amp; Huron St                | KP1705001026 | 41.87405 | -87.62772 | 41.89488 | -87.63233 | casual | 2022-07-30 | 07 | 30 | 2022 | Saturday  | 1154 |\n",
       "| CB14C7620D563366 | classic_bike  | 2022-09-05 08:53:41 | 2022-09-05 09:02:50 | Clark St &amp; Wellington Ave                           | TA1307000136 | Clark St &amp; Lincoln Ave               | 13179        | 41.93650 | -87.64754 | 41.91569 | -87.63460 | member | 2022-09-05 | 09 | 05 | 2022 | Monday    |  549 |\n",
       "| 3F563C4926EAC90E | electric_bike | 2022-04-23 08:33:27 | 2022-04-23 08:36:52 | NA                                                  | NA           | NA                                   | NA           | 41.79000 | -87.60000 | 41.80000 | -87.60000 | member | 2022-04-23 | 04 | 23 | 2022 | Saturday  |  205 |\n",
       "| A1CF30BC39DF166E | electric_bike | 2022-06-17 06:26:12 | 2022-06-17 07:09:58 | Sheffield Ave &amp; Wrightwood Ave                      | TA1309000023 | NA                                   | NA           | 41.92864 | -87.65378 | 41.96000 | -87.63000 | casual | 2022-06-17 | 06 | 17 | 2022 | Friday    | 2626 |\n",
       "| 57DBE2529D0AC868 | docked_bike   | 2022-11-03 16:07:29 | 2022-11-03 17:28:19 | Clark St &amp; Lake St                                  | KA1503000012 | Wabash Ave &amp; Roosevelt Rd            | TA1305000002 | 41.88602 | -87.63088 | 41.86723 | -87.62596 | casual | 2022-11-03 | 11 | 03 | 2022 | Thursday  | 4850 |\n",
       "| DB7692E113A86B1E | classic_bike  | 2022-07-12 09:17:48 | 2022-07-12 09:20:28 | California Ave &amp; Altgeld St                         | 15646        | California Ave &amp; Milwaukee Ave       | 13084        | 41.92669 | -87.69767 | 41.92269 | -87.69715 | member | 2022-07-12 | 07 | 12 | 2022 | Tuesday   |  160 |\n",
       "| 682CF82B31B1478A | classic_bike  | 2022-08-25 17:39:57 | 2022-08-25 17:40:38 | Fort Dearborn Dr &amp; 31st St                          | TA1307000048 | Fort Dearborn Dr &amp; 31st St           | TA1307000048 | 41.83856 | -87.60822 | 41.83856 | -87.60822 | member | 2022-08-25 | 08 | 25 | 2022 | Thursday  |   41 |\n",
       "| AEA02F59D754E013 | classic_bike  | 2022-10-13 07:57:28 | 2022-10-13 08:05:17 | Dearborn St &amp; Erie St                               | 13045        | Larrabee St &amp; Division St            | KA1504000079 | 41.89399 | -87.62932 | 41.90349 | -87.64335 | member | 2022-10-13 | 10 | 13 | 2022 | Thursday  |  469 |\n",
       "| 749D235215460FAD | classic_bike  | 2022-10-26 20:49:57 | 2022-10-26 20:54:11 | Chicago Ave &amp; Sheridan Rd                           | E008         | Sheridan Rd &amp; Noyes St (NU)          | 604          | 42.05049 | -87.67782 | 42.05824 | -87.67743 | casual | 2022-10-26 | 10 | 26 | 2022 | Wednesday |  254 |\n",
       "| B3C862924B65C0CD | classic_bike  | 2022-03-16 18:03:59 | 2022-03-16 18:34:25 | Dearborn St &amp; Adams St                              | TA1305000005 | Broadway &amp; Barry Ave                 | 13137        | 41.87936 | -87.62979 | 41.93758 | -87.64410 | member | 2022-03-16 | 03 | 16 | 2022 | Wednesday | 1826 |\n",
       "| 1910F942A93E6768 | electric_bike | 2022-09-10 12:44:40 | 2022-09-10 12:57:29 | Broadway &amp; Wilson - Truman College Vaccination Site | 13074        | Washtenaw Ave &amp; Lawrence Ave         | KA1504000080 | 41.96515 | -87.65832 | 41.96899 | -87.69603 | casual | 2022-09-10 | 09 | 10 | 2022 | Saturday  |  769 |\n",
       "| 52CEE1D5EDBCA4B3 | classic_bike  | 2022-07-30 15:18:30 | 2022-07-30 15:48:25 | Leavitt St &amp; Armitage Ave                           | TA1309000029 | Broadway &amp; Cornelia Ave              | 13278        | 41.91781 | -87.68244 | 41.94553 | -87.64644 | casual | 2022-07-30 | 07 | 30 | 2022 | Saturday  | 1795 |\n",
       "| 67031E3BE1B845E0 | electric_bike | 2022-06-15 18:32:43 | 2022-06-15 18:50:37 | NA                                                  | NA           | NA                                   | NA           | 41.96000 | -87.65000 | 41.91000 | -87.63000 | member | 2022-06-15 | 06 | 15 | 2022 | Wednesday | 1074 |\n",
       "| 642DBA0311EB9061 | electric_bike | 2022-03-29 19:45:56 | 2022-03-29 20:07:40 | NA                                                  | NA           | Lakeview Ave &amp; Fullerton Pkwy        | TA1309000019 | 41.90000 | -87.69000 | 41.92586 | -87.63897 | member | 2022-03-29 | 03 | 29 | 2022 | Tuesday   | 1304 |\n",
       "| AD769C202332A30B | electric_bike | 2022-09-05 17:51:58 | 2022-09-05 18:04:14 | Sheffield Ave &amp; Webster Ave                         | TA1309000033 | NA                                   | NA           | 41.92168 | -87.65344 | 41.90000 | -87.63000 | member | 2022-09-05 | 09 | 05 | 2022 | Monday    |  736 |\n",
       "| B8F034923760BC56 | electric_bike | 2022-06-26 10:17:43 | 2022-06-26 10:33:58 | NA                                                  | NA           | NA                                   | NA           | 41.87000 | -87.68000 | 41.87000 | -87.66000 | member | 2022-06-26 | 06 | 26 | 2022 | Sunday    |  975 |\n",
       "| F23D308C26F7B28C | electric_bike | 2022-04-24 09:02:14 | 2022-04-24 09:10:46 | Wabash Ave &amp; 9th St                                 | TA1309000010 | 900 W Harrison St                    | 13028        | 41.87065 | -87.62577 | 41.87475 | -87.64981 | member | 2022-04-24 | 04 | 24 | 2022 | Sunday    |  512 |\n",
       "| 761C04617ABC4C01 | electric_bike | 2022-07-22 11:47:12 | 2022-07-22 11:59:30 | Racine Ave &amp; Fullerton Ave                          | TA1306000026 | Orleans St &amp; Chestnut St (NEXT Apts) | 620          | 41.92574 | -87.65845 | 41.89820 | -87.63754 | member | 2022-07-22 | 07 | 22 | 2022 | Friday    |  738 |\n",
       "| 6E524C1117F7DC99 | classic_bike  | 2022-06-19 14:29:07 | 2022-06-19 14:58:42 | Clinton St &amp; Madison St                             | TA1305000032 | Fairfield Ave &amp; Roosevelt Rd         | KA1504000102 | 41.88224 | -87.64107 | 41.86662 | -87.69452 | casual | 2022-06-19 | 06 | 19 | 2022 | Sunday    | 1775 |\n",
       "| 5FEAAFDA6D7D57DF | electric_bike | 2022-06-04 19:41:08 | 2022-06-04 19:56:58 | Desplaines St &amp; Kinzie St                           | TA1306000003 | Clark St &amp; Drummond Pl               | TA1307000142 | 41.88864 | -87.64444 | 41.93125 | -87.64434 | casual | 2022-06-04 | 06 | 04 | 2022 | Saturday  |  950 |\n",
       "| E462EC7D89400DC7 | electric_bike | 2022-06-30 18:17:47 | 2022-06-30 18:19:25 | NA                                                  | NA           | Shedd Aquarium                       | 15544        | 41.87000 | -87.62000 | 41.86723 | -87.61536 | member | 2022-06-30 | 06 | 30 | 2022 | Thursday  |   98 |\n",
       "| A26AC268787BF24D | electric_bike | 2022-03-03 17:19:28 | 2022-03-03 17:42:46 | Canal St &amp; Adams St                                 | 13011        | Lincoln Ave &amp; Belmont Ave            | TA1309000042 | 41.87952 | -87.64027 | 41.93937 | -87.66839 | member | 2022-03-03 | 03 | 03 | 2022 | Thursday  | 1398 |\n",
       "| E327828D6839458A | classic_bike  | 2022-07-22 16:42:10 | 2022-07-22 17:00:04 | University Ave &amp; 57th St                            | KA1503000071 | Ellis Ave &amp; 55th St                  | KA1504000076 | 41.79148 | -87.59986 | 41.79430 | -87.60145 | member | 2022-07-22 | 07 | 22 | 2022 | Friday    | 1074 |\n",
       "| 0382271D0C7079BA | electric_bike | 2023-01-23 17:11:14 | 2023-01-23 17:11:25 | Desplaines St &amp; Kinzie St                           | TA1306000003 | Desplaines St &amp; Kinzie St            | TA1306000003 | 41.88850 | -87.64438 | 41.88872 | -87.64445 | member | 2023-01-23 | 01 | 23 | 2023 | Monday    |   11 |\n",
       "| C9B7853430E7A007 | electric_bike | 2022-06-23 07:29:51 | 2022-06-23 07:35:44 | Ellis Ave &amp; 60th St                                 | KA1503000014 | Harper Ave &amp; 59th St                 | KA1503000070 | 41.78516 | -87.60108 | 41.78794 | -87.58832 | member | 2022-06-23 | 06 | 23 | 2022 | Thursday  |  353 |\n",
       "| 539FB63C7E8A6B7F | classic_bike  | 2022-04-12 17:59:08 | 2022-04-12 18:05:03 | State St &amp; Chicago Ave                              | 21544        | Wells St &amp; Elm St                    | KA1504000135 | 41.89662 | -87.62858 | 41.90322 | -87.63432 | casual | 2022-04-12 | 04 | 12 | 2022 | Tuesday   |  355 |\n",
       "| E8D26764F9A76C7A | electric_bike | 2022-09-24 17:55:59 | 2022-09-24 18:09:37 | Halsted St &amp; Polk St                                | TA1307000121 | NA                                   | NA           | 41.87179 | -87.64672 | 41.86000 | -87.66000 | member | 2022-09-24 | 09 | 24 | 2022 | Saturday  |  818 |\n",
       "| ⋮ | ⋮ | ⋮ | ⋮ | ⋮ | ⋮ | ⋮ | ⋮ | ⋮ | ⋮ | ⋮ | ⋮ | ⋮ | ⋮ | ⋮ | ⋮ | ⋮ | ⋮ | ⋮ |\n",
       "| 4F2F88BFB61F6446 | classic_bike  | 2022-06-16 22:35:24 | 2022-06-16 22:40:37 | Clark St &amp; Winnemac Ave             | TA1309000035 | Clark St &amp; Bryn Mawr Ave            | KA1504000151 | 41.97335 | -87.66786 | 41.98359 | -87.66915 | casual | 2022-06-16 | 06 | 16 | 2022 | Thursday  |  313 |\n",
       "| EA771A66D77E3073 | classic_bike  | 2022-06-30 22:45:13 | 2022-06-30 23:06:36 | Pine Grove Ave &amp; Waveland Ave       | TA1307000150 | Damen Ave &amp; Charleston St           | 13288        | 41.94947 | -87.64645 | 41.92008 | -87.67785 | member | 2022-06-30 | 06 | 30 | 2022 | Thursday  | 1283 |\n",
       "| 0908AC13A03159CC | classic_bike  | 2022-04-19 21:59:22 | 2022-04-19 22:11:50 | Eckhart Park                        | 13289        | Western Ave &amp; Winnebago Ave         | 13068        | 41.89637 | -87.66098 | 41.91552 | -87.68702 | member | 2022-04-19 | 04 | 19 | 2022 | Tuesday   |  748 |\n",
       "| AD64E7DB729BD92F | electric_bike | 2022-10-05 20:10:48 | 2022-10-05 20:28:23 | Halsted St &amp; Willow St              | TA1307000166 | Winthrop Ave &amp; Lawrence Ave         | TA1308000021 | 41.91382 | -87.64887 | 41.96881 | -87.65766 | casual | 2022-10-05 | 10 | 05 | 2022 | Wednesday | 1055 |\n",
       "| F0767E1FCD71A3F1 | classic_bike  | 2022-02-11 20:25:28 | 2022-02-11 20:29:35 | Rush St &amp; Superior St               | 15530        | Rush St &amp; Cedar St                  | KA1504000133 | 41.89576 | -87.62591 | 41.90231 | -87.62769 | member | 2022-02-11 | 02 | 11 | 2022 | Friday    |  247 |\n",
       "| B0FA1BE34A17A9BE | docked_bike   | 2022-07-09 13:37:05 | 2022-07-09 14:04:46 | Broadway &amp; Belmont Ave              | 13277        | Clark St &amp; Lincoln Ave              | 13179        | 41.94011 | -87.64545 | 41.91569 | -87.63460 | casual | 2022-07-09 | 07 | 09 | 2022 | Saturday  | 1661 |\n",
       "| 4C59694ACC6D5A87 | electric_bike | 2022-04-23 06:53:25 | 2022-04-23 07:01:59 | Wabash Ave &amp; Grand Ave              | TA1307000117 | Wells St &amp; Concord Ln               | TA1308000050 | 41.89146 | -87.62669 | 41.91213 | -87.63466 | member | 2022-04-23 | 04 | 23 | 2022 | Saturday  |  514 |\n",
       "| E6452FDE1C6358CD | electric_bike | 2022-06-03 11:20:00 | 2022-06-03 11:40:40 | NA                                  | NA           | Stockton Dr &amp; Wrightwood Ave        | 13276        | 41.90000 | -87.64000 | 41.93132 | -87.63874 | member | 2022-06-03 | 06 | 03 | 2022 | Friday    | 1240 |\n",
       "| 960967931D7F8779 | classic_bike  | 2022-06-11 13:50:15 | 2022-06-11 14:07:38 | Green St &amp; Randolph St              | 13053        | Halsted St &amp; Willow St              | TA1307000166 | 41.88318 | -87.64872 | 41.91387 | -87.64875 | casual | 2022-06-11 | 06 | 11 | 2022 | Saturday  | 1043 |\n",
       "| 5F54EAE23AF1EB2C | electric_bike | 2022-02-27 15:06:52 | 2022-02-27 15:13:21 | Wells St &amp; Concord Ln               | TA1308000050 | Larrabee St &amp; Division St           | KA1504000079 | 41.91208 | -87.63469 | 41.90349 | -87.64335 | member | 2022-02-27 | 02 | 27 | 2022 | Sunday    |  389 |\n",
       "| 237A6A249097204E | electric_bike | 2022-09-05 18:10:33 | 2022-09-05 18:21:09 | Field Blvd &amp; South Water St         | 15534        | Field Blvd &amp; South Water St         | 15534        | 41.88622 | -87.61743 | 41.88635 | -87.61752 | casual | 2022-09-05 | 09 | 05 | 2022 | Monday    |  636 |\n",
       "| 56DC2854E54CDDF6 | electric_bike | 2023-01-04 09:31:32 | 2023-01-04 09:41:44 | Canal St &amp; Jackson Blvd             | 13138        | Michigan Ave &amp; Pearson St           | 13034        | 41.87737 | -87.64026 | 41.89766 | -87.62351 | casual | 2023-01-04 | 01 | 04 | 2023 | Wednesday |  612 |\n",
       "| 7F4B85752BEB89B5 | docked_bike   | 2022-07-22 20:25:27 | 2022-07-22 21:17:52 | Millennium Park                     | 13008        | Theater on the Lake                 | TA1308000001 | 41.88103 | -87.62408 | 41.92628 | -87.63083 | casual | 2022-07-22 | 07 | 22 | 2022 | Friday    | 3145 |\n",
       "| 5F9A2074FD5EDFC0 | classic_bike  | 2022-08-25 19:38:56 | 2022-08-25 19:56:07 | Michigan Ave &amp; Oak St               | 13042        | Broadway &amp; Barry Ave                | 13137        | 41.90096 | -87.62378 | 41.93758 | -87.64410 | member | 2022-08-25 | 08 | 25 | 2022 | Thursday  | 1031 |\n",
       "| 0A2FA88733CA54A5 | classic_bike  | 2022-06-01 07:27:32 | 2022-06-01 07:42:40 | St. Clair St &amp; Erie St              | 13016        | Green St &amp; Randolph St              | 13053        | 41.89435 | -87.62280 | 41.88318 | -87.64872 | member | 2022-06-01 | 06 | 01 | 2022 | Wednesday |  908 |\n",
       "| 2A9165497AED784B | classic_bike  | 2022-06-20 19:47:02 | 2022-06-20 19:57:08 | Wells St &amp; Concord Ln               | TA1308000050 | Sheffield Ave &amp; Wrightwood Ave      | TA1309000023 | 41.91213 | -87.63466 | 41.92871 | -87.65383 | member | 2022-06-20 | 06 | 20 | 2022 | Monday    |  606 |\n",
       "| C5B304AFC51332D0 | electric_bike | 2022-06-10 18:55:30 | 2022-06-10 18:59:46 | NA                                  | NA           | NA                                  | NA           | 41.99000 | -87.67000 | 41.98000 | -87.67000 | member | 2022-06-10 | 06 | 10 | 2022 | Friday    |  256 |\n",
       "| 3D604BBE2D5C37B7 | classic_bike  | 2022-06-13 15:11:07 | 2022-06-13 15:18:45 | McCormick Place                     | TA1305000004 | Calumet Ave &amp; 21st St               | 15546        | 41.85138 | -87.61883 | 41.85418 | -87.61915 | casual | 2022-06-13 | 06 | 13 | 2022 | Monday    |  458 |\n",
       "| 8BDBA869D7110C25 | classic_bike  | 2022-06-19 11:51:49 | 2022-06-19 12:13:51 | Larrabee St &amp; Division St           | KA1504000079 | Southport Ave &amp; Wellington Ave      | TA1307000006 | 41.90349 | -87.64335 | 41.93573 | -87.66358 | member | 2022-06-19 | 06 | 19 | 2022 | Sunday    | 1322 |\n",
       "| 7E2CDD537DDE1D74 | electric_bike | 2023-01-24 15:35:39 | 2023-01-24 15:54:00 | Albany Ave &amp; Montrose Ave           | 15621        | Clark St &amp; Winnemac Ave             | TA1309000035 | 41.96104 | -87.70575 | 41.97335 | -87.66786 | member | 2023-01-24 | 01 | 24 | 2023 | Tuesday   | 1101 |\n",
       "| 1AD96C088702F2DE | electric_bike | 2022-04-28 12:08:26 | 2022-04-28 12:12:53 | NA                                  | NA           | NA                                  | NA           | 41.79000 | -87.60000 | 41.80000 | -87.60000 | member | 2022-04-28 | 04 | 28 | 2022 | Thursday  |  267 |\n",
       "| E44C0FF39AEC9E17 | classic_bike  | 2022-10-24 18:55:12 | 2022-10-24 19:44:49 | New St &amp; Illinois St                | TA1306000013 | Wentworth Ave &amp; Cermak Rd           | 13075        | 41.89085 | -87.61862 | 41.85308 | -87.63193 | casual | 2022-10-24 | 10 | 24 | 2022 | Monday    | 2977 |\n",
       "| DE1DD68320D11CDE | electric_bike | 2022-06-17 14:57:03 | 2022-06-17 15:06:57 | Greenwood Ave &amp; 47th St             | TA1308000002 | NA                                  | NA           | 41.80968 | -87.59922 | 41.81000 | -87.62000 | member | 2022-06-17 | 06 | 17 | 2022 | Friday    |  594 |\n",
       "| DEEC293D6400F8A7 | classic_bike  | 2022-06-23 18:13:23 | 2022-06-23 18:22:05 | Southport Ave &amp; Roscoe St           | 13071        | Sheffield Ave &amp; Wellington Ave      | TA1307000052 | 41.94374 | -87.66402 | 41.93625 | -87.65266 | member | 2022-06-23 | 06 | 23 | 2022 | Thursday  |  522 |\n",
       "| 8C489FE2510B2F74 | classic_bike  | 2022-04-14 18:14:11 | 2022-04-14 18:18:17 | Broadway &amp; Sheridan Rd              | 13323        | Clarendon Ave &amp; Junior Ter          | 13389        | 41.95283 | -87.64999 | 41.96100 | -87.64960 | member | 2022-04-14 | 04 | 14 | 2022 | Thursday  |  246 |\n",
       "| FB529B966BD4DBAF | electric_bike | 2022-03-16 20:21:37 | 2022-03-16 20:26:58 | NA                                  | NA           | NA                                  | NA           | 41.93000 | -87.70000 | 41.92000 | -87.69000 | member | 2022-03-16 | 03 | 16 | 2022 | Wednesday |  321 |\n",
       "| 247E4CEA0E0426F3 | classic_bike  | 2022-10-01 01:23:42 | 2022-10-01 01:30:58 | Damen Ave &amp; Cortland St             | 13133        | Honore St &amp; Division St             | TA1305000034 | 41.91598 | -87.67733 | 41.90312 | -87.67394 | member | 2022-10-01 | 10 | 01 | 2022 | Saturday  |  436 |\n",
       "| 44E364E4F7E5068A | electric_bike | 2022-07-29 16:32:20 | 2022-07-29 16:32:57 | Ada St &amp; Washington Blvd            | 13353        | Ada St &amp; Washington Blvd            | 13353        | 41.88286 | -87.66124 | 41.88283 | -87.66121 | member | 2022-07-29 | 07 | 29 | 2022 | Friday    |   37 |\n",
       "| CD43D6E73E81FD08 | electric_bike | 2022-04-30 13:19:04 | 2022-04-30 13:56:34 | Morgan St &amp; Lake St*                | chargingstx4 | Morgan St &amp; Lake St*                | chargingstx4 | 41.88552 | -87.65235 | 41.88549 | -87.65229 | casual | 2022-04-30 | 04 | 30 | 2022 | Saturday  | 2250 |\n",
       "| 6D7B3FB67AEE44DE | electric_bike | 2022-08-18 13:07:56 | 2022-08-18 13:08:48 | DuSable Lake Shore Dr &amp; Belmont Ave | TA1309000049 | DuSable Lake Shore Dr &amp; Belmont Ave | TA1309000049 | 41.94074 | -87.63916 | 41.94078 | -87.63919 | member | 2022-08-18 | 08 | 18 | 2022 | Thursday  |   52 |\n",
       "\n"
      ],
      "text/plain": [
       "      ride_id          rideable_type started_at          ended_at           \n",
       "1     1F0E84CED7ED048A electric_bike 2022-10-05 09:32:10 2022-10-05 09:46:30\n",
       "2     AE53813BB650B7CD classic_bike  2022-10-01 23:22:03 2022-10-01 23:28:36\n",
       "3     597834DC97EE63D9 classic_bike  2022-06-18 13:21:25 2022-06-18 13:53:11\n",
       "4     FE9674CF91265087 classic_bike  2022-07-30 21:49:07 2022-07-30 22:08:21\n",
       "5     CB14C7620D563366 classic_bike  2022-09-05 08:53:41 2022-09-05 09:02:50\n",
       "6     3F563C4926EAC90E electric_bike 2022-04-23 08:33:27 2022-04-23 08:36:52\n",
       "7     A1CF30BC39DF166E electric_bike 2022-06-17 06:26:12 2022-06-17 07:09:58\n",
       "8     57DBE2529D0AC868 docked_bike   2022-11-03 16:07:29 2022-11-03 17:28:19\n",
       "9     DB7692E113A86B1E classic_bike  2022-07-12 09:17:48 2022-07-12 09:20:28\n",
       "10    682CF82B31B1478A classic_bike  2022-08-25 17:39:57 2022-08-25 17:40:38\n",
       "11    AEA02F59D754E013 classic_bike  2022-10-13 07:57:28 2022-10-13 08:05:17\n",
       "12    749D235215460FAD classic_bike  2022-10-26 20:49:57 2022-10-26 20:54:11\n",
       "13    B3C862924B65C0CD classic_bike  2022-03-16 18:03:59 2022-03-16 18:34:25\n",
       "14    1910F942A93E6768 electric_bike 2022-09-10 12:44:40 2022-09-10 12:57:29\n",
       "15    52CEE1D5EDBCA4B3 classic_bike  2022-07-30 15:18:30 2022-07-30 15:48:25\n",
       "16    67031E3BE1B845E0 electric_bike 2022-06-15 18:32:43 2022-06-15 18:50:37\n",
       "17    642DBA0311EB9061 electric_bike 2022-03-29 19:45:56 2022-03-29 20:07:40\n",
       "18    AD769C202332A30B electric_bike 2022-09-05 17:51:58 2022-09-05 18:04:14\n",
       "19    B8F034923760BC56 electric_bike 2022-06-26 10:17:43 2022-06-26 10:33:58\n",
       "20    F23D308C26F7B28C electric_bike 2022-04-24 09:02:14 2022-04-24 09:10:46\n",
       "21    761C04617ABC4C01 electric_bike 2022-07-22 11:47:12 2022-07-22 11:59:30\n",
       "22    6E524C1117F7DC99 classic_bike  2022-06-19 14:29:07 2022-06-19 14:58:42\n",
       "23    5FEAAFDA6D7D57DF electric_bike 2022-06-04 19:41:08 2022-06-04 19:56:58\n",
       "24    E462EC7D89400DC7 electric_bike 2022-06-30 18:17:47 2022-06-30 18:19:25\n",
       "25    A26AC268787BF24D electric_bike 2022-03-03 17:19:28 2022-03-03 17:42:46\n",
       "26    E327828D6839458A classic_bike  2022-07-22 16:42:10 2022-07-22 17:00:04\n",
       "27    0382271D0C7079BA electric_bike 2023-01-23 17:11:14 2023-01-23 17:11:25\n",
       "28    C9B7853430E7A007 electric_bike 2022-06-23 07:29:51 2022-06-23 07:35:44\n",
       "29    539FB63C7E8A6B7F classic_bike  2022-04-12 17:59:08 2022-04-12 18:05:03\n",
       "30    E8D26764F9A76C7A electric_bike 2022-09-24 17:55:59 2022-09-24 18:09:37\n",
       "⋮     ⋮                ⋮             ⋮                   ⋮                  \n",
       "65791 4F2F88BFB61F6446 classic_bike  2022-06-16 22:35:24 2022-06-16 22:40:37\n",
       "65792 EA771A66D77E3073 classic_bike  2022-06-30 22:45:13 2022-06-30 23:06:36\n",
       "65793 0908AC13A03159CC classic_bike  2022-04-19 21:59:22 2022-04-19 22:11:50\n",
       "65794 AD64E7DB729BD92F electric_bike 2022-10-05 20:10:48 2022-10-05 20:28:23\n",
       "65795 F0767E1FCD71A3F1 classic_bike  2022-02-11 20:25:28 2022-02-11 20:29:35\n",
       "65796 B0FA1BE34A17A9BE docked_bike   2022-07-09 13:37:05 2022-07-09 14:04:46\n",
       "65797 4C59694ACC6D5A87 electric_bike 2022-04-23 06:53:25 2022-04-23 07:01:59\n",
       "65798 E6452FDE1C6358CD electric_bike 2022-06-03 11:20:00 2022-06-03 11:40:40\n",
       "65799 960967931D7F8779 classic_bike  2022-06-11 13:50:15 2022-06-11 14:07:38\n",
       "65800 5F54EAE23AF1EB2C electric_bike 2022-02-27 15:06:52 2022-02-27 15:13:21\n",
       "65801 237A6A249097204E electric_bike 2022-09-05 18:10:33 2022-09-05 18:21:09\n",
       "65802 56DC2854E54CDDF6 electric_bike 2023-01-04 09:31:32 2023-01-04 09:41:44\n",
       "65803 7F4B85752BEB89B5 docked_bike   2022-07-22 20:25:27 2022-07-22 21:17:52\n",
       "65804 5F9A2074FD5EDFC0 classic_bike  2022-08-25 19:38:56 2022-08-25 19:56:07\n",
       "65805 0A2FA88733CA54A5 classic_bike  2022-06-01 07:27:32 2022-06-01 07:42:40\n",
       "65806 2A9165497AED784B classic_bike  2022-06-20 19:47:02 2022-06-20 19:57:08\n",
       "65807 C5B304AFC51332D0 electric_bike 2022-06-10 18:55:30 2022-06-10 18:59:46\n",
       "65808 3D604BBE2D5C37B7 classic_bike  2022-06-13 15:11:07 2022-06-13 15:18:45\n",
       "65809 8BDBA869D7110C25 classic_bike  2022-06-19 11:51:49 2022-06-19 12:13:51\n",
       "65810 7E2CDD537DDE1D74 electric_bike 2023-01-24 15:35:39 2023-01-24 15:54:00\n",
       "65811 1AD96C088702F2DE electric_bike 2022-04-28 12:08:26 2022-04-28 12:12:53\n",
       "65812 E44C0FF39AEC9E17 classic_bike  2022-10-24 18:55:12 2022-10-24 19:44:49\n",
       "65813 DE1DD68320D11CDE electric_bike 2022-06-17 14:57:03 2022-06-17 15:06:57\n",
       "65814 DEEC293D6400F8A7 classic_bike  2022-06-23 18:13:23 2022-06-23 18:22:05\n",
       "65815 8C489FE2510B2F74 classic_bike  2022-04-14 18:14:11 2022-04-14 18:18:17\n",
       "65816 FB529B966BD4DBAF electric_bike 2022-03-16 20:21:37 2022-03-16 20:26:58\n",
       "65817 247E4CEA0E0426F3 classic_bike  2022-10-01 01:23:42 2022-10-01 01:30:58\n",
       "65818 44E364E4F7E5068A electric_bike 2022-07-29 16:32:20 2022-07-29 16:32:57\n",
       "65819 CD43D6E73E81FD08 electric_bike 2022-04-30 13:19:04 2022-04-30 13:56:34\n",
       "65820 6D7B3FB67AEE44DE electric_bike 2022-08-18 13:07:56 2022-08-18 13:08:48\n",
       "      start_station_name                                  start_station_id\n",
       "1     N Carpenter St & W Lake St                          20251.0         \n",
       "2     Western Ave & 21st St                               13091           \n",
       "3     Halsted St & Roscoe St                              TA1309000025    \n",
       "4     State St & Harrison St                              SL-007          \n",
       "5     Clark St & Wellington Ave                           TA1307000136    \n",
       "6     NA                                                  NA              \n",
       "7     Sheffield Ave & Wrightwood Ave                      TA1309000023    \n",
       "8     Clark St & Lake St                                  KA1503000012    \n",
       "9     California Ave & Altgeld St                         15646           \n",
       "10    Fort Dearborn Dr & 31st St                          TA1307000048    \n",
       "11    Dearborn St & Erie St                               13045           \n",
       "12    Chicago Ave & Sheridan Rd                           E008            \n",
       "13    Dearborn St & Adams St                              TA1305000005    \n",
       "14    Broadway & Wilson - Truman College Vaccination Site 13074           \n",
       "15    Leavitt St & Armitage Ave                           TA1309000029    \n",
       "16    NA                                                  NA              \n",
       "17    NA                                                  NA              \n",
       "18    Sheffield Ave & Webster Ave                         TA1309000033    \n",
       "19    NA                                                  NA              \n",
       "20    Wabash Ave & 9th St                                 TA1309000010    \n",
       "21    Racine Ave & Fullerton Ave                          TA1306000026    \n",
       "22    Clinton St & Madison St                             TA1305000032    \n",
       "23    Desplaines St & Kinzie St                           TA1306000003    \n",
       "24    NA                                                  NA              \n",
       "25    Canal St & Adams St                                 13011           \n",
       "26    University Ave & 57th St                            KA1503000071    \n",
       "27    Desplaines St & Kinzie St                           TA1306000003    \n",
       "28    Ellis Ave & 60th St                                 KA1503000014    \n",
       "29    State St & Chicago Ave                              21544           \n",
       "30    Halsted St & Polk St                                TA1307000121    \n",
       "⋮     ⋮                                                   ⋮               \n",
       "65791 Clark St & Winnemac Ave                             TA1309000035    \n",
       "65792 Pine Grove Ave & Waveland Ave                       TA1307000150    \n",
       "65793 Eckhart Park                                        13289           \n",
       "65794 Halsted St & Willow St                              TA1307000166    \n",
       "65795 Rush St & Superior St                               15530           \n",
       "65796 Broadway & Belmont Ave                              13277           \n",
       "65797 Wabash Ave & Grand Ave                              TA1307000117    \n",
       "65798 NA                                                  NA              \n",
       "65799 Green St & Randolph St                              13053           \n",
       "65800 Wells St & Concord Ln                               TA1308000050    \n",
       "65801 Field Blvd & South Water St                         15534           \n",
       "65802 Canal St & Jackson Blvd                             13138           \n",
       "65803 Millennium Park                                     13008           \n",
       "65804 Michigan Ave & Oak St                               13042           \n",
       "65805 St. Clair St & Erie St                              13016           \n",
       "65806 Wells St & Concord Ln                               TA1308000050    \n",
       "65807 NA                                                  NA              \n",
       "65808 McCormick Place                                     TA1305000004    \n",
       "65809 Larrabee St & Division St                           KA1504000079    \n",
       "65810 Albany Ave & Montrose Ave                           15621           \n",
       "65811 NA                                                  NA              \n",
       "65812 New St & Illinois St                                TA1306000013    \n",
       "65813 Greenwood Ave & 47th St                             TA1308000002    \n",
       "65814 Southport Ave & Roscoe St                           13071           \n",
       "65815 Broadway & Sheridan Rd                              13323           \n",
       "65816 NA                                                  NA              \n",
       "65817 Damen Ave & Cortland St                             13133           \n",
       "65818 Ada St & Washington Blvd                            13353           \n",
       "65819 Morgan St & Lake St*                                chargingstx4    \n",
       "65820 DuSable Lake Shore Dr & Belmont Ave                 TA1309000049    \n",
       "      end_station_name                     end_station_id start_lat start_lng\n",
       "1     Damen Ave & Pierce Ave               TA1305000041   41.89000  -87.65000\n",
       "2     Kedzie Ave & 21st St                 15686          41.85411  -87.68584\n",
       "3     DuSable Lake Shore Dr & Monroe St    13300          41.94367  -87.64895\n",
       "4     LaSalle Dr & Huron St                KP1705001026   41.87405  -87.62772\n",
       "5     Clark St & Lincoln Ave               13179          41.93650  -87.64754\n",
       "6     NA                                   NA             41.79000  -87.60000\n",
       "7     NA                                   NA             41.92864  -87.65378\n",
       "8     Wabash Ave & Roosevelt Rd            TA1305000002   41.88602  -87.63088\n",
       "9     California Ave & Milwaukee Ave       13084          41.92669  -87.69767\n",
       "10    Fort Dearborn Dr & 31st St           TA1307000048   41.83856  -87.60822\n",
       "11    Larrabee St & Division St            KA1504000079   41.89399  -87.62932\n",
       "12    Sheridan Rd & Noyes St (NU)          604            42.05049  -87.67782\n",
       "13    Broadway & Barry Ave                 13137          41.87936  -87.62979\n",
       "14    Washtenaw Ave & Lawrence Ave         KA1504000080   41.96515  -87.65832\n",
       "15    Broadway & Cornelia Ave              13278          41.91781  -87.68244\n",
       "16    NA                                   NA             41.96000  -87.65000\n",
       "17    Lakeview Ave & Fullerton Pkwy        TA1309000019   41.90000  -87.69000\n",
       "18    NA                                   NA             41.92168  -87.65344\n",
       "19    NA                                   NA             41.87000  -87.68000\n",
       "20    900 W Harrison St                    13028          41.87065  -87.62577\n",
       "21    Orleans St & Chestnut St (NEXT Apts) 620            41.92574  -87.65845\n",
       "22    Fairfield Ave & Roosevelt Rd         KA1504000102   41.88224  -87.64107\n",
       "23    Clark St & Drummond Pl               TA1307000142   41.88864  -87.64444\n",
       "24    Shedd Aquarium                       15544          41.87000  -87.62000\n",
       "25    Lincoln Ave & Belmont Ave            TA1309000042   41.87952  -87.64027\n",
       "26    Ellis Ave & 55th St                  KA1504000076   41.79148  -87.59986\n",
       "27    Desplaines St & Kinzie St            TA1306000003   41.88850  -87.64438\n",
       "28    Harper Ave & 59th St                 KA1503000070   41.78516  -87.60108\n",
       "29    Wells St & Elm St                    KA1504000135   41.89662  -87.62858\n",
       "30    NA                                   NA             41.87179  -87.64672\n",
       "⋮     ⋮                                    ⋮              ⋮         ⋮        \n",
       "65791 Clark St & Bryn Mawr Ave             KA1504000151   41.97335  -87.66786\n",
       "65792 Damen Ave & Charleston St            13288          41.94947  -87.64645\n",
       "65793 Western Ave & Winnebago Ave          13068          41.89637  -87.66098\n",
       "65794 Winthrop Ave & Lawrence Ave          TA1308000021   41.91382  -87.64887\n",
       "65795 Rush St & Cedar St                   KA1504000133   41.89576  -87.62591\n",
       "65796 Clark St & Lincoln Ave               13179          41.94011  -87.64545\n",
       "65797 Wells St & Concord Ln                TA1308000050   41.89146  -87.62669\n",
       "65798 Stockton Dr & Wrightwood Ave         13276          41.90000  -87.64000\n",
       "65799 Halsted St & Willow St               TA1307000166   41.88318  -87.64872\n",
       "65800 Larrabee St & Division St            KA1504000079   41.91208  -87.63469\n",
       "65801 Field Blvd & South Water St          15534          41.88622  -87.61743\n",
       "65802 Michigan Ave & Pearson St            13034          41.87737  -87.64026\n",
       "65803 Theater on the Lake                  TA1308000001   41.88103  -87.62408\n",
       "65804 Broadway & Barry Ave                 13137          41.90096  -87.62378\n",
       "65805 Green St & Randolph St               13053          41.89435  -87.62280\n",
       "65806 Sheffield Ave & Wrightwood Ave       TA1309000023   41.91213  -87.63466\n",
       "65807 NA                                   NA             41.99000  -87.67000\n",
       "65808 Calumet Ave & 21st St                15546          41.85138  -87.61883\n",
       "65809 Southport Ave & Wellington Ave       TA1307000006   41.90349  -87.64335\n",
       "65810 Clark St & Winnemac Ave              TA1309000035   41.96104  -87.70575\n",
       "65811 NA                                   NA             41.79000  -87.60000\n",
       "65812 Wentworth Ave & Cermak Rd            13075          41.89085  -87.61862\n",
       "65813 NA                                   NA             41.80968  -87.59922\n",
       "65814 Sheffield Ave & Wellington Ave       TA1307000052   41.94374  -87.66402\n",
       "65815 Clarendon Ave & Junior Ter           13389          41.95283  -87.64999\n",
       "65816 NA                                   NA             41.93000  -87.70000\n",
       "65817 Honore St & Division St              TA1305000034   41.91598  -87.67733\n",
       "65818 Ada St & Washington Blvd             13353          41.88286  -87.66124\n",
       "65819 Morgan St & Lake St*                 chargingstx4   41.88552  -87.65235\n",
       "65820 DuSable Lake Shore Dr & Belmont Ave  TA1309000049   41.94074  -87.63916\n",
       "      end_lat  end_lng   member_casual date       month day year day_of_week\n",
       "1     41.90940 -87.67769 casual        2022-10-05 10    05  2022 Wednesday  \n",
       "2     41.85353 -87.70507 casual        2022-10-01 10    01  2022 Saturday   \n",
       "3     41.88096 -87.61674 casual        2022-06-18 06    18  2022 Saturday   \n",
       "4     41.89488 -87.63233 casual        2022-07-30 07    30  2022 Saturday   \n",
       "5     41.91569 -87.63460 member        2022-09-05 09    05  2022 Monday     \n",
       "6     41.80000 -87.60000 member        2022-04-23 04    23  2022 Saturday   \n",
       "7     41.96000 -87.63000 casual        2022-06-17 06    17  2022 Friday     \n",
       "8     41.86723 -87.62596 casual        2022-11-03 11    03  2022 Thursday   \n",
       "9     41.92269 -87.69715 member        2022-07-12 07    12  2022 Tuesday    \n",
       "10    41.83856 -87.60822 member        2022-08-25 08    25  2022 Thursday   \n",
       "11    41.90349 -87.64335 member        2022-10-13 10    13  2022 Thursday   \n",
       "12    42.05824 -87.67743 casual        2022-10-26 10    26  2022 Wednesday  \n",
       "13    41.93758 -87.64410 member        2022-03-16 03    16  2022 Wednesday  \n",
       "14    41.96899 -87.69603 casual        2022-09-10 09    10  2022 Saturday   \n",
       "15    41.94553 -87.64644 casual        2022-07-30 07    30  2022 Saturday   \n",
       "16    41.91000 -87.63000 member        2022-06-15 06    15  2022 Wednesday  \n",
       "17    41.92586 -87.63897 member        2022-03-29 03    29  2022 Tuesday    \n",
       "18    41.90000 -87.63000 member        2022-09-05 09    05  2022 Monday     \n",
       "19    41.87000 -87.66000 member        2022-06-26 06    26  2022 Sunday     \n",
       "20    41.87475 -87.64981 member        2022-04-24 04    24  2022 Sunday     \n",
       "21    41.89820 -87.63754 member        2022-07-22 07    22  2022 Friday     \n",
       "22    41.86662 -87.69452 casual        2022-06-19 06    19  2022 Sunday     \n",
       "23    41.93125 -87.64434 casual        2022-06-04 06    04  2022 Saturday   \n",
       "24    41.86723 -87.61536 member        2022-06-30 06    30  2022 Thursday   \n",
       "25    41.93937 -87.66839 member        2022-03-03 03    03  2022 Thursday   \n",
       "26    41.79430 -87.60145 member        2022-07-22 07    22  2022 Friday     \n",
       "27    41.88872 -87.64445 member        2023-01-23 01    23  2023 Monday     \n",
       "28    41.78794 -87.58832 member        2022-06-23 06    23  2022 Thursday   \n",
       "29    41.90322 -87.63432 casual        2022-04-12 04    12  2022 Tuesday    \n",
       "30    41.86000 -87.66000 member        2022-09-24 09    24  2022 Saturday   \n",
       "⋮     ⋮        ⋮         ⋮             ⋮          ⋮     ⋮   ⋮    ⋮          \n",
       "65791 41.98359 -87.66915 casual        2022-06-16 06    16  2022 Thursday   \n",
       "65792 41.92008 -87.67785 member        2022-06-30 06    30  2022 Thursday   \n",
       "65793 41.91552 -87.68702 member        2022-04-19 04    19  2022 Tuesday    \n",
       "65794 41.96881 -87.65766 casual        2022-10-05 10    05  2022 Wednesday  \n",
       "65795 41.90231 -87.62769 member        2022-02-11 02    11  2022 Friday     \n",
       "65796 41.91569 -87.63460 casual        2022-07-09 07    09  2022 Saturday   \n",
       "65797 41.91213 -87.63466 member        2022-04-23 04    23  2022 Saturday   \n",
       "65798 41.93132 -87.63874 member        2022-06-03 06    03  2022 Friday     \n",
       "65799 41.91387 -87.64875 casual        2022-06-11 06    11  2022 Saturday   \n",
       "65800 41.90349 -87.64335 member        2022-02-27 02    27  2022 Sunday     \n",
       "65801 41.88635 -87.61752 casual        2022-09-05 09    05  2022 Monday     \n",
       "65802 41.89766 -87.62351 casual        2023-01-04 01    04  2023 Wednesday  \n",
       "65803 41.92628 -87.63083 casual        2022-07-22 07    22  2022 Friday     \n",
       "65804 41.93758 -87.64410 member        2022-08-25 08    25  2022 Thursday   \n",
       "65805 41.88318 -87.64872 member        2022-06-01 06    01  2022 Wednesday  \n",
       "65806 41.92871 -87.65383 member        2022-06-20 06    20  2022 Monday     \n",
       "65807 41.98000 -87.67000 member        2022-06-10 06    10  2022 Friday     \n",
       "65808 41.85418 -87.61915 casual        2022-06-13 06    13  2022 Monday     \n",
       "65809 41.93573 -87.66358 member        2022-06-19 06    19  2022 Sunday     \n",
       "65810 41.97335 -87.66786 member        2023-01-24 01    24  2023 Tuesday    \n",
       "65811 41.80000 -87.60000 member        2022-04-28 04    28  2022 Thursday   \n",
       "65812 41.85308 -87.63193 casual        2022-10-24 10    24  2022 Monday     \n",
       "65813 41.81000 -87.62000 member        2022-06-17 06    17  2022 Friday     \n",
       "65814 41.93625 -87.65266 member        2022-06-23 06    23  2022 Thursday   \n",
       "65815 41.96100 -87.64960 member        2022-04-14 04    14  2022 Thursday   \n",
       "65816 41.92000 -87.69000 member        2022-03-16 03    16  2022 Wednesday  \n",
       "65817 41.90312 -87.67394 member        2022-10-01 10    01  2022 Saturday   \n",
       "65818 41.88283 -87.66121 member        2022-07-29 07    29  2022 Friday     \n",
       "65819 41.88549 -87.65229 casual        2022-04-30 04    30  2022 Saturday   \n",
       "65820 41.94078 -87.63919 member        2022-08-18 08    18  2022 Thursday   \n",
       "      ride_length\n",
       "1      860       \n",
       "2      393       \n",
       "3     1906       \n",
       "4     1154       \n",
       "5      549       \n",
       "6      205       \n",
       "7     2626       \n",
       "8     4850       \n",
       "9      160       \n",
       "10      41       \n",
       "11     469       \n",
       "12     254       \n",
       "13    1826       \n",
       "14     769       \n",
       "15    1795       \n",
       "16    1074       \n",
       "17    1304       \n",
       "18     736       \n",
       "19     975       \n",
       "20     512       \n",
       "21     738       \n",
       "22    1775       \n",
       "23     950       \n",
       "24      98       \n",
       "25    1398       \n",
       "26    1074       \n",
       "27      11       \n",
       "28     353       \n",
       "29     355       \n",
       "30     818       \n",
       "⋮     ⋮          \n",
       "65791  313       \n",
       "65792 1283       \n",
       "65793  748       \n",
       "65794 1055       \n",
       "65795  247       \n",
       "65796 1661       \n",
       "65797  514       \n",
       "65798 1240       \n",
       "65799 1043       \n",
       "65800  389       \n",
       "65801  636       \n",
       "65802  612       \n",
       "65803 3145       \n",
       "65804 1031       \n",
       "65805  908       \n",
       "65806  606       \n",
       "65807  256       \n",
       "65808  458       \n",
       "65809 1322       \n",
       "65810 1101       \n",
       "65811  267       \n",
       "65812 2977       \n",
       "65813  594       \n",
       "65814  522       \n",
       "65815  246       \n",
       "65816  321       \n",
       "65817  436       \n",
       "65818   37       \n",
       "65819 2250       \n",
       "65820   52       "
      ]
     },
     "metadata": {},
     "output_type": "display_data"
    },
    {
     "data": {
      "text/html": [
       "<table class=\"dataframe\">\n",
       "<caption>A skim_df: 19 × 24</caption>\n",
       "<thead>\n",
       "\t<tr><th></th><th scope=col>skim_type</th><th scope=col>skim_variable</th><th scope=col>n_missing</th><th scope=col>complete_rate</th><th scope=col>character.min</th><th scope=col>character.max</th><th scope=col>character.empty</th><th scope=col>character.n_unique</th><th scope=col>character.whitespace</th><th scope=col>Date.min</th><th scope=col>⋯</th><th scope=col>numeric.sd</th><th scope=col>numeric.p0</th><th scope=col>numeric.p25</th><th scope=col>numeric.p50</th><th scope=col>numeric.p75</th><th scope=col>numeric.p100</th><th scope=col>POSIXct.min</th><th scope=col>POSIXct.max</th><th scope=col>POSIXct.median</th><th scope=col>POSIXct.n_unique</th></tr>\n",
       "\t<tr><th></th><th scope=col>&lt;chr&gt;</th><th scope=col>&lt;chr&gt;</th><th scope=col>&lt;int&gt;</th><th scope=col>&lt;dbl&gt;</th><th scope=col>&lt;int&gt;</th><th scope=col>&lt;int&gt;</th><th scope=col>&lt;int&gt;</th><th scope=col>&lt;int&gt;</th><th scope=col>&lt;int&gt;</th><th scope=col>&lt;date&gt;</th><th scope=col>⋯</th><th scope=col>&lt;dbl&gt;</th><th scope=col>&lt;dbl&gt;</th><th scope=col>&lt;dbl&gt;</th><th scope=col>&lt;dbl&gt;</th><th scope=col>&lt;dbl&gt;</th><th scope=col>&lt;dbl&gt;</th><th scope=col>&lt;dttm&gt;</th><th scope=col>&lt;dttm&gt;</th><th scope=col>&lt;dttm&gt;</th><th scope=col>&lt;int&gt;</th></tr>\n",
       "</thead>\n",
       "<tbody>\n",
       "\t<tr><th scope=row>1</th><td>character</td><td>ride_id           </td><td>    0</td><td>1.0000000</td><td>16</td><td>16</td><td> 0</td><td>65379</td><td> 0</td><td>NA</td><td>⋯</td><td>          NA</td><td>       NA</td><td>        NA</td><td>        NA</td><td>        NA</td><td>           NA</td><td>NA</td><td>NA</td><td>NA</td><td>   NA</td></tr>\n",
       "\t<tr><th scope=row>2</th><td>character</td><td>rideable_type     </td><td>    0</td><td>1.0000000</td><td>11</td><td>13</td><td> 0</td><td>    3</td><td> 0</td><td>NA</td><td>⋯</td><td>          NA</td><td>       NA</td><td>        NA</td><td>        NA</td><td>        NA</td><td>           NA</td><td>NA</td><td>NA</td><td>NA</td><td>   NA</td></tr>\n",
       "\t<tr><th scope=row>3</th><td>character</td><td>start_station_name</td><td> 9499</td><td>0.8556822</td><td>10</td><td>64</td><td> 0</td><td>  958</td><td> 0</td><td>NA</td><td>⋯</td><td>          NA</td><td>       NA</td><td>        NA</td><td>        NA</td><td>        NA</td><td>           NA</td><td>NA</td><td>NA</td><td>NA</td><td>   NA</td></tr>\n",
       "\t<tr><th scope=row>4</th><td>character</td><td>start_station_id  </td><td> 9499</td><td>0.8556822</td><td> 3</td><td>37</td><td> 0</td><td>  907</td><td> 0</td><td>NA</td><td>⋯</td><td>          NA</td><td>       NA</td><td>        NA</td><td>        NA</td><td>        NA</td><td>           NA</td><td>NA</td><td>NA</td><td>NA</td><td>   NA</td></tr>\n",
       "\t<tr><th scope=row>5</th><td>character</td><td>end_station_name  </td><td>10196</td><td>0.8450927</td><td>10</td><td>64</td><td> 0</td><td>  949</td><td> 0</td><td>NA</td><td>⋯</td><td>          NA</td><td>       NA</td><td>        NA</td><td>        NA</td><td>        NA</td><td>           NA</td><td>NA</td><td>NA</td><td>NA</td><td>   NA</td></tr>\n",
       "\t<tr><th scope=row>6</th><td>character</td><td>end_station_id    </td><td>10196</td><td>0.8450927</td><td> 3</td><td>35</td><td> 0</td><td>  903</td><td> 0</td><td>NA</td><td>⋯</td><td>          NA</td><td>       NA</td><td>        NA</td><td>        NA</td><td>        NA</td><td>           NA</td><td>NA</td><td>NA</td><td>NA</td><td>   NA</td></tr>\n",
       "\t<tr><th scope=row>7</th><td>character</td><td>member_casual     </td><td>    0</td><td>1.0000000</td><td> 6</td><td> 6</td><td> 0</td><td>    2</td><td> 0</td><td>NA</td><td>⋯</td><td>          NA</td><td>       NA</td><td>        NA</td><td>        NA</td><td>        NA</td><td>           NA</td><td>NA</td><td>NA</td><td>NA</td><td>   NA</td></tr>\n",
       "\t<tr><th scope=row>8</th><td>character</td><td>month             </td><td>    0</td><td>1.0000000</td><td> 2</td><td> 2</td><td> 0</td><td>   11</td><td> 0</td><td>NA</td><td>⋯</td><td>          NA</td><td>       NA</td><td>        NA</td><td>        NA</td><td>        NA</td><td>           NA</td><td>NA</td><td>NA</td><td>NA</td><td>   NA</td></tr>\n",
       "\t<tr><th scope=row>9</th><td>character</td><td>day               </td><td>    0</td><td>1.0000000</td><td> 2</td><td> 2</td><td> 0</td><td>   31</td><td> 0</td><td>NA</td><td>⋯</td><td>          NA</td><td>       NA</td><td>        NA</td><td>        NA</td><td>        NA</td><td>           NA</td><td>NA</td><td>NA</td><td>NA</td><td>   NA</td></tr>\n",
       "\t<tr><th scope=row>10</th><td>character</td><td>day_of_week       </td><td>    0</td><td>1.0000000</td><td> 6</td><td> 9</td><td> 0</td><td>    7</td><td> 0</td><td>NA</td><td>⋯</td><td>          NA</td><td>       NA</td><td>        NA</td><td>        NA</td><td>        NA</td><td>           NA</td><td>NA</td><td>NA</td><td>NA</td><td>   NA</td></tr>\n",
       "\t<tr><th scope=row>11</th><td>Date     </td><td>date              </td><td>    0</td><td>1.0000000</td><td>NA</td><td>NA</td><td>NA</td><td>   NA</td><td>NA</td><td>2022-02-01</td><td>⋯</td><td>          NA</td><td>       NA</td><td>        NA</td><td>        NA</td><td>        NA</td><td>           NA</td><td>NA</td><td>NA</td><td>NA</td><td>   NA</td></tr>\n",
       "\t<tr><th scope=row>12</th><td>numeric  </td><td>start_lat         </td><td>    0</td><td>1.0000000</td><td>NA</td><td>NA</td><td>NA</td><td>   NA</td><td>NA</td><td>NA</td><td>⋯</td><td>4.599486e-02</td><td>  41.6485</td><td>  41.88104</td><td>  41.90000</td><td>  41.93000</td><td>     42.07000</td><td>NA</td><td>NA</td><td>NA</td><td>   NA</td></tr>\n",
       "\t<tr><th scope=row>13</th><td>numeric  </td><td>start_lng         </td><td>    0</td><td>1.0000000</td><td>NA</td><td>NA</td><td>NA</td><td>   NA</td><td>NA</td><td>NA</td><td>⋯</td><td>2.902898e-02</td><td> -87.8300</td><td> -87.66137</td><td> -87.64410</td><td> -87.62976</td><td>    -87.52823</td><td>NA</td><td>NA</td><td>NA</td><td>   NA</td></tr>\n",
       "\t<tr><th scope=row>14</th><td>numeric  </td><td>end_lat           </td><td>   66</td><td>0.9989973</td><td>NA</td><td>NA</td><td>NA</td><td>   NA</td><td>NA</td><td>NA</td><td>⋯</td><td>1.698116e-01</td><td>   0.0000</td><td>  41.88103</td><td>  41.90000</td><td>  41.93000</td><td>     42.07000</td><td>NA</td><td>NA</td><td>NA</td><td>   NA</td></tr>\n",
       "\t<tr><th scope=row>15</th><td>numeric  </td><td>end_lng           </td><td>   66</td><td>0.9989973</td><td>NA</td><td>NA</td><td>NA</td><td>   NA</td><td>NA</td><td>NA</td><td>⋯</td><td>3.430512e-01</td><td> -87.9300</td><td> -87.66201</td><td> -87.64414</td><td> -87.62979</td><td>      0.00000</td><td>NA</td><td>NA</td><td>NA</td><td>   NA</td></tr>\n",
       "\t<tr><th scope=row>16</th><td>numeric  </td><td>year              </td><td>    0</td><td>1.0000000</td><td>NA</td><td>NA</td><td>NA</td><td>   NA</td><td>NA</td><td>NA</td><td>⋯</td><td>1.774793e-01</td><td>2022.0000</td><td>2022.00000</td><td>2022.00000</td><td>2022.00000</td><td>   2023.00000</td><td>NA</td><td>NA</td><td>NA</td><td>   NA</td></tr>\n",
       "\t<tr><th scope=row>17</th><td>numeric  </td><td>ride_length       </td><td>    0</td><td>1.0000000</td><td>NA</td><td>NA</td><td>NA</td><td>   NA</td><td>NA</td><td>NA</td><td>⋯</td><td>1.035715e+04</td><td>   0.0000</td><td> 349.00000</td><td> 618.00000</td><td>1099.00000</td><td>1163405.00000</td><td>NA</td><td>NA</td><td>NA</td><td>   NA</td></tr>\n",
       "\t<tr><th scope=row>18</th><td>POSIXct  </td><td>started_at        </td><td>    0</td><td>1.0000000</td><td>NA</td><td>NA</td><td>NA</td><td>   NA</td><td>NA</td><td>NA</td><td>⋯</td><td>          NA</td><td>       NA</td><td>        NA</td><td>        NA</td><td>        NA</td><td>           NA</td><td>2022-02-01 05:51:03</td><td>2023-01-31 22:51:55</td><td>2022-07-25 12:03:32</td><td>65181</td></tr>\n",
       "\t<tr><th scope=row>19</th><td>POSIXct  </td><td>ended_at          </td><td>    0</td><td>1.0000000</td><td>NA</td><td>NA</td><td>NA</td><td>   NA</td><td>NA</td><td>NA</td><td>⋯</td><td>          NA</td><td>       NA</td><td>        NA</td><td>        NA</td><td>        NA</td><td>           NA</td><td>2022-02-01 05:59:17</td><td>2023-01-31 22:54:23</td><td>2022-07-25 12:44:45</td><td>65193</td></tr>\n",
       "</tbody>\n",
       "</table>\n"
      ],
      "text/latex": [
       "A skim\\_df: 19 × 24\n",
       "\\begin{tabular}{r|lllllllllllllllllllll}\n",
       "  & skim\\_type & skim\\_variable & n\\_missing & complete\\_rate & character.min & character.max & character.empty & character.n\\_unique & character.whitespace & Date.min & ⋯ & numeric.sd & numeric.p0 & numeric.p25 & numeric.p50 & numeric.p75 & numeric.p100 & POSIXct.min & POSIXct.max & POSIXct.median & POSIXct.n\\_unique\\\\\n",
       "  & <chr> & <chr> & <int> & <dbl> & <int> & <int> & <int> & <int> & <int> & <date> & ⋯ & <dbl> & <dbl> & <dbl> & <dbl> & <dbl> & <dbl> & <dttm> & <dttm> & <dttm> & <int>\\\\\n",
       "\\hline\n",
       "\t1 & character & ride\\_id            &     0 & 1.0000000 & 16 & 16 &  0 & 65379 &  0 & NA & ⋯ &           NA &        NA &         NA &         NA &         NA &            NA & NA & NA & NA &    NA\\\\\n",
       "\t2 & character & rideable\\_type      &     0 & 1.0000000 & 11 & 13 &  0 &     3 &  0 & NA & ⋯ &           NA &        NA &         NA &         NA &         NA &            NA & NA & NA & NA &    NA\\\\\n",
       "\t3 & character & start\\_station\\_name &  9499 & 0.8556822 & 10 & 64 &  0 &   958 &  0 & NA & ⋯ &           NA &        NA &         NA &         NA &         NA &            NA & NA & NA & NA &    NA\\\\\n",
       "\t4 & character & start\\_station\\_id   &  9499 & 0.8556822 &  3 & 37 &  0 &   907 &  0 & NA & ⋯ &           NA &        NA &         NA &         NA &         NA &            NA & NA & NA & NA &    NA\\\\\n",
       "\t5 & character & end\\_station\\_name   & 10196 & 0.8450927 & 10 & 64 &  0 &   949 &  0 & NA & ⋯ &           NA &        NA &         NA &         NA &         NA &            NA & NA & NA & NA &    NA\\\\\n",
       "\t6 & character & end\\_station\\_id     & 10196 & 0.8450927 &  3 & 35 &  0 &   903 &  0 & NA & ⋯ &           NA &        NA &         NA &         NA &         NA &            NA & NA & NA & NA &    NA\\\\\n",
       "\t7 & character & member\\_casual      &     0 & 1.0000000 &  6 &  6 &  0 &     2 &  0 & NA & ⋯ &           NA &        NA &         NA &         NA &         NA &            NA & NA & NA & NA &    NA\\\\\n",
       "\t8 & character & month              &     0 & 1.0000000 &  2 &  2 &  0 &    11 &  0 & NA & ⋯ &           NA &        NA &         NA &         NA &         NA &            NA & NA & NA & NA &    NA\\\\\n",
       "\t9 & character & day                &     0 & 1.0000000 &  2 &  2 &  0 &    31 &  0 & NA & ⋯ &           NA &        NA &         NA &         NA &         NA &            NA & NA & NA & NA &    NA\\\\\n",
       "\t10 & character & day\\_of\\_week        &     0 & 1.0000000 &  6 &  9 &  0 &     7 &  0 & NA & ⋯ &           NA &        NA &         NA &         NA &         NA &            NA & NA & NA & NA &    NA\\\\\n",
       "\t11 & Date      & date               &     0 & 1.0000000 & NA & NA & NA &    NA & NA & 2022-02-01 & ⋯ &           NA &        NA &         NA &         NA &         NA &            NA & NA & NA & NA &    NA\\\\\n",
       "\t12 & numeric   & start\\_lat          &     0 & 1.0000000 & NA & NA & NA &    NA & NA & NA & ⋯ & 4.599486e-02 &   41.6485 &   41.88104 &   41.90000 &   41.93000 &      42.07000 & NA & NA & NA &    NA\\\\\n",
       "\t13 & numeric   & start\\_lng          &     0 & 1.0000000 & NA & NA & NA &    NA & NA & NA & ⋯ & 2.902898e-02 &  -87.8300 &  -87.66137 &  -87.64410 &  -87.62976 &     -87.52823 & NA & NA & NA &    NA\\\\\n",
       "\t14 & numeric   & end\\_lat            &    66 & 0.9989973 & NA & NA & NA &    NA & NA & NA & ⋯ & 1.698116e-01 &    0.0000 &   41.88103 &   41.90000 &   41.93000 &      42.07000 & NA & NA & NA &    NA\\\\\n",
       "\t15 & numeric   & end\\_lng            &    66 & 0.9989973 & NA & NA & NA &    NA & NA & NA & ⋯ & 3.430512e-01 &  -87.9300 &  -87.66201 &  -87.64414 &  -87.62979 &       0.00000 & NA & NA & NA &    NA\\\\\n",
       "\t16 & numeric   & year               &     0 & 1.0000000 & NA & NA & NA &    NA & NA & NA & ⋯ & 1.774793e-01 & 2022.0000 & 2022.00000 & 2022.00000 & 2022.00000 &    2023.00000 & NA & NA & NA &    NA\\\\\n",
       "\t17 & numeric   & ride\\_length        &     0 & 1.0000000 & NA & NA & NA &    NA & NA & NA & ⋯ & 1.035715e+04 &    0.0000 &  349.00000 &  618.00000 & 1099.00000 & 1163405.00000 & NA & NA & NA &    NA\\\\\n",
       "\t18 & POSIXct   & started\\_at         &     0 & 1.0000000 & NA & NA & NA &    NA & NA & NA & ⋯ &           NA &        NA &         NA &         NA &         NA &            NA & 2022-02-01 05:51:03 & 2023-01-31 22:51:55 & 2022-07-25 12:03:32 & 65181\\\\\n",
       "\t19 & POSIXct   & ended\\_at           &     0 & 1.0000000 & NA & NA & NA &    NA & NA & NA & ⋯ &           NA &        NA &         NA &         NA &         NA &            NA & 2022-02-01 05:59:17 & 2023-01-31 22:54:23 & 2022-07-25 12:44:45 & 65193\\\\\n",
       "\\end{tabular}\n"
      ],
      "text/markdown": [
       "\n",
       "A skim_df: 19 × 24\n",
       "\n",
       "| <!--/--> | skim_type &lt;chr&gt; | skim_variable &lt;chr&gt; | n_missing &lt;int&gt; | complete_rate &lt;dbl&gt; | character.min &lt;int&gt; | character.max &lt;int&gt; | character.empty &lt;int&gt; | character.n_unique &lt;int&gt; | character.whitespace &lt;int&gt; | Date.min &lt;date&gt; | ⋯ ⋯ | numeric.sd &lt;dbl&gt; | numeric.p0 &lt;dbl&gt; | numeric.p25 &lt;dbl&gt; | numeric.p50 &lt;dbl&gt; | numeric.p75 &lt;dbl&gt; | numeric.p100 &lt;dbl&gt; | POSIXct.min &lt;dttm&gt; | POSIXct.max &lt;dttm&gt; | POSIXct.median &lt;dttm&gt; | POSIXct.n_unique &lt;int&gt; |\n",
       "|---|---|---|---|---|---|---|---|---|---|---|---|---|---|---|---|---|---|---|---|---|---|\n",
       "| 1 | character | ride_id            |     0 | 1.0000000 | 16 | 16 |  0 | 65379 |  0 | NA | ⋯ |           NA |        NA |         NA |         NA |         NA |            NA | NA | NA | NA |    NA |\n",
       "| 2 | character | rideable_type      |     0 | 1.0000000 | 11 | 13 |  0 |     3 |  0 | NA | ⋯ |           NA |        NA |         NA |         NA |         NA |            NA | NA | NA | NA |    NA |\n",
       "| 3 | character | start_station_name |  9499 | 0.8556822 | 10 | 64 |  0 |   958 |  0 | NA | ⋯ |           NA |        NA |         NA |         NA |         NA |            NA | NA | NA | NA |    NA |\n",
       "| 4 | character | start_station_id   |  9499 | 0.8556822 |  3 | 37 |  0 |   907 |  0 | NA | ⋯ |           NA |        NA |         NA |         NA |         NA |            NA | NA | NA | NA |    NA |\n",
       "| 5 | character | end_station_name   | 10196 | 0.8450927 | 10 | 64 |  0 |   949 |  0 | NA | ⋯ |           NA |        NA |         NA |         NA |         NA |            NA | NA | NA | NA |    NA |\n",
       "| 6 | character | end_station_id     | 10196 | 0.8450927 |  3 | 35 |  0 |   903 |  0 | NA | ⋯ |           NA |        NA |         NA |         NA |         NA |            NA | NA | NA | NA |    NA |\n",
       "| 7 | character | member_casual      |     0 | 1.0000000 |  6 |  6 |  0 |     2 |  0 | NA | ⋯ |           NA |        NA |         NA |         NA |         NA |            NA | NA | NA | NA |    NA |\n",
       "| 8 | character | month              |     0 | 1.0000000 |  2 |  2 |  0 |    11 |  0 | NA | ⋯ |           NA |        NA |         NA |         NA |         NA |            NA | NA | NA | NA |    NA |\n",
       "| 9 | character | day                |     0 | 1.0000000 |  2 |  2 |  0 |    31 |  0 | NA | ⋯ |           NA |        NA |         NA |         NA |         NA |            NA | NA | NA | NA |    NA |\n",
       "| 10 | character | day_of_week        |     0 | 1.0000000 |  6 |  9 |  0 |     7 |  0 | NA | ⋯ |           NA |        NA |         NA |         NA |         NA |            NA | NA | NA | NA |    NA |\n",
       "| 11 | Date      | date               |     0 | 1.0000000 | NA | NA | NA |    NA | NA | 2022-02-01 | ⋯ |           NA |        NA |         NA |         NA |         NA |            NA | NA | NA | NA |    NA |\n",
       "| 12 | numeric   | start_lat          |     0 | 1.0000000 | NA | NA | NA |    NA | NA | NA | ⋯ | 4.599486e-02 |   41.6485 |   41.88104 |   41.90000 |   41.93000 |      42.07000 | NA | NA | NA |    NA |\n",
       "| 13 | numeric   | start_lng          |     0 | 1.0000000 | NA | NA | NA |    NA | NA | NA | ⋯ | 2.902898e-02 |  -87.8300 |  -87.66137 |  -87.64410 |  -87.62976 |     -87.52823 | NA | NA | NA |    NA |\n",
       "| 14 | numeric   | end_lat            |    66 | 0.9989973 | NA | NA | NA |    NA | NA | NA | ⋯ | 1.698116e-01 |    0.0000 |   41.88103 |   41.90000 |   41.93000 |      42.07000 | NA | NA | NA |    NA |\n",
       "| 15 | numeric   | end_lng            |    66 | 0.9989973 | NA | NA | NA |    NA | NA | NA | ⋯ | 3.430512e-01 |  -87.9300 |  -87.66201 |  -87.64414 |  -87.62979 |       0.00000 | NA | NA | NA |    NA |\n",
       "| 16 | numeric   | year               |     0 | 1.0000000 | NA | NA | NA |    NA | NA | NA | ⋯ | 1.774793e-01 | 2022.0000 | 2022.00000 | 2022.00000 | 2022.00000 |    2023.00000 | NA | NA | NA |    NA |\n",
       "| 17 | numeric   | ride_length        |     0 | 1.0000000 | NA | NA | NA |    NA | NA | NA | ⋯ | 1.035715e+04 |    0.0000 |  349.00000 |  618.00000 | 1099.00000 | 1163405.00000 | NA | NA | NA |    NA |\n",
       "| 18 | POSIXct   | started_at         |     0 | 1.0000000 | NA | NA | NA |    NA | NA | NA | ⋯ |           NA |        NA |         NA |         NA |         NA |            NA | 2022-02-01 05:51:03 | 2023-01-31 22:51:55 | 2022-07-25 12:03:32 | 65181 |\n",
       "| 19 | POSIXct   | ended_at           |     0 | 1.0000000 | NA | NA | NA |    NA | NA | NA | ⋯ |           NA |        NA |         NA |         NA |         NA |            NA | 2022-02-01 05:59:17 | 2023-01-31 22:54:23 | 2022-07-25 12:44:45 | 65193 |\n",
       "\n"
      ]
     },
     "metadata": {},
     "output_type": "display_data"
    },
    {
     "name": "stdout",
     "output_type": "stream",
     "text": [
      "── Data Summary ────────────────────────\n",
      "                           Values      \n",
      "Name                       sample_df_v2\n",
      "Number of rows             65820       \n",
      "Number of columns          19          \n",
      "_______________________                \n",
      "Column type frequency:                 \n",
      "  character                10          \n",
      "  Date                     1           \n",
      "  numeric                  6           \n",
      "  POSIXct                  2           \n",
      "________________________               \n",
      "Group variables            None        \n",
      "\n",
      "── Variable type: character ────────────────────────────────────────────────────\n",
      "   skim_variable      n_missing complete_rate min max empty n_unique whitespace\n",
      "\u001b[90m 1\u001b[39m ride_id                    0         1      16  16     0    \u001b[4m6\u001b[24m\u001b[4m5\u001b[24m379          0\n",
      "\u001b[90m 2\u001b[39m rideable_type              0         1      11  13     0        3          0\n",
      "\u001b[90m 3\u001b[39m start_station_name      \u001b[4m9\u001b[24m499         0.856  10  64     0      958          0\n",
      "\u001b[90m 4\u001b[39m start_station_id        \u001b[4m9\u001b[24m499         0.856   3  37     0      907          0\n",
      "\u001b[90m 5\u001b[39m end_station_name       \u001b[4m1\u001b[24m\u001b[4m0\u001b[24m196         0.845  10  64     0      949          0\n",
      "\u001b[90m 6\u001b[39m end_station_id         \u001b[4m1\u001b[24m\u001b[4m0\u001b[24m196         0.845   3  35     0      903          0\n",
      "\u001b[90m 7\u001b[39m member_casual              0         1       6   6     0        2          0\n",
      "\u001b[90m 8\u001b[39m month                      0         1       2   2     0       11          0\n",
      "\u001b[90m 9\u001b[39m day                        0         1       2   2     0       31          0\n",
      "\u001b[90m10\u001b[39m day_of_week                0         1       6   9     0        7          0\n",
      "\n",
      "── Variable type: Date ─────────────────────────────────────────────────────────\n",
      "  skim_variable n_missing complete_rate min        max        median    \n",
      "\u001b[90m1\u001b[39m date                  0             1 2022-02-01 2023-01-31 2022-07-25\n",
      "  n_unique\n",
      "\u001b[90m1\u001b[39m      334\n",
      "\n",
      "── Variable type: numeric ──────────────────────────────────────────────────────\n",
      "  skim_variable n_missing complete_rate   mean         sd     p0    p25    p50\n",
      "\u001b[90m1\u001b[39m start_lat             0         1       41.9     0.046\u001b[4m0\u001b[24m   41.6   41.9   41.9\n",
      "\u001b[90m2\u001b[39m start_lng             0         1      -\u001b[31m87\u001b[39m\u001b[31m.\u001b[39m\u001b[31m6\u001b[39m     0.029\u001b[4m0\u001b[24m  -\u001b[31m87\u001b[39m\u001b[31m.\u001b[39m\u001b[31m8\u001b[39m  -\u001b[31m87\u001b[39m\u001b[31m.\u001b[39m\u001b[31m7\u001b[39m  -\u001b[31m87\u001b[39m\u001b[31m.\u001b[39m\u001b[31m6\u001b[39m\n",
      "\u001b[90m3\u001b[39m end_lat              66         0.999   41.9     0.170     0     41.9   41.9\n",
      "\u001b[90m4\u001b[39m end_lng              66         0.999  -\u001b[31m87\u001b[39m\u001b[31m.\u001b[39m\u001b[31m6\u001b[39m     0.343   -\u001b[31m87\u001b[39m\u001b[31m.\u001b[39m\u001b[31m9\u001b[39m  -\u001b[31m87\u001b[39m\u001b[31m.\u001b[39m\u001b[31m7\u001b[39m  -\u001b[31m87\u001b[39m\u001b[31m.\u001b[39m\u001b[31m6\u001b[39m\n",
      "\u001b[90m5\u001b[39m year                  0         1     \u001b[4m2\u001b[24m022.      0.177  \u001b[4m2\u001b[24m022   \u001b[4m2\u001b[24m022   \u001b[4m2\u001b[24m022  \n",
      "\u001b[90m6\u001b[39m ride_length           0         1     \u001b[4m1\u001b[24m146.  \u001b[4m1\u001b[24m\u001b[4m0\u001b[24m357.        0    349    618  \n",
      "     p75      p100\n",
      "\u001b[90m1\u001b[39m   41.9      42.1\n",
      "\u001b[90m2\u001b[39m  -\u001b[31m87\u001b[39m\u001b[31m.\u001b[39m\u001b[31m6\u001b[39m     -\u001b[31m87\u001b[39m\u001b[31m.\u001b[39m\u001b[31m5\u001b[39m\n",
      "\u001b[90m3\u001b[39m   41.9      42.1\n",
      "\u001b[90m4\u001b[39m  -\u001b[31m87\u001b[39m\u001b[31m.\u001b[39m\u001b[31m6\u001b[39m       0  \n",
      "\u001b[90m5\u001b[39m \u001b[4m2\u001b[24m022      \u001b[4m2\u001b[24m023  \n",
      "\u001b[90m6\u001b[39m \u001b[4m1\u001b[24m099   1\u001b[4m1\u001b[24m\u001b[4m6\u001b[24m\u001b[4m3\u001b[24m405  \n",
      "\n",
      "── Variable type: POSIXct ──────────────────────────────────────────────────────\n",
      "  skim_variable n_missing complete_rate min                 max                \n",
      "\u001b[90m1\u001b[39m started_at            0             1 2022-02-01 \u001b[90m05:51:03\u001b[39m 2023-01-31 \u001b[90m22:51:55\u001b[39m\n",
      "\u001b[90m2\u001b[39m ended_at              0             1 2022-02-01 \u001b[90m05:59:17\u001b[39m 2023-01-31 \u001b[90m22:54:23\u001b[39m\n",
      "  median              n_unique\n",
      "\u001b[90m1\u001b[39m 2022-07-25 \u001b[90m12:03:32\u001b[39m    \u001b[4m6\u001b[24m\u001b[4m5\u001b[24m181\n",
      "\u001b[90m2\u001b[39m 2022-07-25 \u001b[90m12:44:45\u001b[39m    \u001b[4m6\u001b[24m\u001b[4m5\u001b[24m193\n",
      "spc_tbl_ [65,820 × 19] (S3: spec_tbl_df/tbl_df/tbl/data.frame)\n",
      " $ ride_id           : chr [1:65820] \"1F0E84CED7ED048A\" \"AE53813BB650B7CD\" \"597834DC97EE63D9\" \"FE9674CF91265087\" ...\n",
      " $ rideable_type     : chr [1:65820] \"electric_bike\" \"classic_bike\" \"classic_bike\" \"classic_bike\" ...\n",
      " $ started_at        : POSIXct[1:65820], format: \"2022-10-05 09:32:10\" \"2022-10-01 23:22:03\" ...\n",
      " $ ended_at          : POSIXct[1:65820], format: \"2022-10-05 09:46:30\" \"2022-10-01 23:28:36\" ...\n",
      " $ start_station_name: chr [1:65820] \"N Carpenter St & W Lake St\" \"Western Ave & 21st St\" \"Halsted St & Roscoe St\" \"State St & Harrison St\" ...\n",
      " $ start_station_id  : chr [1:65820] \"20251.0\" \"13091\" \"TA1309000025\" \"SL-007\" ...\n",
      " $ end_station_name  : chr [1:65820] \"Damen Ave & Pierce Ave\" \"Kedzie Ave & 21st St\" \"DuSable Lake Shore Dr & Monroe St\" \"LaSalle Dr & Huron St\" ...\n",
      " $ end_station_id    : chr [1:65820] \"TA1305000041\" \"15686\" \"13300\" \"KP1705001026\" ...\n",
      " $ start_lat         : num [1:65820] 41.9 41.9 41.9 41.9 41.9 ...\n",
      " $ start_lng         : num [1:65820] -87.7 -87.7 -87.6 -87.6 -87.6 ...\n",
      " $ end_lat           : num [1:65820] 41.9 41.9 41.9 41.9 41.9 ...\n",
      " $ end_lng           : num [1:65820] -87.7 -87.7 -87.6 -87.6 -87.6 ...\n",
      " $ member_casual     : chr [1:65820] \"casual\" \"casual\" \"casual\" \"casual\" ...\n",
      " $ date              : Date[1:65820], format: \"2022-10-05\" \"2022-10-01\" ...\n",
      " $ month             : chr [1:65820] \"10\" \"10\" \"06\" \"07\" ...\n",
      " $ day               : chr [1:65820] \"05\" \"01\" \"18\" \"30\" ...\n",
      " $ year              : num [1:65820] 2022 2022 2022 2022 2022 ...\n",
      " $ day_of_week       : chr [1:65820] \"Wednesday\" \"Saturday\" \"Saturday\" \"Saturday\" ...\n",
      " $ ride_length       : num [1:65820] 860 393 1906 1154 549 ...\n",
      " - attr(*, \"spec\")=\n",
      "  .. cols(\n",
      "  ..   ride_id = \u001b[31mcol_character()\u001b[39m,\n",
      "  ..   rideable_type = \u001b[31mcol_character()\u001b[39m,\n",
      "  ..   started_at = \u001b[34mcol_datetime(format = \"\")\u001b[39m,\n",
      "  ..   ended_at = \u001b[34mcol_datetime(format = \"\")\u001b[39m,\n",
      "  ..   start_station_name = \u001b[31mcol_character()\u001b[39m,\n",
      "  ..   start_station_id = \u001b[31mcol_character()\u001b[39m,\n",
      "  ..   end_station_name = \u001b[31mcol_character()\u001b[39m,\n",
      "  ..   end_station_id = \u001b[31mcol_character()\u001b[39m,\n",
      "  ..   start_lat = \u001b[32mcol_double()\u001b[39m,\n",
      "  ..   start_lng = \u001b[32mcol_double()\u001b[39m,\n",
      "  ..   end_lat = \u001b[32mcol_double()\u001b[39m,\n",
      "  ..   end_lng = \u001b[32mcol_double()\u001b[39m,\n",
      "  ..   member_casual = \u001b[31mcol_character()\u001b[39m,\n",
      "  ..   date = \u001b[34mcol_date(format = \"\")\u001b[39m,\n",
      "  ..   month = \u001b[31mcol_character()\u001b[39m,\n",
      "  ..   day = \u001b[31mcol_character()\u001b[39m,\n",
      "  ..   year = \u001b[32mcol_double()\u001b[39m,\n",
      "  ..   day_of_week = \u001b[31mcol_character()\u001b[39m,\n",
      "  ..   ride_length = \u001b[32mcol_double()\u001b[39m\n",
      "  .. )\n",
      " - attr(*, \"problems\")=<externalptr> \n"
     ]
    },
    {
     "data": {
      "text/html": [
       "65820"
      ],
      "text/latex": [
       "65820"
      ],
      "text/markdown": [
       "65820"
      ],
      "text/plain": [
       "[1] 65820"
      ]
     },
     "metadata": {},
     "output_type": "display_data"
    },
    {
     "data": {
      "text/html": [
       "19"
      ],
      "text/latex": [
       "19"
      ],
      "text/markdown": [
       "19"
      ],
      "text/plain": [
       "[1] 19"
      ]
     },
     "metadata": {},
     "output_type": "display_data"
    }
   ],
   "source": [
    "sample_df_v2 <- read_csv(\"sample_df_v2.csv\")\n",
    "# using tibble \n",
    "as_tibble(sample_df_v2)\n",
    "\n",
    "#summary\n",
    "skim_without_charts(sample_df_v2)\n",
    "#str \n",
    "str(sample_df_v2)\n",
    "#number of rows\n",
    "nrow(sample_df_v2)\n",
    "#number of columns \n",
    "ncol(sample_df_v2)"
   ]
  },
  {
   "cell_type": "markdown",
   "metadata": {},
   "source": [
    "so now I can do the analysis.\n",
    "-As mentioned before the member (58%) have a greater portion than casual (42%), this result give us a sense of the comparison between the member and casual, cannot be equally and we can do more comparison by taking the average(mean,  median), min,and a max of ride_length  of each member and casual, than comparing it by each day"
   ]
  },
  {
   "cell_type": "code",
   "execution_count": 18,
   "metadata": {
    "execution": {
     "iopub.execute_input": "2023-02-22T15:04:40.341312Z",
     "iopub.status.busy": "2023-02-22T15:04:40.339704Z",
     "iopub.status.idle": "2023-02-22T15:04:40.740045Z"
    }
   },
   "outputs": [
    {
     "data": {
      "text/html": [
       "<table class=\"dataframe\">\n",
       "<caption>A data.frame: 2 × 2</caption>\n",
       "<thead>\n",
       "\t<tr><th scope=col>sample_df_v2$member_casual</th><th scope=col>sample_df_v2$ride_length</th></tr>\n",
       "\t<tr><th scope=col>&lt;chr&gt;</th><th scope=col>&lt;dbl&gt;</th></tr>\n",
       "</thead>\n",
       "<tbody>\n",
       "\t<tr><td>casual</td><td>1688.829</td></tr>\n",
       "\t<tr><td>member</td><td> 763.611</td></tr>\n",
       "</tbody>\n",
       "</table>\n"
      ],
      "text/latex": [
       "A data.frame: 2 × 2\n",
       "\\begin{tabular}{ll}\n",
       " sample\\_df\\_v2\\$member\\_casual & sample\\_df\\_v2\\$ride\\_length\\\\\n",
       " <chr> & <dbl>\\\\\n",
       "\\hline\n",
       "\t casual & 1688.829\\\\\n",
       "\t member &  763.611\\\\\n",
       "\\end{tabular}\n"
      ],
      "text/markdown": [
       "\n",
       "A data.frame: 2 × 2\n",
       "\n",
       "| sample_df_v2$member_casual &lt;chr&gt; | sample_df_v2$ride_length &lt;dbl&gt; |\n",
       "|---|---|\n",
       "| casual | 1688.829 |\n",
       "| member |  763.611 |\n",
       "\n"
      ],
      "text/plain": [
       "  sample_df_v2$member_casual sample_df_v2$ride_length\n",
       "1 casual                     1688.829                \n",
       "2 member                      763.611                "
      ]
     },
     "metadata": {},
     "output_type": "display_data"
    },
    {
     "data": {
      "text/html": [
       "<table class=\"dataframe\">\n",
       "<caption>A data.frame: 2 × 2</caption>\n",
       "<thead>\n",
       "\t<tr><th scope=col>sample_df_v2$member_casual</th><th scope=col>sample_df_v2$ride_length</th></tr>\n",
       "\t<tr><th scope=col>&lt;chr&gt;</th><th scope=col>&lt;dbl&gt;</th></tr>\n",
       "</thead>\n",
       "<tbody>\n",
       "\t<tr><td>casual</td><td>771</td></tr>\n",
       "\t<tr><td>member</td><td>534</td></tr>\n",
       "</tbody>\n",
       "</table>\n"
      ],
      "text/latex": [
       "A data.frame: 2 × 2\n",
       "\\begin{tabular}{ll}\n",
       " sample\\_df\\_v2\\$member\\_casual & sample\\_df\\_v2\\$ride\\_length\\\\\n",
       " <chr> & <dbl>\\\\\n",
       "\\hline\n",
       "\t casual & 771\\\\\n",
       "\t member & 534\\\\\n",
       "\\end{tabular}\n"
      ],
      "text/markdown": [
       "\n",
       "A data.frame: 2 × 2\n",
       "\n",
       "| sample_df_v2$member_casual &lt;chr&gt; | sample_df_v2$ride_length &lt;dbl&gt; |\n",
       "|---|---|\n",
       "| casual | 771 |\n",
       "| member | 534 |\n",
       "\n"
      ],
      "text/plain": [
       "  sample_df_v2$member_casual sample_df_v2$ride_length\n",
       "1 casual                     771                     \n",
       "2 member                     534                     "
      ]
     },
     "metadata": {},
     "output_type": "display_data"
    },
    {
     "data": {
      "text/html": [
       "<table class=\"dataframe\">\n",
       "<caption>A data.frame: 2 × 2</caption>\n",
       "<thead>\n",
       "\t<tr><th scope=col>sample_df_v2$member_casual</th><th scope=col>sample_df_v2$ride_length</th></tr>\n",
       "\t<tr><th scope=col>&lt;chr&gt;</th><th scope=col>&lt;dbl&gt;</th></tr>\n",
       "</thead>\n",
       "<tbody>\n",
       "\t<tr><td>casual</td><td>1163405</td></tr>\n",
       "\t<tr><td>member</td><td>  89996</td></tr>\n",
       "</tbody>\n",
       "</table>\n"
      ],
      "text/latex": [
       "A data.frame: 2 × 2\n",
       "\\begin{tabular}{ll}\n",
       " sample\\_df\\_v2\\$member\\_casual & sample\\_df\\_v2\\$ride\\_length\\\\\n",
       " <chr> & <dbl>\\\\\n",
       "\\hline\n",
       "\t casual & 1163405\\\\\n",
       "\t member &   89996\\\\\n",
       "\\end{tabular}\n"
      ],
      "text/markdown": [
       "\n",
       "A data.frame: 2 × 2\n",
       "\n",
       "| sample_df_v2$member_casual &lt;chr&gt; | sample_df_v2$ride_length &lt;dbl&gt; |\n",
       "|---|---|\n",
       "| casual | 1163405 |\n",
       "| member |   89996 |\n",
       "\n"
      ],
      "text/plain": [
       "  sample_df_v2$member_casual sample_df_v2$ride_length\n",
       "1 casual                     1163405                 \n",
       "2 member                       89996                 "
      ]
     },
     "metadata": {},
     "output_type": "display_data"
    },
    {
     "data": {
      "text/html": [
       "<table class=\"dataframe\">\n",
       "<caption>A data.frame: 2 × 2</caption>\n",
       "<thead>\n",
       "\t<tr><th scope=col>sample_df_v2$member_casual</th><th scope=col>sample_df_v2$ride_length</th></tr>\n",
       "\t<tr><th scope=col>&lt;chr&gt;</th><th scope=col>&lt;dbl&gt;</th></tr>\n",
       "</thead>\n",
       "<tbody>\n",
       "\t<tr><td>casual</td><td>0</td></tr>\n",
       "\t<tr><td>member</td><td>0</td></tr>\n",
       "</tbody>\n",
       "</table>\n"
      ],
      "text/latex": [
       "A data.frame: 2 × 2\n",
       "\\begin{tabular}{ll}\n",
       " sample\\_df\\_v2\\$member\\_casual & sample\\_df\\_v2\\$ride\\_length\\\\\n",
       " <chr> & <dbl>\\\\\n",
       "\\hline\n",
       "\t casual & 0\\\\\n",
       "\t member & 0\\\\\n",
       "\\end{tabular}\n"
      ],
      "text/markdown": [
       "\n",
       "A data.frame: 2 × 2\n",
       "\n",
       "| sample_df_v2$member_casual &lt;chr&gt; | sample_df_v2$ride_length &lt;dbl&gt; |\n",
       "|---|---|\n",
       "| casual | 0 |\n",
       "| member | 0 |\n",
       "\n"
      ],
      "text/plain": [
       "  sample_df_v2$member_casual sample_df_v2$ride_length\n",
       "1 casual                     0                       \n",
       "2 member                     0                       "
      ]
     },
     "metadata": {},
     "output_type": "display_data"
    },
    {
     "data": {
      "text/html": [
       "<table class=\"dataframe\">\n",
       "<caption>A data.frame: 2 × 2</caption>\n",
       "<thead>\n",
       "\t<tr><th scope=col>sample_df_v2$member_casual</th><th scope=col>sample_df_v2$ride_length</th></tr>\n",
       "\t<tr><th scope=col>&lt;chr&gt;</th><th scope=col>&lt;dbl&gt;</th></tr>\n",
       "</thead>\n",
       "<tbody>\n",
       "\t<tr><td>casual</td><td>15955.65</td></tr>\n",
       "\t<tr><td>member</td><td> 1767.28</td></tr>\n",
       "</tbody>\n",
       "</table>\n"
      ],
      "text/latex": [
       "A data.frame: 2 × 2\n",
       "\\begin{tabular}{ll}\n",
       " sample\\_df\\_v2\\$member\\_casual & sample\\_df\\_v2\\$ride\\_length\\\\\n",
       " <chr> & <dbl>\\\\\n",
       "\\hline\n",
       "\t casual & 15955.65\\\\\n",
       "\t member &  1767.28\\\\\n",
       "\\end{tabular}\n"
      ],
      "text/markdown": [
       "\n",
       "A data.frame: 2 × 2\n",
       "\n",
       "| sample_df_v2$member_casual &lt;chr&gt; | sample_df_v2$ride_length &lt;dbl&gt; |\n",
       "|---|---|\n",
       "| casual | 15955.65 |\n",
       "| member |  1767.28 |\n",
       "\n"
      ],
      "text/plain": [
       "  sample_df_v2$member_casual sample_df_v2$ride_length\n",
       "1 casual                     15955.65                \n",
       "2 member                      1767.28                "
      ]
     },
     "metadata": {},
     "output_type": "display_data"
    },
    {
     "data": {
      "text/html": [
       "<table class=\"dataframe\">\n",
       "<caption>A data.frame: 2 × 2</caption>\n",
       "<thead>\n",
       "\t<tr><th scope=col>sample_df_v2$member_casual</th><th scope=col>sample_df_v2$ride_length</th></tr>\n",
       "\t<tr><th scope=col>&lt;chr&gt;</th><th scope=col>&lt;dbl&gt;</th></tr>\n",
       "</thead>\n",
       "<tbody>\n",
       "\t<tr><td>casual</td><td>45947964</td></tr>\n",
       "\t<tr><td>member</td><td>29485313</td></tr>\n",
       "</tbody>\n",
       "</table>\n"
      ],
      "text/latex": [
       "A data.frame: 2 × 2\n",
       "\\begin{tabular}{ll}\n",
       " sample\\_df\\_v2\\$member\\_casual & sample\\_df\\_v2\\$ride\\_length\\\\\n",
       " <chr> & <dbl>\\\\\n",
       "\\hline\n",
       "\t casual & 45947964\\\\\n",
       "\t member & 29485313\\\\\n",
       "\\end{tabular}\n"
      ],
      "text/markdown": [
       "\n",
       "A data.frame: 2 × 2\n",
       "\n",
       "| sample_df_v2$member_casual &lt;chr&gt; | sample_df_v2$ride_length &lt;dbl&gt; |\n",
       "|---|---|\n",
       "| casual | 45947964 |\n",
       "| member | 29485313 |\n",
       "\n"
      ],
      "text/plain": [
       "  sample_df_v2$member_casual sample_df_v2$ride_length\n",
       "1 casual                     45947964                \n",
       "2 member                     29485313                "
      ]
     },
     "metadata": {},
     "output_type": "display_data"
    }
   ],
   "source": [
    "# Compare members and casual users\n",
    "aggregate(sample_df_v2$ride_length ~ sample_df_v2$member_casual, FUN = mean)\n",
    "aggregate(sample_df_v2$ride_length ~ sample_df_v2$member_casual, FUN = median)\n",
    "aggregate(sample_df_v2$ride_length ~ sample_df_v2$member_casual, FUN = max)\n",
    "aggregate(sample_df_v2$ride_length ~ sample_df_v2$member_casual, FUN = min)\n",
    "aggregate(sample_df_v2$ride_length ~ sample_df_v2$member_casual, FUN = sd)\n",
    "aggregate(sample_df_v2$ride_length ~ sample_df_v2$member_casual, FUN = sum)"
   ]
  },
  {
   "cell_type": "markdown",
   "metadata": {},
   "source": [
    "-**FINDING (1)**\n",
    "\n",
    "- >  In general, before diving in you can see in the tables above the casual have great (mean, max) values, and they also varied (standard deviation) than members even if the sum of the member greater than casual, maybe this is because there are a few users (42%) using the bike's for a long ride but they are not a member."
   ]
  },
  {
   "cell_type": "code",
   "execution_count": 19,
   "metadata": {
    "execution": {
     "iopub.execute_input": "2023-02-22T15:04:46.854666Z",
     "iopub.status.busy": "2023-02-22T15:04:46.852884Z",
     "iopub.status.idle": "2023-02-22T15:04:46.892742Z"
    }
   },
   "outputs": [
    {
     "data": {
      "text/html": [
       "<table class=\"dataframe\">\n",
       "<caption>A tibble: 2 × 4</caption>\n",
       "<thead>\n",
       "\t<tr><th scope=col>member_casual</th><th scope=col>number_of_rides</th><th scope=col>average_duration</th><th scope=col>sum_ride_length</th></tr>\n",
       "\t<tr><th scope=col>&lt;chr&gt;</th><th scope=col>&lt;int&gt;</th><th scope=col>&lt;dbl&gt;</th><th scope=col>&lt;dbl&gt;</th></tr>\n",
       "</thead>\n",
       "<tbody>\n",
       "\t<tr><td>casual</td><td>27207</td><td>1688.829</td><td>45947964</td></tr>\n",
       "\t<tr><td>member</td><td>38613</td><td> 763.611</td><td>29485313</td></tr>\n",
       "</tbody>\n",
       "</table>\n"
      ],
      "text/latex": [
       "A tibble: 2 × 4\n",
       "\\begin{tabular}{llll}\n",
       " member\\_casual & number\\_of\\_rides & average\\_duration & sum\\_ride\\_length\\\\\n",
       " <chr> & <int> & <dbl> & <dbl>\\\\\n",
       "\\hline\n",
       "\t casual & 27207 & 1688.829 & 45947964\\\\\n",
       "\t member & 38613 &  763.611 & 29485313\\\\\n",
       "\\end{tabular}\n"
      ],
      "text/markdown": [
       "\n",
       "A tibble: 2 × 4\n",
       "\n",
       "| member_casual &lt;chr&gt; | number_of_rides &lt;int&gt; | average_duration &lt;dbl&gt; | sum_ride_length &lt;dbl&gt; |\n",
       "|---|---|---|---|\n",
       "| casual | 27207 | 1688.829 | 45947964 |\n",
       "| member | 38613 |  763.611 | 29485313 |\n",
       "\n"
      ],
      "text/plain": [
       "  member_casual number_of_rides average_duration sum_ride_length\n",
       "1 casual        27207           1688.829         45947964       \n",
       "2 member        38613            763.611         29485313       "
      ]
     },
     "metadata": {},
     "output_type": "display_data"
    }
   ],
   "source": [
    "sample_df_v2 %>% \n",
    "  group_by(member_casual) %>% \n",
    "  summarise(number_of_rides = n()\n",
    "            ,average_duration = mean(ride_length), sum_ride_length = sum(ride_length)) %>% \n",
    "  arrange(member_casual)"
   ]
  },
  {
   "cell_type": "markdown",
   "metadata": {},
   "source": [
    "-**FINDING (2)**\n",
    "\n",
    "- > here in the table above we can take an intuition about why the mean of casual is greater than member but the number of rides is way less than that of the member, that's because the ride length sum of casual(44517203) is greater of the ride sum of member(29342886). conversely, the length of rides of casual is less than the ride length of the member, this explains why the mean of the casual ride is greater than that of member.\n",
    "\n",
    "**Figure(1)**:\n",
    "-the sum of each member and casual "
   ]
  },
  {
   "cell_type": "code",
   "execution_count": 39,
   "metadata": {
    "execution": {
     "iopub.execute_input": "2023-02-22T15:47:30.196734Z",
     "iopub.status.busy": "2023-02-22T15:47:30.192017Z",
     "iopub.status.idle": "2023-02-22T15:47:31.312950Z"
    }
   },
   "outputs": [
    {
     "data": {
      "image/png": "[encoded data removed]"
     },
     "metadata": {
      "image/png": {
       "height": 420,
       "width": 420
      }
     },
     "output_type": "display_data"
    }
   ],
   "source": [
    "sample_df_v2 %>% \n",
    "  group_by(member_casual) %>% \n",
    "  summarise(number_of_rides = n()) %>% \n",
    "  arrange(member_casual) %>% \n",
    "  ggplot(aes(member_casual, number_of_rides, fill=member_casual)) +\n",
    "    geom_col(position=\"dodge\")+ labs(title = 'The number of member and casual', xlabel=\"member and casual\", ylabel=\"Total of rides\")"
   ]
  },
  {
   "cell_type": "markdown",
   "metadata": {},
   "source": [
    "-**FINDING (3)**\n",
    "- > As you can see in figure(1)  above, the number of members is more than the number of casual, this is because ~58% use bikes as member."
   ]
  },
  {
   "cell_type": "markdown",
   "metadata": {},
   "source": [
    "**Figure(2)**\n",
    "- the mean of ride length of each member and casual "
   ]
  },
  {
   "cell_type": "code",
   "execution_count": 41,
   "metadata": {
    "execution": {
     "iopub.execute_input": "2023-02-22T15:49:46.325493Z",
     "iopub.status.busy": "2023-02-22T15:49:46.323786Z",
     "iopub.status.idle": "2023-02-22T15:49:46.654580Z"
    }
   },
   "outputs": [
    {
     "data": {
      "image/png": "[encoded data removed]"
     },
     "metadata": {
      "image/png": {
       "height": 420,
       "width": 420
      }
     },
     "output_type": "display_data"
    }
   ],
   "source": [
    "sample_df_v2 %>% \n",
    "  group_by(member_casual) %>% \n",
    "  summarise(average_ride_length= mean(ride_length)) %>% \n",
    "  arrange(member_casual) %>% \n",
    "  ggplot(aes(x = member_casual, y = average_ride_length, fill = member_casual)) +\n",
    "  geom_col(position = \"dodge\") + labs(title=\"The mean of ride length of each member and casual\", xlabel=\"member_casual\", ylabel=\"the average of each member and casual\")"
   ]
  },
  {
   "cell_type": "markdown",
   "metadata": {},
   "source": [
    "-**FINDING (4)**\n",
    "- > In Figure(2), the mean ride length of the casual is up to 1500, while the member didn't reach 1000."
   ]
  },
  {
   "cell_type": "markdown",
   "metadata": {},
   "source": [
    "**Figure(3)**\n",
    "-the sum of ride length of each member and casual."
   ]
  },
  {
   "cell_type": "code",
   "execution_count": 57,
   "metadata": {
    "execution": {
     "iopub.execute_input": "2023-02-22T16:11:59.525598Z",
     "iopub.status.busy": "2023-02-22T16:11:59.523829Z",
     "iopub.status.idle": "2023-02-22T16:11:59.832222Z"
    }
   },
   "outputs": [
    {
     "data": {
      "image/png": "[encoded data removed]"
     },
     "metadata": {
      "image/png": {
       "height": 420,
       "width": 420
      }
     },
     "output_type": "display_data"
    }
   ],
   "source": [
    "sample_df_v2 %>% \n",
    "  group_by(member_casual) %>% \n",
    "  summarise(total_ride_length= sum(ride_length)) %>% \n",
    "  arrange(member_casual) %>% \n",
    "  ggplot(aes(x = member_casual, y = total_ride_length, fill = member_casual)) +\n",
    "  geom_col(position = \"dodge\") + labs(title=\"The mean of ride length of each member and casual\")+ xlab(\"member_casual\")+ ylab(\"the average of each member and casual\")"
   ]
  },
  {
   "cell_type": "markdown",
   "metadata": {},
   "source": [
    "-**FINDING (5)**\n",
    "-> the sum of ride length in chart(3) above, of the casual, is more than the member, and with less casual users who use bikes effect the mean.\n",
    "\n",
    "-Now  let's see the number of ride length in member and casual at hours\n"
   ]
  },
  {
   "cell_type": "code",
   "execution_count": 23,
   "metadata": {
    "execution": {
     "iopub.execute_input": "2023-02-22T15:21:04.661234Z",
     "iopub.status.busy": "2023-02-22T15:21:04.658768Z",
     "iopub.status.idle": "2023-02-22T15:21:04.779245Z"
    }
   },
   "outputs": [
    {
     "name": "stderr",
     "output_type": "stream",
     "text": [
      "\u001b[1m\u001b[22m`summarise()` has grouped output by 'member_casual'. You can override using the\n",
      "`.groups` argument.\n"
     ]
    },
    {
     "data": {
      "text/html": [
       "<table class=\"dataframe\">\n",
       "<caption>A grouped_df: 48 × 5</caption>\n",
       "<thead>\n",
       "\t<tr><th scope=col>member_casual</th><th scope=col>hour</th><th scope=col>number_of_rides</th><th scope=col>average_duration</th><th scope=col>sum_rides</th></tr>\n",
       "\t<tr><th scope=col>&lt;chr&gt;</th><th scope=col>&lt;int&gt;</th><th scope=col>&lt;int&gt;</th><th scope=col>&lt;dbl&gt;</th><th scope=col>&lt;dbl&gt;</th></tr>\n",
       "</thead>\n",
       "<tbody>\n",
       "\t<tr><td>casual</td><td> 0</td><td> 536</td><td>1352.9851</td><td> 725200</td></tr>\n",
       "\t<tr><td>member</td><td> 0</td><td> 414</td><td> 682.1908</td><td> 282427</td></tr>\n",
       "\t<tr><td>casual</td><td> 1</td><td> 340</td><td>1673.5794</td><td> 569017</td></tr>\n",
       "\t<tr><td>member</td><td> 1</td><td> 257</td><td>1000.4591</td><td> 257118</td></tr>\n",
       "\t<tr><td>casual</td><td> 2</td><td> 213</td><td>4979.2582</td><td>1060582</td></tr>\n",
       "\t<tr><td>member</td><td> 2</td><td> 152</td><td> 635.3224</td><td>  96569</td></tr>\n",
       "\t<tr><td>casual</td><td> 3</td><td> 119</td><td>1863.7647</td><td> 221788</td></tr>\n",
       "\t<tr><td>member</td><td> 3</td><td> 101</td><td> 670.3366</td><td>  67704</td></tr>\n",
       "\t<tr><td>casual</td><td> 4</td><td>  91</td><td>1133.0769</td><td> 103110</td></tr>\n",
       "\t<tr><td>member</td><td> 4</td><td> 128</td><td>1526.2266</td><td> 195357</td></tr>\n",
       "\t<tr><td>casual</td><td> 5</td><td> 120</td><td> 726.1167</td><td>  87134</td></tr>\n",
       "\t<tr><td>member</td><td> 5</td><td> 398</td><td> 600.7965</td><td> 239117</td></tr>\n",
       "\t<tr><td>casual</td><td> 6</td><td> 379</td><td> 745.9657</td><td> 282721</td></tr>\n",
       "\t<tr><td>member</td><td> 6</td><td>1095</td><td> 628.6438</td><td> 688365</td></tr>\n",
       "\t<tr><td>casual</td><td> 7</td><td> 577</td><td> 784.3016</td><td> 452542</td></tr>\n",
       "\t<tr><td>member</td><td> 7</td><td>2068</td><td> 716.0527</td><td>1480797</td></tr>\n",
       "\t<tr><td>casual</td><td> 8</td><td> 832</td><td>1014.2849</td><td> 843885</td></tr>\n",
       "\t<tr><td>member</td><td> 8</td><td>2459</td><td> 699.1391</td><td>1719183</td></tr>\n",
       "\t<tr><td>casual</td><td> 9</td><td> 896</td><td>1160.5134</td><td>1039820</td></tr>\n",
       "\t<tr><td>member</td><td> 9</td><td>1584</td><td> 700.9470</td><td>1110300</td></tr>\n",
       "\t<tr><td>casual</td><td>10</td><td>1064</td><td>3054.2143</td><td>3249684</td></tr>\n",
       "\t<tr><td>member</td><td>10</td><td>1573</td><td> 707.0025</td><td>1112115</td></tr>\n",
       "\t<tr><td>casual</td><td>11</td><td>1376</td><td>1600.7362</td><td>2202613</td></tr>\n",
       "\t<tr><td>member</td><td>11</td><td>1862</td><td> 768.1547</td><td>1430304</td></tr>\n",
       "\t<tr><td>casual</td><td>12</td><td>1613</td><td>1589.4414</td><td>2563769</td></tr>\n",
       "\t<tr><td>member</td><td>12</td><td>2073</td><td> 761.2031</td><td>1577974</td></tr>\n",
       "\t<tr><td>casual</td><td>13</td><td>1709</td><td>2110.7724</td><td>3607310</td></tr>\n",
       "\t<tr><td>member</td><td>13</td><td>2134</td><td> 755.7113</td><td>1612688</td></tr>\n",
       "\t<tr><td>casual</td><td>14</td><td>1872</td><td>2036.6864</td><td>3812677</td></tr>\n",
       "\t<tr><td>member</td><td>14</td><td>2091</td><td> 762.8661</td><td>1595153</td></tr>\n",
       "\t<tr><td>casual</td><td>15</td><td>2090</td><td>1967.3799</td><td>4111824</td></tr>\n",
       "\t<tr><td>member</td><td>15</td><td>2552</td><td> 781.1462</td><td>1993485</td></tr>\n",
       "\t<tr><td>casual</td><td>16</td><td>2333</td><td>1352.6014</td><td>3155619</td></tr>\n",
       "\t<tr><td>member</td><td>16</td><td>3298</td><td> 764.5376</td><td>2521445</td></tr>\n",
       "\t<tr><td>casual</td><td>17</td><td>2619</td><td>1289.2371</td><td>3376512</td></tr>\n",
       "\t<tr><td>member</td><td>17</td><td>4025</td><td> 817.5853</td><td>3290781</td></tr>\n",
       "\t<tr><td>casual</td><td>18</td><td>2301</td><td>1374.7075</td><td>3163202</td></tr>\n",
       "\t<tr><td>member</td><td>18</td><td>3303</td><td> 821.5259</td><td>2713500</td></tr>\n",
       "\t<tr><td>casual</td><td>19</td><td>1849</td><td>2645.1547</td><td>4890891</td></tr>\n",
       "\t<tr><td>member</td><td>19</td><td>2272</td><td> 803.5621</td><td>1825693</td></tr>\n",
       "\t<tr><td>casual</td><td>20</td><td>1372</td><td>1211.2325</td><td>1661811</td></tr>\n",
       "\t<tr><td>member</td><td>20</td><td>1691</td><td> 780.6647</td><td>1320104</td></tr>\n",
       "\t<tr><td>casual</td><td>21</td><td>1129</td><td>2241.1532</td><td>2530262</td></tr>\n",
       "\t<tr><td>member</td><td>21</td><td>1337</td><td> 717.1316</td><td> 958805</td></tr>\n",
       "\t<tr><td>casual</td><td>22</td><td>1036</td><td>1208.0483</td><td>1251538</td></tr>\n",
       "\t<tr><td>member</td><td>22</td><td>1044</td><td> 794.5067</td><td> 829465</td></tr>\n",
       "\t<tr><td>casual</td><td>23</td><td> 741</td><td>1328.5466</td><td> 984453</td></tr>\n",
       "\t<tr><td>member</td><td>23</td><td> 702</td><td> 807.4986</td><td> 566864</td></tr>\n",
       "</tbody>\n",
       "</table>\n"
      ],
      "text/latex": [
       "A grouped\\_df: 48 × 5\n",
       "\\begin{tabular}{lllll}\n",
       " member\\_casual & hour & number\\_of\\_rides & average\\_duration & sum\\_rides\\\\\n",
       " <chr> & <int> & <int> & <dbl> & <dbl>\\\\\n",
       "\\hline\n",
       "\t casual &  0 &  536 & 1352.9851 &  725200\\\\\n",
       "\t member &  0 &  414 &  682.1908 &  282427\\\\\n",
       "\t casual &  1 &  340 & 1673.5794 &  569017\\\\\n",
       "\t member &  1 &  257 & 1000.4591 &  257118\\\\\n",
       "\t casual &  2 &  213 & 4979.2582 & 1060582\\\\\n",
       "\t member &  2 &  152 &  635.3224 &   96569\\\\\n",
       "\t casual &  3 &  119 & 1863.7647 &  221788\\\\\n",
       "\t member &  3 &  101 &  670.3366 &   67704\\\\\n",
       "\t casual &  4 &   91 & 1133.0769 &  103110\\\\\n",
       "\t member &  4 &  128 & 1526.2266 &  195357\\\\\n",
       "\t casual &  5 &  120 &  726.1167 &   87134\\\\\n",
       "\t member &  5 &  398 &  600.7965 &  239117\\\\\n",
       "\t casual &  6 &  379 &  745.9657 &  282721\\\\\n",
       "\t member &  6 & 1095 &  628.6438 &  688365\\\\\n",
       "\t casual &  7 &  577 &  784.3016 &  452542\\\\\n",
       "\t member &  7 & 2068 &  716.0527 & 1480797\\\\\n",
       "\t casual &  8 &  832 & 1014.2849 &  843885\\\\\n",
       "\t member &  8 & 2459 &  699.1391 & 1719183\\\\\n",
       "\t casual &  9 &  896 & 1160.5134 & 1039820\\\\\n",
       "\t member &  9 & 1584 &  700.9470 & 1110300\\\\\n",
       "\t casual & 10 & 1064 & 3054.2143 & 3249684\\\\\n",
       "\t member & 10 & 1573 &  707.0025 & 1112115\\\\\n",
       "\t casual & 11 & 1376 & 1600.7362 & 2202613\\\\\n",
       "\t member & 11 & 1862 &  768.1547 & 1430304\\\\\n",
       "\t casual & 12 & 1613 & 1589.4414 & 2563769\\\\\n",
       "\t member & 12 & 2073 &  761.2031 & 1577974\\\\\n",
       "\t casual & 13 & 1709 & 2110.7724 & 3607310\\\\\n",
       "\t member & 13 & 2134 &  755.7113 & 1612688\\\\\n",
       "\t casual & 14 & 1872 & 2036.6864 & 3812677\\\\\n",
       "\t member & 14 & 2091 &  762.8661 & 1595153\\\\\n",
       "\t casual & 15 & 2090 & 1967.3799 & 4111824\\\\\n",
       "\t member & 15 & 2552 &  781.1462 & 1993485\\\\\n",
       "\t casual & 16 & 2333 & 1352.6014 & 3155619\\\\\n",
       "\t member & 16 & 3298 &  764.5376 & 2521445\\\\\n",
       "\t casual & 17 & 2619 & 1289.2371 & 3376512\\\\\n",
       "\t member & 17 & 4025 &  817.5853 & 3290781\\\\\n",
       "\t casual & 18 & 2301 & 1374.7075 & 3163202\\\\\n",
       "\t member & 18 & 3303 &  821.5259 & 2713500\\\\\n",
       "\t casual & 19 & 1849 & 2645.1547 & 4890891\\\\\n",
       "\t member & 19 & 2272 &  803.5621 & 1825693\\\\\n",
       "\t casual & 20 & 1372 & 1211.2325 & 1661811\\\\\n",
       "\t member & 20 & 1691 &  780.6647 & 1320104\\\\\n",
       "\t casual & 21 & 1129 & 2241.1532 & 2530262\\\\\n",
       "\t member & 21 & 1337 &  717.1316 &  958805\\\\\n",
       "\t casual & 22 & 1036 & 1208.0483 & 1251538\\\\\n",
       "\t member & 22 & 1044 &  794.5067 &  829465\\\\\n",
       "\t casual & 23 &  741 & 1328.5466 &  984453\\\\\n",
       "\t member & 23 &  702 &  807.4986 &  566864\\\\\n",
       "\\end{tabular}\n"
      ],
      "text/markdown": [
       "\n",
       "A grouped_df: 48 × 5\n",
       "\n",
       "| member_casual &lt;chr&gt; | hour &lt;int&gt; | number_of_rides &lt;int&gt; | average_duration &lt;dbl&gt; | sum_rides &lt;dbl&gt; |\n",
       "|---|---|---|---|---|\n",
       "| casual |  0 |  536 | 1352.9851 |  725200 |\n",
       "| member |  0 |  414 |  682.1908 |  282427 |\n",
       "| casual |  1 |  340 | 1673.5794 |  569017 |\n",
       "| member |  1 |  257 | 1000.4591 |  257118 |\n",
       "| casual |  2 |  213 | 4979.2582 | 1060582 |\n",
       "| member |  2 |  152 |  635.3224 |   96569 |\n",
       "| casual |  3 |  119 | 1863.7647 |  221788 |\n",
       "| member |  3 |  101 |  670.3366 |   67704 |\n",
       "| casual |  4 |   91 | 1133.0769 |  103110 |\n",
       "| member |  4 |  128 | 1526.2266 |  195357 |\n",
       "| casual |  5 |  120 |  726.1167 |   87134 |\n",
       "| member |  5 |  398 |  600.7965 |  239117 |\n",
       "| casual |  6 |  379 |  745.9657 |  282721 |\n",
       "| member |  6 | 1095 |  628.6438 |  688365 |\n",
       "| casual |  7 |  577 |  784.3016 |  452542 |\n",
       "| member |  7 | 2068 |  716.0527 | 1480797 |\n",
       "| casual |  8 |  832 | 1014.2849 |  843885 |\n",
       "| member |  8 | 2459 |  699.1391 | 1719183 |\n",
       "| casual |  9 |  896 | 1160.5134 | 1039820 |\n",
       "| member |  9 | 1584 |  700.9470 | 1110300 |\n",
       "| casual | 10 | 1064 | 3054.2143 | 3249684 |\n",
       "| member | 10 | 1573 |  707.0025 | 1112115 |\n",
       "| casual | 11 | 1376 | 1600.7362 | 2202613 |\n",
       "| member | 11 | 1862 |  768.1547 | 1430304 |\n",
       "| casual | 12 | 1613 | 1589.4414 | 2563769 |\n",
       "| member | 12 | 2073 |  761.2031 | 1577974 |\n",
       "| casual | 13 | 1709 | 2110.7724 | 3607310 |\n",
       "| member | 13 | 2134 |  755.7113 | 1612688 |\n",
       "| casual | 14 | 1872 | 2036.6864 | 3812677 |\n",
       "| member | 14 | 2091 |  762.8661 | 1595153 |\n",
       "| casual | 15 | 2090 | 1967.3799 | 4111824 |\n",
       "| member | 15 | 2552 |  781.1462 | 1993485 |\n",
       "| casual | 16 | 2333 | 1352.6014 | 3155619 |\n",
       "| member | 16 | 3298 |  764.5376 | 2521445 |\n",
       "| casual | 17 | 2619 | 1289.2371 | 3376512 |\n",
       "| member | 17 | 4025 |  817.5853 | 3290781 |\n",
       "| casual | 18 | 2301 | 1374.7075 | 3163202 |\n",
       "| member | 18 | 3303 |  821.5259 | 2713500 |\n",
       "| casual | 19 | 1849 | 2645.1547 | 4890891 |\n",
       "| member | 19 | 2272 |  803.5621 | 1825693 |\n",
       "| casual | 20 | 1372 | 1211.2325 | 1661811 |\n",
       "| member | 20 | 1691 |  780.6647 | 1320104 |\n",
       "| casual | 21 | 1129 | 2241.1532 | 2530262 |\n",
       "| member | 21 | 1337 |  717.1316 |  958805 |\n",
       "| casual | 22 | 1036 | 1208.0483 | 1251538 |\n",
       "| member | 22 | 1044 |  794.5067 |  829465 |\n",
       "| casual | 23 |  741 | 1328.5466 |  984453 |\n",
       "| member | 23 |  702 |  807.4986 |  566864 |\n",
       "\n"
      ],
      "text/plain": [
       "   member_casual hour number_of_rides average_duration sum_rides\n",
       "1  casual         0    536            1352.9851         725200  \n",
       "2  member         0    414             682.1908         282427  \n",
       "3  casual         1    340            1673.5794         569017  \n",
       "4  member         1    257            1000.4591         257118  \n",
       "5  casual         2    213            4979.2582        1060582  \n",
       "6  member         2    152             635.3224          96569  \n",
       "7  casual         3    119            1863.7647         221788  \n",
       "8  member         3    101             670.3366          67704  \n",
       "9  casual         4     91            1133.0769         103110  \n",
       "10 member         4    128            1526.2266         195357  \n",
       "11 casual         5    120             726.1167          87134  \n",
       "12 member         5    398             600.7965         239117  \n",
       "13 casual         6    379             745.9657         282721  \n",
       "14 member         6   1095             628.6438         688365  \n",
       "15 casual         7    577             784.3016         452542  \n",
       "16 member         7   2068             716.0527        1480797  \n",
       "17 casual         8    832            1014.2849         843885  \n",
       "18 member         8   2459             699.1391        1719183  \n",
       "19 casual         9    896            1160.5134        1039820  \n",
       "20 member         9   1584             700.9470        1110300  \n",
       "21 casual        10   1064            3054.2143        3249684  \n",
       "22 member        10   1573             707.0025        1112115  \n",
       "23 casual        11   1376            1600.7362        2202613  \n",
       "24 member        11   1862             768.1547        1430304  \n",
       "25 casual        12   1613            1589.4414        2563769  \n",
       "26 member        12   2073             761.2031        1577974  \n",
       "27 casual        13   1709            2110.7724        3607310  \n",
       "28 member        13   2134             755.7113        1612688  \n",
       "29 casual        14   1872            2036.6864        3812677  \n",
       "30 member        14   2091             762.8661        1595153  \n",
       "31 casual        15   2090            1967.3799        4111824  \n",
       "32 member        15   2552             781.1462        1993485  \n",
       "33 casual        16   2333            1352.6014        3155619  \n",
       "34 member        16   3298             764.5376        2521445  \n",
       "35 casual        17   2619            1289.2371        3376512  \n",
       "36 member        17   4025             817.5853        3290781  \n",
       "37 casual        18   2301            1374.7075        3163202  \n",
       "38 member        18   3303             821.5259        2713500  \n",
       "39 casual        19   1849            2645.1547        4890891  \n",
       "40 member        19   2272             803.5621        1825693  \n",
       "41 casual        20   1372            1211.2325        1661811  \n",
       "42 member        20   1691             780.6647        1320104  \n",
       "43 casual        21   1129            2241.1532        2530262  \n",
       "44 member        21   1337             717.1316         958805  \n",
       "45 casual        22   1036            1208.0483        1251538  \n",
       "46 member        22   1044             794.5067         829465  \n",
       "47 casual        23    741            1328.5466         984453  \n",
       "48 member        23    702             807.4986         566864  "
      ]
     },
     "metadata": {},
     "output_type": "display_data"
    }
   ],
   "source": [
    "sample_df_v2 %>% \n",
    "  mutate(hour= hour(started_at)) %>% \n",
    "  group_by(member_casual, hour) %>%\n",
    "  summarise(number_of_rides = n()\n",
    "            ,average_duration = mean(ride_length), sum_rides = sum(ride_length)) %>% \n",
    "  arrange(hour)"
   ]
  },
  {
   "cell_type": "markdown",
   "metadata": {},
   "source": [
    "**chart(4)**\n",
    "-the number of member and casual at hours."
   ]
  },
  {
   "cell_type": "code",
   "execution_count": 54,
   "metadata": {
    "execution": {
     "iopub.execute_input": "2023-02-22T16:10:13.070734Z",
     "iopub.status.busy": "2023-02-22T16:10:13.068260Z",
     "iopub.status.idle": "2023-02-22T16:10:13.777967Z"
    }
   },
   "outputs": [
    {
     "name": "stderr",
     "output_type": "stream",
     "text": [
      "\u001b[1m\u001b[22m`summarise()` has grouped output by 'member_casual'. You can override using the\n",
      "`.groups` argument.\n"
     ]
    },
    {
     "data": {
      "image/png": "[encoded data removed]"
     },
     "metadata": {
      "image/png": {
       "height": 420,
       "width": 420
      }
     },
     "output_type": "display_data"
    }
   ],
   "source": [
    "sample_df_v2 %>% \n",
    "  mutate(hours= hour(started_at)) %>% \n",
    "  group_by(member_casual, hours) %>%\n",
    "  summarise(number_of_rides = n()\n",
    "            ,average_duration = mean(ride_length)) %>% \n",
    "  arrange(hours) %>% \n",
    "  ggplot(aes(x=hours, y=number_of_rides, fill=member_casual))+\n",
    "  geom_col(position = \"dodge\")+labs(title=\"The total of each member and casual at hours\")+xlab(\"Hours\")+ ylab(\"total of rides\")"
   ]
  },
  {
   "cell_type": "markdown",
   "metadata": {},
   "source": [
    "**Figure(5)**\n",
    "\n",
    "-the ride length mean of each member and casual at an hourly scale.\n"
   ]
  },
  {
   "cell_type": "code",
   "execution_count": 60,
   "metadata": {
    "execution": {
     "iopub.execute_input": "2023-02-22T16:13:29.341600Z",
     "iopub.status.busy": "2023-02-22T16:13:29.338992Z",
     "iopub.status.idle": "2023-02-22T16:13:29.736072Z"
    }
   },
   "outputs": [
    {
     "name": "stderr",
     "output_type": "stream",
     "text": [
      "\u001b[1m\u001b[22m`summarise()` has grouped output by 'member_casual'. You can override using the\n",
      "`.groups` argument.\n"
     ]
    },
    {
     "data": {
      "image/png": "[encoded data removed]"
     },
     "metadata": {
      "image/png": {
       "height": 420,
       "width": 420
      }
     },
     "output_type": "display_data"
    }
   ],
   "source": [
    "sample_df_v2 %>% \n",
    "  mutate(hours= hour(started_at)) %>% \n",
    "  group_by(member_casual, hours) %>%\n",
    "  summarise(number_of_rides = n()\n",
    "            ,average_duration = mean(ride_length)) %>% \n",
    "  arrange(hours) %>% \n",
    "  ggplot(aes(x=hours, y=average_duration, fill=member_casual))+\n",
    "  geom_col(position = \"dodge\")+labs(title=\"The mean of each member and casual at hours\")+ xlab(\"Hours\")+ ylab(\"the mean of rides\")\n"
   ]
  },
  {
   "cell_type": "markdown",
   "metadata": {},
   "source": [
    "-**FINDING (5)**\n",
    "\n",
    "- > the number of members is more than casual on an hourly scale.\n",
    "- > as you can see in chart(4) above, there are two peaks one at 8 am (2266) and two at 5 pm (3957) for the member, which indicate their high demand at times from casual.\n",
    "- > both the member and casual are greater at 5 pm (member=3957, casual=2602)\n",
    "- > the mean of casual is always greater than the mean of member \n",
    "- > at 3 am there are some casuals use their bike for a long rides, because the of the ride is equal to 1769783 and the number or length of the ride is equal to 156\t\n",
    "\n",
    "-The number of member and casual in day of week."
   ]
  },
  {
   "cell_type": "code",
   "execution_count": 27,
   "metadata": {
    "execution": {
     "iopub.execute_input": "2023-02-22T15:26:06.906273Z",
     "iopub.status.busy": "2023-02-22T15:26:06.904730Z",
     "iopub.status.idle": "2023-02-22T15:26:07.059095Z"
    }
   },
   "outputs": [
    {
     "name": "stderr",
     "output_type": "stream",
     "text": [
      "\u001b[1m\u001b[22m`summarise()` has grouped output by 'member_casual'. You can override using the\n",
      "`.groups` argument.\n"
     ]
    },
    {
     "data": {
      "text/html": [
       "<table class=\"dataframe\">\n",
       "<caption>A grouped_df: 14 × 4</caption>\n",
       "<thead>\n",
       "\t<tr><th scope=col>member_casual</th><th scope=col>weekday</th><th scope=col>number_of_rides</th><th scope=col>average_duration</th></tr>\n",
       "\t<tr><th scope=col>&lt;chr&gt;</th><th scope=col>&lt;ord&gt;</th><th scope=col>&lt;int&gt;</th><th scope=col>&lt;dbl&gt;</th></tr>\n",
       "</thead>\n",
       "<tbody>\n",
       "\t<tr><td>casual</td><td>Sun</td><td>4550</td><td>1944.7462</td></tr>\n",
       "\t<tr><td>member</td><td>Sun</td><td>4517</td><td> 852.5639</td></tr>\n",
       "\t<tr><td>casual</td><td>Mon</td><td>2997</td><td>1768.7761</td></tr>\n",
       "\t<tr><td>member</td><td>Mon</td><td>5193</td><td> 702.0872</td></tr>\n",
       "\t<tr><td>casual</td><td>Tue</td><td>3103</td><td>2204.2027</td></tr>\n",
       "\t<tr><td>member</td><td>Tue</td><td>5962</td><td> 741.3994</td></tr>\n",
       "\t<tr><td>casual</td><td>Wed</td><td>3399</td><td>1729.5116</td></tr>\n",
       "\t<tr><td>member</td><td>Wed</td><td>6319</td><td> 716.7710</td></tr>\n",
       "\t<tr><td>casual</td><td>Thu</td><td>3738</td><td>1281.9933</td></tr>\n",
       "\t<tr><td>member</td><td>Thu</td><td>6155</td><td> 730.2465</td></tr>\n",
       "\t<tr><td>casual</td><td>Fri</td><td>4058</td><td>1379.1730</td></tr>\n",
       "\t<tr><td>member</td><td>Fri</td><td>5410</td><td> 764.2285</td></tr>\n",
       "\t<tr><td>casual</td><td>Sat</td><td>5362</td><td>1620.9103</td></tr>\n",
       "\t<tr><td>member</td><td>Sat</td><td>5057</td><td> 871.9994</td></tr>\n",
       "</tbody>\n",
       "</table>\n"
      ],
      "text/latex": [
       "A grouped\\_df: 14 × 4\n",
       "\\begin{tabular}{llll}\n",
       " member\\_casual & weekday & number\\_of\\_rides & average\\_duration\\\\\n",
       " <chr> & <ord> & <int> & <dbl>\\\\\n",
       "\\hline\n",
       "\t casual & Sun & 4550 & 1944.7462\\\\\n",
       "\t member & Sun & 4517 &  852.5639\\\\\n",
       "\t casual & Mon & 2997 & 1768.7761\\\\\n",
       "\t member & Mon & 5193 &  702.0872\\\\\n",
       "\t casual & Tue & 3103 & 2204.2027\\\\\n",
       "\t member & Tue & 5962 &  741.3994\\\\\n",
       "\t casual & Wed & 3399 & 1729.5116\\\\\n",
       "\t member & Wed & 6319 &  716.7710\\\\\n",
       "\t casual & Thu & 3738 & 1281.9933\\\\\n",
       "\t member & Thu & 6155 &  730.2465\\\\\n",
       "\t casual & Fri & 4058 & 1379.1730\\\\\n",
       "\t member & Fri & 5410 &  764.2285\\\\\n",
       "\t casual & Sat & 5362 & 1620.9103\\\\\n",
       "\t member & Sat & 5057 &  871.9994\\\\\n",
       "\\end{tabular}\n"
      ],
      "text/markdown": [
       "\n",
       "A grouped_df: 14 × 4\n",
       "\n",
       "| member_casual &lt;chr&gt; | weekday &lt;ord&gt; | number_of_rides &lt;int&gt; | average_duration &lt;dbl&gt; |\n",
       "|---|---|---|---|\n",
       "| casual | Sun | 4550 | 1944.7462 |\n",
       "| member | Sun | 4517 |  852.5639 |\n",
       "| casual | Mon | 2997 | 1768.7761 |\n",
       "| member | Mon | 5193 |  702.0872 |\n",
       "| casual | Tue | 3103 | 2204.2027 |\n",
       "| member | Tue | 5962 |  741.3994 |\n",
       "| casual | Wed | 3399 | 1729.5116 |\n",
       "| member | Wed | 6319 |  716.7710 |\n",
       "| casual | Thu | 3738 | 1281.9933 |\n",
       "| member | Thu | 6155 |  730.2465 |\n",
       "| casual | Fri | 4058 | 1379.1730 |\n",
       "| member | Fri | 5410 |  764.2285 |\n",
       "| casual | Sat | 5362 | 1620.9103 |\n",
       "| member | Sat | 5057 |  871.9994 |\n",
       "\n"
      ],
      "text/plain": [
       "   member_casual weekday number_of_rides average_duration\n",
       "1  casual        Sun     4550            1944.7462       \n",
       "2  member        Sun     4517             852.5639       \n",
       "3  casual        Mon     2997            1768.7761       \n",
       "4  member        Mon     5193             702.0872       \n",
       "5  casual        Tue     3103            2204.2027       \n",
       "6  member        Tue     5962             741.3994       \n",
       "7  casual        Wed     3399            1729.5116       \n",
       "8  member        Wed     6319             716.7710       \n",
       "9  casual        Thu     3738            1281.9933       \n",
       "10 member        Thu     6155             730.2465       \n",
       "11 casual        Fri     4058            1379.1730       \n",
       "12 member        Fri     5410             764.2285       \n",
       "13 casual        Sat     5362            1620.9103       \n",
       "14 member        Sat     5057             871.9994       "
      ]
     },
     "metadata": {},
     "output_type": "display_data"
    }
   ],
   "source": [
    "sample_df_v2 %>% \n",
    "  mutate(weekday=wday(started_at, label=TRUE)) %>% \n",
    "  group_by(member_casual, weekday) %>%\n",
    "  summarise(number_of_rides = n()\n",
    "            ,average_duration = mean(ride_length)) %>%\n",
    "  arrange(weekday) "
   ]
  },
  {
   "cell_type": "markdown",
   "metadata": {},
   "source": [
    "**Figure(6)**\n",
    "-the number of the member and casual at weekend scale "
   ]
  },
  {
   "cell_type": "code",
   "execution_count": 53,
   "metadata": {
    "execution": {
     "iopub.execute_input": "2023-02-22T16:08:10.728466Z",
     "iopub.status.busy": "2023-02-22T16:08:10.724376Z",
     "iopub.status.idle": "2023-02-22T16:08:11.192313Z"
    }
   },
   "outputs": [
    {
     "name": "stderr",
     "output_type": "stream",
     "text": [
      "\u001b[1m\u001b[22m`summarise()` has grouped output by 'member_casual'. You can override using the\n",
      "`.groups` argument.\n"
     ]
    },
    {
     "data": {
      "image/png": "[encoded data removed]"
     },
     "metadata": {
      "image/png": {
       "height": 420,
       "width": 420
      }
     },
     "output_type": "display_data"
    }
   ],
   "source": [
    "sample_df_v2 %>% \n",
    "  mutate(weekday=wday(started_at, label=TRUE)) %>% \n",
    "  group_by(member_casual, weekday) %>%\n",
    "  summarise(number_of_rides = n()\n",
    "            ,average_duration = mean(ride_length)) %>%\n",
    "  arrange(weekday) %>% \n",
    "  ggplot(aes(x=weekday, y=number_of_rides, fill=member_casual))+\n",
    "  geom_col(position = \"dodge\")+labs(title=\"The total of each member and casual at week\")+xlab(\"Weeks\")+ ylab(\"total of rides\")"
   ]
  },
  {
   "cell_type": "markdown",
   "metadata": {},
   "source": [
    "**Figure(7)**\n",
    "\n",
    "-The mean of each member and casual at weekday scale"
   ]
  },
  {
   "cell_type": "code",
   "execution_count": 50,
   "metadata": {
    "execution": {
     "iopub.execute_input": "2023-02-22T16:05:18.294698Z",
     "iopub.status.busy": "2023-02-22T16:05:18.293109Z",
     "iopub.status.idle": "2023-02-22T16:05:18.706733Z"
    }
   },
   "outputs": [
    {
     "name": "stderr",
     "output_type": "stream",
     "text": [
      "\u001b[1m\u001b[22m`summarise()` has grouped output by 'member_casual'. You can override using the\n",
      "`.groups` argument.\n"
     ]
    },
    {
     "data": {
      "image/png": "[encoded data removed]"
     },
     "metadata": {
      "image/png": {
       "height": 420,
       "width": 420
      }
     },
     "output_type": "display_data"
    }
   ],
   "source": [
    "sample_df_v2 %>% \n",
    "  mutate(weekday=wday(started_at, label=TRUE)) %>% \n",
    "  group_by(member_casual, weekday) %>%\n",
    "  summarise(number_of_rides = n()\n",
    "            ,average_duration = mean(ride_length)) %>%\n",
    "  arrange(weekday) %>% \n",
    "  ggplot(aes(x=weekday, y=average_duration, fill=member_casual))+\n",
    "  geom_col(position = \"dodge\")+labs(title=\"The average of each member and casual at week\")+ xlab(\"Week\")+ylab(\"mean of rides\")"
   ]
  },
  {
   "cell_type": "markdown",
   "metadata": {},
   "source": [
    "-**FINDING (6)**\n",
    "\n",
    "- > So in the table above the sum of member are more than the sum of casual from Monday to Friday, but that is different on the weekend that indicates the casual use bikes more at weekend (we need some more data like surveys to see reasons why casual user prefer using bikes at weekend) because also the mean of casual at weekend is greater than another day\n",
    "\n",
    "-Now let's see the numbers and  the mean between the member and casual by days "
   ]
  },
  {
   "cell_type": "code",
   "execution_count": 30,
   "metadata": {
    "execution": {
     "iopub.execute_input": "2023-02-22T15:35:34.662365Z",
     "iopub.status.busy": "2023-02-22T15:35:34.659691Z",
     "iopub.status.idle": "2023-02-22T15:35:34.800639Z"
    }
   },
   "outputs": [
    {
     "name": "stderr",
     "output_type": "stream",
     "text": [
      "\u001b[1m\u001b[22m`summarise()` has grouped output by 'member_casual'. You can override using the\n",
      "`.groups` argument.\n"
     ]
    },
    {
     "data": {
      "text/html": [
       "<table class=\"dataframe\">\n",
       "<caption>A grouped_df: 62 × 4</caption>\n",
       "<thead>\n",
       "\t<tr><th scope=col>member_casual</th><th scope=col>day</th><th scope=col>number_of_rides</th><th scope=col>average_duration</th></tr>\n",
       "\t<tr><th scope=col>&lt;chr&gt;</th><th scope=col>&lt;int&gt;</th><th scope=col>&lt;int&gt;</th><th scope=col>&lt;dbl&gt;</th></tr>\n",
       "</thead>\n",
       "<tbody>\n",
       "\t<tr><td>casual</td><td> 1</td><td> 869</td><td>1284.1312</td></tr>\n",
       "\t<tr><td>member</td><td> 1</td><td>1354</td><td> 735.6839</td></tr>\n",
       "\t<tr><td>casual</td><td> 2</td><td> 956</td><td>1353.7584</td></tr>\n",
       "\t<tr><td>member</td><td> 2</td><td>1318</td><td> 724.6768</td></tr>\n",
       "\t<tr><td>casual</td><td> 3</td><td>1092</td><td>1348.2802</td></tr>\n",
       "\t<tr><td>member</td><td> 3</td><td>1315</td><td> 803.8190</td></tr>\n",
       "\t<tr><td>casual</td><td> 4</td><td> 882</td><td>1310.9796</td></tr>\n",
       "\t<tr><td>member</td><td> 4</td><td>1150</td><td> 818.0583</td></tr>\n",
       "\t<tr><td>casual</td><td> 5</td><td>1062</td><td>1419.3399</td></tr>\n",
       "\t<tr><td>member</td><td> 5</td><td>1234</td><td> 753.9060</td></tr>\n",
       "\t<tr><td>casual</td><td> 6</td><td> 744</td><td>2261.8965</td></tr>\n",
       "\t<tr><td>member</td><td> 6</td><td>1210</td><td> 771.9380</td></tr>\n",
       "\t<tr><td>casual</td><td> 7</td><td> 691</td><td>1419.2533</td></tr>\n",
       "\t<tr><td>member</td><td> 7</td><td>1233</td><td> 749.3025</td></tr>\n",
       "\t<tr><td>casual</td><td> 8</td><td> 635</td><td>1089.1181</td></tr>\n",
       "\t<tr><td>member</td><td> 8</td><td>1241</td><td> 712.1523</td></tr>\n",
       "\t<tr><td>casual</td><td> 9</td><td>1075</td><td>3320.5777</td></tr>\n",
       "\t<tr><td>member</td><td> 9</td><td>1437</td><td> 798.5073</td></tr>\n",
       "\t<tr><td>casual</td><td>10</td><td> 991</td><td>1728.9374</td></tr>\n",
       "\t<tr><td>member</td><td>10</td><td>1393</td><td> 903.4480</td></tr>\n",
       "\t<tr><td>casual</td><td>11</td><td> 944</td><td>1355.5403</td></tr>\n",
       "\t<tr><td>member</td><td>11</td><td>1256</td><td> 731.0271</td></tr>\n",
       "\t<tr><td>casual</td><td>12</td><td> 882</td><td>1408.1814</td></tr>\n",
       "\t<tr><td>member</td><td>12</td><td>1236</td><td> 711.5615</td></tr>\n",
       "\t<tr><td>casual</td><td>13</td><td> 782</td><td>1405.6330</td></tr>\n",
       "\t<tr><td>member</td><td>13</td><td>1274</td><td> 720.2543</td></tr>\n",
       "\t<tr><td>casual</td><td>14</td><td> 784</td><td>2739.1480</td></tr>\n",
       "\t<tr><td>member</td><td>14</td><td>1256</td><td> 762.4682</td></tr>\n",
       "\t<tr><td>casual</td><td>15</td><td> 740</td><td>1508.1905</td></tr>\n",
       "\t<tr><td>member</td><td>15</td><td>1183</td><td> 723.2654</td></tr>\n",
       "\t<tr><td>⋮</td><td>⋮</td><td>⋮</td><td>⋮</td></tr>\n",
       "\t<tr><td>casual</td><td>17</td><td>1019</td><td>2779.2767</td></tr>\n",
       "\t<tr><td>member</td><td>17</td><td>1229</td><td> 741.5622</td></tr>\n",
       "\t<tr><td>casual</td><td>18</td><td> 977</td><td>1563.1157</td></tr>\n",
       "\t<tr><td>member</td><td>18</td><td>1198</td><td> 842.2730</td></tr>\n",
       "\t<tr><td>casual</td><td>19</td><td> 915</td><td>1417.2885</td></tr>\n",
       "\t<tr><td>member</td><td>19</td><td>1272</td><td> 761.1053</td></tr>\n",
       "\t<tr><td>casual</td><td>20</td><td> 887</td><td>1507.3641</td></tr>\n",
       "\t<tr><td>member</td><td>20</td><td>1287</td><td> 719.8314</td></tr>\n",
       "\t<tr><td>casual</td><td>21</td><td>1039</td><td>1896.2137</td></tr>\n",
       "\t<tr><td>member</td><td>21</td><td>1425</td><td> 847.3846</td></tr>\n",
       "\t<tr><td>casual</td><td>22</td><td> 884</td><td>1630.2862</td></tr>\n",
       "\t<tr><td>member</td><td>22</td><td>1268</td><td> 706.8170</td></tr>\n",
       "\t<tr><td>casual</td><td>23</td><td>1086</td><td>1444.9807</td></tr>\n",
       "\t<tr><td>member</td><td>23</td><td>1377</td><td> 797.3522</td></tr>\n",
       "\t<tr><td>casual</td><td>24</td><td> 977</td><td>1372.4882</td></tr>\n",
       "\t<tr><td>member</td><td>24</td><td>1267</td><td> 740.4365</td></tr>\n",
       "\t<tr><td>casual</td><td>25</td><td> 685</td><td>1482.0219</td></tr>\n",
       "\t<tr><td>member</td><td>25</td><td> 986</td><td> 740.1775</td></tr>\n",
       "\t<tr><td>casual</td><td>26</td><td> 972</td><td>2078.4805</td></tr>\n",
       "\t<tr><td>member</td><td>26</td><td>1223</td><td> 837.8062</td></tr>\n",
       "\t<tr><td>casual</td><td>27</td><td> 777</td><td>1526.2008</td></tr>\n",
       "\t<tr><td>member</td><td>27</td><td>1237</td><td> 707.4648</td></tr>\n",
       "\t<tr><td>casual</td><td>28</td><td> 727</td><td>1400.8226</td></tr>\n",
       "\t<tr><td>member</td><td>28</td><td>1344</td><td> 722.5394</td></tr>\n",
       "\t<tr><td>casual</td><td>29</td><td> 829</td><td>1306.5090</td></tr>\n",
       "\t<tr><td>member</td><td>29</td><td>1292</td><td> 783.3483</td></tr>\n",
       "\t<tr><td>casual</td><td>30</td><td> 889</td><td>1627.9708</td></tr>\n",
       "\t<tr><td>member</td><td>30</td><td>1219</td><td> 702.3437</td></tr>\n",
       "\t<tr><td>casual</td><td>31</td><td> 378</td><td>1609.5794</td></tr>\n",
       "\t<tr><td>member</td><td>31</td><td> 577</td><td> 715.6603</td></tr>\n",
       "</tbody>\n",
       "</table>\n"
      ],
      "text/latex": [
       "A grouped\\_df: 62 × 4\n",
       "\\begin{tabular}{llll}\n",
       " member\\_casual & day & number\\_of\\_rides & average\\_duration\\\\\n",
       " <chr> & <int> & <int> & <dbl>\\\\\n",
       "\\hline\n",
       "\t casual &  1 &  869 & 1284.1312\\\\\n",
       "\t member &  1 & 1354 &  735.6839\\\\\n",
       "\t casual &  2 &  956 & 1353.7584\\\\\n",
       "\t member &  2 & 1318 &  724.6768\\\\\n",
       "\t casual &  3 & 1092 & 1348.2802\\\\\n",
       "\t member &  3 & 1315 &  803.8190\\\\\n",
       "\t casual &  4 &  882 & 1310.9796\\\\\n",
       "\t member &  4 & 1150 &  818.0583\\\\\n",
       "\t casual &  5 & 1062 & 1419.3399\\\\\n",
       "\t member &  5 & 1234 &  753.9060\\\\\n",
       "\t casual &  6 &  744 & 2261.8965\\\\\n",
       "\t member &  6 & 1210 &  771.9380\\\\\n",
       "\t casual &  7 &  691 & 1419.2533\\\\\n",
       "\t member &  7 & 1233 &  749.3025\\\\\n",
       "\t casual &  8 &  635 & 1089.1181\\\\\n",
       "\t member &  8 & 1241 &  712.1523\\\\\n",
       "\t casual &  9 & 1075 & 3320.5777\\\\\n",
       "\t member &  9 & 1437 &  798.5073\\\\\n",
       "\t casual & 10 &  991 & 1728.9374\\\\\n",
       "\t member & 10 & 1393 &  903.4480\\\\\n",
       "\t casual & 11 &  944 & 1355.5403\\\\\n",
       "\t member & 11 & 1256 &  731.0271\\\\\n",
       "\t casual & 12 &  882 & 1408.1814\\\\\n",
       "\t member & 12 & 1236 &  711.5615\\\\\n",
       "\t casual & 13 &  782 & 1405.6330\\\\\n",
       "\t member & 13 & 1274 &  720.2543\\\\\n",
       "\t casual & 14 &  784 & 2739.1480\\\\\n",
       "\t member & 14 & 1256 &  762.4682\\\\\n",
       "\t casual & 15 &  740 & 1508.1905\\\\\n",
       "\t member & 15 & 1183 &  723.2654\\\\\n",
       "\t ⋮ & ⋮ & ⋮ & ⋮\\\\\n",
       "\t casual & 17 & 1019 & 2779.2767\\\\\n",
       "\t member & 17 & 1229 &  741.5622\\\\\n",
       "\t casual & 18 &  977 & 1563.1157\\\\\n",
       "\t member & 18 & 1198 &  842.2730\\\\\n",
       "\t casual & 19 &  915 & 1417.2885\\\\\n",
       "\t member & 19 & 1272 &  761.1053\\\\\n",
       "\t casual & 20 &  887 & 1507.3641\\\\\n",
       "\t member & 20 & 1287 &  719.8314\\\\\n",
       "\t casual & 21 & 1039 & 1896.2137\\\\\n",
       "\t member & 21 & 1425 &  847.3846\\\\\n",
       "\t casual & 22 &  884 & 1630.2862\\\\\n",
       "\t member & 22 & 1268 &  706.8170\\\\\n",
       "\t casual & 23 & 1086 & 1444.9807\\\\\n",
       "\t member & 23 & 1377 &  797.3522\\\\\n",
       "\t casual & 24 &  977 & 1372.4882\\\\\n",
       "\t member & 24 & 1267 &  740.4365\\\\\n",
       "\t casual & 25 &  685 & 1482.0219\\\\\n",
       "\t member & 25 &  986 &  740.1775\\\\\n",
       "\t casual & 26 &  972 & 2078.4805\\\\\n",
       "\t member & 26 & 1223 &  837.8062\\\\\n",
       "\t casual & 27 &  777 & 1526.2008\\\\\n",
       "\t member & 27 & 1237 &  707.4648\\\\\n",
       "\t casual & 28 &  727 & 1400.8226\\\\\n",
       "\t member & 28 & 1344 &  722.5394\\\\\n",
       "\t casual & 29 &  829 & 1306.5090\\\\\n",
       "\t member & 29 & 1292 &  783.3483\\\\\n",
       "\t casual & 30 &  889 & 1627.9708\\\\\n",
       "\t member & 30 & 1219 &  702.3437\\\\\n",
       "\t casual & 31 &  378 & 1609.5794\\\\\n",
       "\t member & 31 &  577 &  715.6603\\\\\n",
       "\\end{tabular}\n"
      ],
      "text/markdown": [
       "\n",
       "A grouped_df: 62 × 4\n",
       "\n",
       "| member_casual &lt;chr&gt; | day &lt;int&gt; | number_of_rides &lt;int&gt; | average_duration &lt;dbl&gt; |\n",
       "|---|---|---|---|\n",
       "| casual |  1 |  869 | 1284.1312 |\n",
       "| member |  1 | 1354 |  735.6839 |\n",
       "| casual |  2 |  956 | 1353.7584 |\n",
       "| member |  2 | 1318 |  724.6768 |\n",
       "| casual |  3 | 1092 | 1348.2802 |\n",
       "| member |  3 | 1315 |  803.8190 |\n",
       "| casual |  4 |  882 | 1310.9796 |\n",
       "| member |  4 | 1150 |  818.0583 |\n",
       "| casual |  5 | 1062 | 1419.3399 |\n",
       "| member |  5 | 1234 |  753.9060 |\n",
       "| casual |  6 |  744 | 2261.8965 |\n",
       "| member |  6 | 1210 |  771.9380 |\n",
       "| casual |  7 |  691 | 1419.2533 |\n",
       "| member |  7 | 1233 |  749.3025 |\n",
       "| casual |  8 |  635 | 1089.1181 |\n",
       "| member |  8 | 1241 |  712.1523 |\n",
       "| casual |  9 | 1075 | 3320.5777 |\n",
       "| member |  9 | 1437 |  798.5073 |\n",
       "| casual | 10 |  991 | 1728.9374 |\n",
       "| member | 10 | 1393 |  903.4480 |\n",
       "| casual | 11 |  944 | 1355.5403 |\n",
       "| member | 11 | 1256 |  731.0271 |\n",
       "| casual | 12 |  882 | 1408.1814 |\n",
       "| member | 12 | 1236 |  711.5615 |\n",
       "| casual | 13 |  782 | 1405.6330 |\n",
       "| member | 13 | 1274 |  720.2543 |\n",
       "| casual | 14 |  784 | 2739.1480 |\n",
       "| member | 14 | 1256 |  762.4682 |\n",
       "| casual | 15 |  740 | 1508.1905 |\n",
       "| member | 15 | 1183 |  723.2654 |\n",
       "| ⋮ | ⋮ | ⋮ | ⋮ |\n",
       "| casual | 17 | 1019 | 2779.2767 |\n",
       "| member | 17 | 1229 |  741.5622 |\n",
       "| casual | 18 |  977 | 1563.1157 |\n",
       "| member | 18 | 1198 |  842.2730 |\n",
       "| casual | 19 |  915 | 1417.2885 |\n",
       "| member | 19 | 1272 |  761.1053 |\n",
       "| casual | 20 |  887 | 1507.3641 |\n",
       "| member | 20 | 1287 |  719.8314 |\n",
       "| casual | 21 | 1039 | 1896.2137 |\n",
       "| member | 21 | 1425 |  847.3846 |\n",
       "| casual | 22 |  884 | 1630.2862 |\n",
       "| member | 22 | 1268 |  706.8170 |\n",
       "| casual | 23 | 1086 | 1444.9807 |\n",
       "| member | 23 | 1377 |  797.3522 |\n",
       "| casual | 24 |  977 | 1372.4882 |\n",
       "| member | 24 | 1267 |  740.4365 |\n",
       "| casual | 25 |  685 | 1482.0219 |\n",
       "| member | 25 |  986 |  740.1775 |\n",
       "| casual | 26 |  972 | 2078.4805 |\n",
       "| member | 26 | 1223 |  837.8062 |\n",
       "| casual | 27 |  777 | 1526.2008 |\n",
       "| member | 27 | 1237 |  707.4648 |\n",
       "| casual | 28 |  727 | 1400.8226 |\n",
       "| member | 28 | 1344 |  722.5394 |\n",
       "| casual | 29 |  829 | 1306.5090 |\n",
       "| member | 29 | 1292 |  783.3483 |\n",
       "| casual | 30 |  889 | 1627.9708 |\n",
       "| member | 30 | 1219 |  702.3437 |\n",
       "| casual | 31 |  378 | 1609.5794 |\n",
       "| member | 31 |  577 |  715.6603 |\n",
       "\n"
      ],
      "text/plain": [
       "   member_casual day number_of_rides average_duration\n",
       "1  casual         1   869            1284.1312       \n",
       "2  member         1  1354             735.6839       \n",
       "3  casual         2   956            1353.7584       \n",
       "4  member         2  1318             724.6768       \n",
       "5  casual         3  1092            1348.2802       \n",
       "6  member         3  1315             803.8190       \n",
       "7  casual         4   882            1310.9796       \n",
       "8  member         4  1150             818.0583       \n",
       "9  casual         5  1062            1419.3399       \n",
       "10 member         5  1234             753.9060       \n",
       "11 casual         6   744            2261.8965       \n",
       "12 member         6  1210             771.9380       \n",
       "13 casual         7   691            1419.2533       \n",
       "14 member         7  1233             749.3025       \n",
       "15 casual         8   635            1089.1181       \n",
       "16 member         8  1241             712.1523       \n",
       "17 casual         9  1075            3320.5777       \n",
       "18 member         9  1437             798.5073       \n",
       "19 casual        10   991            1728.9374       \n",
       "20 member        10  1393             903.4480       \n",
       "21 casual        11   944            1355.5403       \n",
       "22 member        11  1256             731.0271       \n",
       "23 casual        12   882            1408.1814       \n",
       "24 member        12  1236             711.5615       \n",
       "25 casual        13   782            1405.6330       \n",
       "26 member        13  1274             720.2543       \n",
       "27 casual        14   784            2739.1480       \n",
       "28 member        14  1256             762.4682       \n",
       "29 casual        15   740            1508.1905       \n",
       "30 member        15  1183             723.2654       \n",
       "⋮  ⋮             ⋮   ⋮               ⋮               \n",
       "33 casual        17  1019            2779.2767       \n",
       "34 member        17  1229             741.5622       \n",
       "35 casual        18   977            1563.1157       \n",
       "36 member        18  1198             842.2730       \n",
       "37 casual        19   915            1417.2885       \n",
       "38 member        19  1272             761.1053       \n",
       "39 casual        20   887            1507.3641       \n",
       "40 member        20  1287             719.8314       \n",
       "41 casual        21  1039            1896.2137       \n",
       "42 member        21  1425             847.3846       \n",
       "43 casual        22   884            1630.2862       \n",
       "44 member        22  1268             706.8170       \n",
       "45 casual        23  1086            1444.9807       \n",
       "46 member        23  1377             797.3522       \n",
       "47 casual        24   977            1372.4882       \n",
       "48 member        24  1267             740.4365       \n",
       "49 casual        25   685            1482.0219       \n",
       "50 member        25   986             740.1775       \n",
       "51 casual        26   972            2078.4805       \n",
       "52 member        26  1223             837.8062       \n",
       "53 casual        27   777            1526.2008       \n",
       "54 member        27  1237             707.4648       \n",
       "55 casual        28   727            1400.8226       \n",
       "56 member        28  1344             722.5394       \n",
       "57 casual        29   829            1306.5090       \n",
       "58 member        29  1292             783.3483       \n",
       "59 casual        30   889            1627.9708       \n",
       "60 member        30  1219             702.3437       \n",
       "61 casual        31   378            1609.5794       \n",
       "62 member        31   577             715.6603       "
      ]
     },
     "metadata": {},
     "output_type": "display_data"
    }
   ],
   "source": [
    "sample_df_v2 %>% \n",
    "  mutate(day = mday(started_at)) %>% \n",
    "  group_by(member_casual, day) %>% \n",
    "  summarise(number_of_rides = n()\n",
    "            ,average_duration = mean(ride_length)) %>% \n",
    "  arrange(day)"
   ]
  },
  {
   "cell_type": "markdown",
   "metadata": {},
   "source": [
    "**Figure(8)**\n",
    "\n",
    "-the number of members and casual by day."
   ]
  },
  {
   "cell_type": "code",
   "execution_count": 61,
   "metadata": {
    "execution": {
     "iopub.execute_input": "2023-02-22T16:21:03.133415Z",
     "iopub.status.busy": "2023-02-22T16:21:03.130685Z",
     "iopub.status.idle": "2023-02-22T16:21:04.203593Z"
    }
   },
   "outputs": [
    {
     "name": "stderr",
     "output_type": "stream",
     "text": [
      "\u001b[1m\u001b[22m`summarise()` has grouped output by 'member_casual'. You can override using the\n",
      "`.groups` argument.\n"
     ]
    },
    {
     "data": {
      "image/png": "[encoded data removed]"
     },
     "metadata": {
      "image/png": {
       "height": 420,
       "width": 420
      }
     },
     "output_type": "display_data"
    }
   ],
   "source": [
    "sample_df_v2 %>% \n",
    "  mutate(day = mday(started_at)) %>% \n",
    "  group_by(member_casual, day) %>% \n",
    "  summarise(number_of_rides = n()\n",
    "            ,average_duration = mean(ride_length)) %>% \n",
    "  arrange(day)  %>% \n",
    "  ggplot(aes(x = day, y = number_of_rides, fill = member_casual)) +\n",
    "  geom_col(position = \"dodge\")+labs(title=\"The total of each member and casual at days\")+ xlab(\"Days\")+ylab(\"The total of rides\")"
   ]
  },
  {
   "cell_type": "markdown",
   "metadata": {},
   "source": [
    "**Figure(9)**\n",
    "\n",
    "-the mean of the member and casual by day"
   ]
  },
  {
   "cell_type": "code",
   "execution_count": 35,
   "metadata": {
    "execution": {
     "iopub.execute_input": "2023-02-22T15:39:45.016015Z",
     "iopub.status.busy": "2023-02-22T15:39:45.014365Z",
     "iopub.status.idle": "2023-02-22T15:39:45.735564Z"
    }
   },
   "outputs": [
    {
     "name": "stderr",
     "output_type": "stream",
     "text": [
      "\u001b[1m\u001b[22m`summarise()` has grouped output by 'member_casual'. You can override using the\n",
      "`.groups` argument.\n"
     ]
    },
    {
     "data": {
      "image/png": "[encoded data removed]"
     },
     "metadata": {
      "image/png": {
       "height": 420,
       "width": 420
      }
     },
     "output_type": "display_data"
    }
   ],
   "source": [
    "#Bar chart\n",
    "sample_df_v2 %>% \n",
    "  mutate(day = mday(started_at)) %>% \n",
    "  group_by(member_casual, day) %>% \n",
    "  summarise(average_duration = mean(ride_length)) %>% \n",
    "  arrange(member_casual, day)  %>% \n",
    "  ggplot(aes(x = day, y = average_duration , fill = member_casual)) +\n",
    "  geom_col(position = \"dodge\")+labs(title=\"The average of each member and casual at days\")+ xlab(\"Days\")+ylab(\"mean of rides\")\n"
   ]
  },
  {
   "cell_type": "markdown",
   "metadata": {},
   "source": [
    "-**FINDING (7)**\n",
    "- > as usual the length of member are greater than casual \n",
    "- > in the number of casuals roughly for every 7 or 8 days there are peaks\n",
    "- > again the mean of the member didn't reach 1000, the mean of casual is more than 2000 on some days\n",
    "- > the member and casual follow the same pattern (figure(9))"
   ]
  },
  {
   "cell_type": "markdown",
   "metadata": {},
   "source": [
    "\n",
    "-let's see how the member and casual be different in a monthly scale."
   ]
  },
  {
   "cell_type": "code",
   "execution_count": 36,
   "metadata": {
    "execution": {
     "iopub.execute_input": "2023-02-22T15:42:06.176337Z",
     "iopub.status.busy": "2023-02-22T15:42:06.174288Z",
     "iopub.status.idle": "2023-02-22T15:42:06.319252Z"
    }
   },
   "outputs": [
    {
     "name": "stderr",
     "output_type": "stream",
     "text": [
      "\u001b[1m\u001b[22m`summarise()` has grouped output by 'member_casual'. You can override using the\n",
      "`.groups` argument.\n"
     ]
    },
    {
     "data": {
      "text/html": [
       "<table class=\"dataframe\">\n",
       "<caption>A grouped_df: 22 × 4</caption>\n",
       "<thead>\n",
       "\t<tr><th scope=col>member_casual</th><th scope=col>month</th><th scope=col>number_of_rides</th><th scope=col>average_duration</th></tr>\n",
       "\t<tr><th scope=col>&lt;chr&gt;</th><th scope=col>&lt;ord&gt;</th><th scope=col>&lt;int&gt;</th><th scope=col>&lt;dbl&gt;</th></tr>\n",
       "</thead>\n",
       "<tbody>\n",
       "\t<tr><td>casual</td><td>Jan</td><td> 463</td><td>1170.4190</td></tr>\n",
       "\t<tr><td>member</td><td>Jan</td><td>1680</td><td> 652.1619</td></tr>\n",
       "\t<tr><td>casual</td><td>Feb</td><td> 243</td><td> 924.8395</td></tr>\n",
       "\t<tr><td>member</td><td>Feb</td><td>1041</td><td> 962.0346</td></tr>\n",
       "\t<tr><td>casual</td><td>Mar</td><td>1010</td><td>2082.8604</td></tr>\n",
       "\t<tr><td>member</td><td>Mar</td><td>2057</td><td> 669.1740</td></tr>\n",
       "\t<tr><td>casual</td><td>Apr</td><td>1426</td><td>1474.8170</td></tr>\n",
       "\t<tr><td>member</td><td>Apr</td><td>2790</td><td> 638.4746</td></tr>\n",
       "\t<tr><td>casual</td><td>Jun</td><td>8329</td><td>1668.4295</td></tr>\n",
       "\t<tr><td>member</td><td>Jun</td><td>8971</td><td> 868.9544</td></tr>\n",
       "\t<tr><td>casual</td><td>Jul</td><td>4418</td><td>1516.1722</td></tr>\n",
       "\t<tr><td>member</td><td>Jul</td><td>4700</td><td> 805.9219</td></tr>\n",
       "\t<tr><td>casual</td><td>Aug</td><td>4061</td><td>2122.9133</td></tr>\n",
       "\t<tr><td>member</td><td>Aug</td><td>4831</td><td> 811.9611</td></tr>\n",
       "\t<tr><td>casual</td><td>Sep</td><td>3309</td><td>1465.3663</td></tr>\n",
       "\t<tr><td>member</td><td>Sep</td><td>4544</td><td> 759.4118</td></tr>\n",
       "\t<tr><td>casual</td><td>Oct</td><td>2331</td><td>1828.3492</td></tr>\n",
       "\t<tr><td>member</td><td>Oct</td><td>3921</td><td> 700.7223</td></tr>\n",
       "\t<tr><td>casual</td><td>Nov</td><td>1107</td><td>1964.1861</td></tr>\n",
       "\t<tr><td>member</td><td>Nov</td><td>2634</td><td> 631.6875</td></tr>\n",
       "\t<tr><td>casual</td><td>Dec</td><td> 510</td><td> 928.3608</td></tr>\n",
       "\t<tr><td>member</td><td>Dec</td><td>1444</td><td> 597.2278</td></tr>\n",
       "</tbody>\n",
       "</table>\n"
      ],
      "text/latex": [
       "A grouped\\_df: 22 × 4\n",
       "\\begin{tabular}{llll}\n",
       " member\\_casual & month & number\\_of\\_rides & average\\_duration\\\\\n",
       " <chr> & <ord> & <int> & <dbl>\\\\\n",
       "\\hline\n",
       "\t casual & Jan &  463 & 1170.4190\\\\\n",
       "\t member & Jan & 1680 &  652.1619\\\\\n",
       "\t casual & Feb &  243 &  924.8395\\\\\n",
       "\t member & Feb & 1041 &  962.0346\\\\\n",
       "\t casual & Mar & 1010 & 2082.8604\\\\\n",
       "\t member & Mar & 2057 &  669.1740\\\\\n",
       "\t casual & Apr & 1426 & 1474.8170\\\\\n",
       "\t member & Apr & 2790 &  638.4746\\\\\n",
       "\t casual & Jun & 8329 & 1668.4295\\\\\n",
       "\t member & Jun & 8971 &  868.9544\\\\\n",
       "\t casual & Jul & 4418 & 1516.1722\\\\\n",
       "\t member & Jul & 4700 &  805.9219\\\\\n",
       "\t casual & Aug & 4061 & 2122.9133\\\\\n",
       "\t member & Aug & 4831 &  811.9611\\\\\n",
       "\t casual & Sep & 3309 & 1465.3663\\\\\n",
       "\t member & Sep & 4544 &  759.4118\\\\\n",
       "\t casual & Oct & 2331 & 1828.3492\\\\\n",
       "\t member & Oct & 3921 &  700.7223\\\\\n",
       "\t casual & Nov & 1107 & 1964.1861\\\\\n",
       "\t member & Nov & 2634 &  631.6875\\\\\n",
       "\t casual & Dec &  510 &  928.3608\\\\\n",
       "\t member & Dec & 1444 &  597.2278\\\\\n",
       "\\end{tabular}\n"
      ],
      "text/markdown": [
       "\n",
       "A grouped_df: 22 × 4\n",
       "\n",
       "| member_casual &lt;chr&gt; | month &lt;ord&gt; | number_of_rides &lt;int&gt; | average_duration &lt;dbl&gt; |\n",
       "|---|---|---|---|\n",
       "| casual | Jan |  463 | 1170.4190 |\n",
       "| member | Jan | 1680 |  652.1619 |\n",
       "| casual | Feb |  243 |  924.8395 |\n",
       "| member | Feb | 1041 |  962.0346 |\n",
       "| casual | Mar | 1010 | 2082.8604 |\n",
       "| member | Mar | 2057 |  669.1740 |\n",
       "| casual | Apr | 1426 | 1474.8170 |\n",
       "| member | Apr | 2790 |  638.4746 |\n",
       "| casual | Jun | 8329 | 1668.4295 |\n",
       "| member | Jun | 8971 |  868.9544 |\n",
       "| casual | Jul | 4418 | 1516.1722 |\n",
       "| member | Jul | 4700 |  805.9219 |\n",
       "| casual | Aug | 4061 | 2122.9133 |\n",
       "| member | Aug | 4831 |  811.9611 |\n",
       "| casual | Sep | 3309 | 1465.3663 |\n",
       "| member | Sep | 4544 |  759.4118 |\n",
       "| casual | Oct | 2331 | 1828.3492 |\n",
       "| member | Oct | 3921 |  700.7223 |\n",
       "| casual | Nov | 1107 | 1964.1861 |\n",
       "| member | Nov | 2634 |  631.6875 |\n",
       "| casual | Dec |  510 |  928.3608 |\n",
       "| member | Dec | 1444 |  597.2278 |\n",
       "\n"
      ],
      "text/plain": [
       "   member_casual month number_of_rides average_duration\n",
       "1  casual        Jan    463            1170.4190       \n",
       "2  member        Jan   1680             652.1619       \n",
       "3  casual        Feb    243             924.8395       \n",
       "4  member        Feb   1041             962.0346       \n",
       "5  casual        Mar   1010            2082.8604       \n",
       "6  member        Mar   2057             669.1740       \n",
       "7  casual        Apr   1426            1474.8170       \n",
       "8  member        Apr   2790             638.4746       \n",
       "9  casual        Jun   8329            1668.4295       \n",
       "10 member        Jun   8971             868.9544       \n",
       "11 casual        Jul   4418            1516.1722       \n",
       "12 member        Jul   4700             805.9219       \n",
       "13 casual        Aug   4061            2122.9133       \n",
       "14 member        Aug   4831             811.9611       \n",
       "15 casual        Sep   3309            1465.3663       \n",
       "16 member        Sep   4544             759.4118       \n",
       "17 casual        Oct   2331            1828.3492       \n",
       "18 member        Oct   3921             700.7223       \n",
       "19 casual        Nov   1107            1964.1861       \n",
       "20 member        Nov   2634             631.6875       \n",
       "21 casual        Dec    510             928.3608       \n",
       "22 member        Dec   1444             597.2278       "
      ]
     },
     "metadata": {},
     "output_type": "display_data"
    }
   ],
   "source": [
    "sample_df_v2 %>% \n",
    "  mutate(month = month(started_at, label = TRUE)) %>% \n",
    "  group_by(member_casual, month) %>%\n",
    "  summarise(number_of_rides = n()\n",
    "            ,average_duration = mean(ride_length)) %>% \n",
    "  arrange(month)"
   ]
  },
  {
   "cell_type": "markdown",
   "metadata": {},
   "source": [
    "**Figure(10)**\n",
    "- the number of member and causal at monthly scale."
   ]
  },
  {
   "cell_type": "code",
   "execution_count": 63,
   "metadata": {
    "execution": {
     "iopub.execute_input": "2023-02-22T16:50:12.559724Z",
     "iopub.status.busy": "2023-02-22T16:50:12.557107Z",
     "iopub.status.idle": "2023-02-22T16:50:13.182466Z"
    }
   },
   "outputs": [
    {
     "name": "stderr",
     "output_type": "stream",
     "text": [
      "\u001b[1m\u001b[22m`summarise()` has grouped output by 'member_casual'. You can override using the\n",
      "`.groups` argument.\n"
     ]
    },
    {
     "data": {
      "image/png": "[encoded data removed]"
     },
     "metadata": {
      "image/png": {
       "height": 420,
       "width": 420
      }
     },
     "output_type": "display_data"
    }
   ],
   "source": [
    "sample_df_v2 %>% \n",
    "  mutate(months = month(started_at, label = TRUE)) %>% \n",
    "  group_by(member_casual, months) %>%\n",
    "  summarise(number_of_rides = n()) %>% \n",
    "  arrange(months) %>% \n",
    "  ggplot(aes(x = months,  y = number_of_rides , fill = member_casual)) +\n",
    "  geom_col(position = \"dodge\")+labs(title=\"the total rides of each member and casual at months\")+ xlab(\"Months\")+ylab(\"Total rides\")"
   ]
  },
  {
   "cell_type": "markdown",
   "metadata": {},
   "source": [
    "**Figure(11)** \n",
    "\n",
    "-the average member and casual at monthly scale."
   ]
  },
  {
   "cell_type": "code",
   "execution_count": 64,
   "metadata": {
    "execution": {
     "iopub.execute_input": "2023-02-22T16:59:09.585622Z",
     "iopub.status.busy": "2023-02-22T16:59:09.582875Z",
     "iopub.status.idle": "2023-02-22T16:59:10.930549Z"
    }
   },
   "outputs": [
    {
     "name": "stderr",
     "output_type": "stream",
     "text": [
      "\u001b[1m\u001b[22m`summarise()` has grouped output by 'member_casual'. You can override using the\n",
      "`.groups` argument.\n"
     ]
    },
    {
     "data": {
      "image/png": "[encoded data removed]"
     },
     "metadata": {
      "image/png": {
       "height": 420,
       "width": 420
      }
     },
     "output_type": "display_data"
    }
   ],
   "source": [
    "sample_df_v2 %>% \n",
    "  mutate(month = month(started_at, label = TRUE)) %>% \n",
    "  group_by(member_casual, month) %>%\n",
    "  summarise(average_duration = mean(ride_length)) %>% \n",
    "  arrange(month) %>% \n",
    "  ggplot(aes(x = month,  y =average_duration, fill = member_casual)) +\n",
    "  geom_col(position = \"dodge\")+labs(title=\"the average difference between the member and casual at months\")+xlab(\"Months\")+ylab(\"the mean of rides\")"
   ]
  },
  {
   "cell_type": "markdown",
   "metadata": {},
   "source": [
    "-**FINDING (8)**\n",
    "\n",
    "- > First thing is the demand for bikes keep rising from May to August and then declining to December \n",
    "- > as you can see there is a huge difference between the member and casual from January to April and from October to  December, but the difference keeps shrinking from May to September, especially in summer (June, July, August ) \n",
    "- > in a chart(11) as you can see there is a big difference in the mean ride length of each member and casual \n",
    "- > this difference becomes huge in December this is because as you can see in the table above, the number of ride lengths is small, there is a small number in January too but the sum of ride lengths is also small, as the opposite of December the number of ride length is small but the sum of ride length is big, because of that the mean of December is the greater one \n",
    "\n",
    "-let's see in year scale"
   ]
  },
  {
   "cell_type": "code",
   "execution_count": 65,
   "metadata": {
    "execution": {
     "iopub.execute_input": "2023-02-22T17:02:42.997103Z",
     "iopub.status.busy": "2023-02-22T17:02:42.995313Z",
     "iopub.status.idle": "2023-02-22T17:02:43.066586Z"
    }
   },
   "outputs": [
    {
     "name": "stderr",
     "output_type": "stream",
     "text": [
      "\u001b[1m\u001b[22m`summarise()` has grouped output by 'member_casual'. You can override using the\n",
      "`.groups` argument.\n"
     ]
    },
    {
     "data": {
      "text/html": [
       "<table class=\"dataframe\">\n",
       "<caption>A grouped_df: 4 × 4</caption>\n",
       "<thead>\n",
       "\t<tr><th scope=col>member_casual</th><th scope=col>year</th><th scope=col>number_of_rides</th><th scope=col>average_duration</th></tr>\n",
       "\t<tr><th scope=col>&lt;chr&gt;</th><th scope=col>&lt;dbl&gt;</th><th scope=col>&lt;int&gt;</th><th scope=col>&lt;dbl&gt;</th></tr>\n",
       "</thead>\n",
       "<tbody>\n",
       "\t<tr><td>casual</td><td>2022</td><td>26744</td><td>1697.8036</td></tr>\n",
       "\t<tr><td>member</td><td>2022</td><td>36933</td><td> 768.6806</td></tr>\n",
       "\t<tr><td>casual</td><td>2023</td><td>  463</td><td>1170.4190</td></tr>\n",
       "\t<tr><td>member</td><td>2023</td><td> 1680</td><td> 652.1619</td></tr>\n",
       "</tbody>\n",
       "</table>\n"
      ],
      "text/latex": [
       "A grouped\\_df: 4 × 4\n",
       "\\begin{tabular}{llll}\n",
       " member\\_casual & year & number\\_of\\_rides & average\\_duration\\\\\n",
       " <chr> & <dbl> & <int> & <dbl>\\\\\n",
       "\\hline\n",
       "\t casual & 2022 & 26744 & 1697.8036\\\\\n",
       "\t member & 2022 & 36933 &  768.6806\\\\\n",
       "\t casual & 2023 &   463 & 1170.4190\\\\\n",
       "\t member & 2023 &  1680 &  652.1619\\\\\n",
       "\\end{tabular}\n"
      ],
      "text/markdown": [
       "\n",
       "A grouped_df: 4 × 4\n",
       "\n",
       "| member_casual &lt;chr&gt; | year &lt;dbl&gt; | number_of_rides &lt;int&gt; | average_duration &lt;dbl&gt; |\n",
       "|---|---|---|---|\n",
       "| casual | 2022 | 26744 | 1697.8036 |\n",
       "| member | 2022 | 36933 |  768.6806 |\n",
       "| casual | 2023 |   463 | 1170.4190 |\n",
       "| member | 2023 |  1680 |  652.1619 |\n",
       "\n"
      ],
      "text/plain": [
       "  member_casual year number_of_rides average_duration\n",
       "1 casual        2022 26744           1697.8036       \n",
       "2 member        2022 36933            768.6806       \n",
       "3 casual        2023   463           1170.4190       \n",
       "4 member        2023  1680            652.1619       "
      ]
     },
     "metadata": {},
     "output_type": "display_data"
    }
   ],
   "source": [
    "sample_df_v2 %>% \n",
    "  mutate(year= year(started_at)) %>% \n",
    "  group_by(member_casual, year) %>%\n",
    "  summarise(number_of_rides = n()\n",
    "            ,average_duration = mean(ride_length)) %>% \n",
    "  arrange(year)"
   ]
  },
  {
   "cell_type": "markdown",
   "metadata": {},
   "source": [
    "**RECOMMENDATIONS**\n",
    "-Based on the findings \n",
    "- > first thing of my recommendations is we need to do more surveys on times that the casual is more or equal to member because it is important to know why some casual users didn't prefer to be casual \n",
    "- > we need to do some marketing campings at times that there huge demand by casual \n",
    "- > offer some discount for the membership especially for long rides and during summer and increasing the cost of casual for the long ride\n"
   ]
  },
  {
   "cell_type": "code",
   "execution_count": null,
   "metadata": {},
   "outputs": [],
   "source": []
  }
 ],
 "metadata": {
  "kernelspec": {
   "display_name": "R",
   "language": "R",
   "name": "ir"
  },
  "language_info": {
   "codemirror_mode": "r",
   "file_extension": ".r",
   "mimetype": "text/x-r-source",
   "name": "R",
   "pygments_lexer": "r",
   "version": "4.1.2"
  }
 },
 "nbformat": 4,
 "nbformat_minor": 4
}
